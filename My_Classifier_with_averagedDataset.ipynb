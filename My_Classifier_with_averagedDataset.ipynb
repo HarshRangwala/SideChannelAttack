{
 "cells": [
  {
   "cell_type": "code",
   "execution_count": 1,
   "metadata": {},
   "outputs": [
    {
     "name": "stderr",
     "output_type": "stream",
     "text": [
      "Using TensorFlow backend.\n"
     ]
    },
    {
     "name": "stdout",
     "output_type": "stream",
     "text": [
      "(2444, 6) (2774, 6) (3107, 6) (3440, 6) (3760, 6) (4090, 6) (4449, 6) (4772, 6) (5102, 6)\n"
     ]
    },
    {
     "data": {
      "text/html": [
       "<div>\n",
       "<style scoped>\n",
       "    .dataframe tbody tr th:only-of-type {\n",
       "        vertical-align: middle;\n",
       "    }\n",
       "\n",
       "    .dataframe tbody tr th {\n",
       "        vertical-align: top;\n",
       "    }\n",
       "\n",
       "    .dataframe thead th {\n",
       "        text-align: right;\n",
       "    }\n",
       "</style>\n",
       "<table border=\"1\" class=\"dataframe\">\n",
       "  <thead>\n",
       "    <tr style=\"text-align: right;\">\n",
       "      <th></th>\n",
       "      <th>TimeStamp</th>\n",
       "      <th>X</th>\n",
       "      <th>Y</th>\n",
       "      <th>Z</th>\n",
       "      <th>Magnitude</th>\n",
       "      <th>CoordinateID</th>\n",
       "    </tr>\n",
       "  </thead>\n",
       "  <tbody>\n",
       "    <tr>\n",
       "      <th>0</th>\n",
       "      <td>2020-07-22 05:10:50:003</td>\n",
       "      <td>-17.34</td>\n",
       "      <td>29.519999</td>\n",
       "      <td>-20.520000</td>\n",
       "      <td>27.942548</td>\n",
       "      <td>0</td>\n",
       "    </tr>\n",
       "    <tr>\n",
       "      <th>1</th>\n",
       "      <td>2020-07-22 05:10:50:022</td>\n",
       "      <td>-17.40</td>\n",
       "      <td>29.279999</td>\n",
       "      <td>-20.220000</td>\n",
       "      <td>27.751907</td>\n",
       "      <td>0</td>\n",
       "    </tr>\n",
       "    <tr>\n",
       "      <th>2</th>\n",
       "      <td>2020-07-22 05:10:50:042</td>\n",
       "      <td>-17.22</td>\n",
       "      <td>29.699999</td>\n",
       "      <td>-20.160000</td>\n",
       "      <td>27.610759</td>\n",
       "      <td>0</td>\n",
       "    </tr>\n",
       "    <tr>\n",
       "      <th>3</th>\n",
       "      <td>2020-07-22 05:10:50:062</td>\n",
       "      <td>-17.22</td>\n",
       "      <td>29.279999</td>\n",
       "      <td>-20.460000</td>\n",
       "      <td>27.815462</td>\n",
       "      <td>0</td>\n",
       "    </tr>\n",
       "    <tr>\n",
       "      <th>4</th>\n",
       "      <td>2020-07-22 05:10:50:082</td>\n",
       "      <td>-17.58</td>\n",
       "      <td>29.279999</td>\n",
       "      <td>-20.640000</td>\n",
       "      <td>28.171368</td>\n",
       "      <td>0</td>\n",
       "    </tr>\n",
       "    <tr>\n",
       "      <th>...</th>\n",
       "      <td>...</td>\n",
       "      <td>...</td>\n",
       "      <td>...</td>\n",
       "      <td>...</td>\n",
       "      <td>...</td>\n",
       "      <td>...</td>\n",
       "    </tr>\n",
       "    <tr>\n",
       "      <th>9995</th>\n",
       "      <td>2020-07-22 05:12:17:009</td>\n",
       "      <td>-16.14</td>\n",
       "      <td>29.880000</td>\n",
       "      <td>-22.920000</td>\n",
       "      <td>29.078961</td>\n",
       "      <td>10</td>\n",
       "    </tr>\n",
       "    <tr>\n",
       "      <th>9996</th>\n",
       "      <td>2020-07-22 05:12:17:028</td>\n",
       "      <td>-16.38</td>\n",
       "      <td>29.880000</td>\n",
       "      <td>-23.279999</td>\n",
       "      <td>29.496147</td>\n",
       "      <td>10</td>\n",
       "    </tr>\n",
       "    <tr>\n",
       "      <th>9997</th>\n",
       "      <td>2020-07-22 05:12:17:048</td>\n",
       "      <td>-17.10</td>\n",
       "      <td>30.000000</td>\n",
       "      <td>-23.640000</td>\n",
       "      <td>30.187075</td>\n",
       "      <td>10</td>\n",
       "    </tr>\n",
       "    <tr>\n",
       "      <th>9998</th>\n",
       "      <td>2020-07-22 05:12:17:068</td>\n",
       "      <td>-17.40</td>\n",
       "      <td>30.000000</td>\n",
       "      <td>-23.640000</td>\n",
       "      <td>30.358022</td>\n",
       "      <td>10</td>\n",
       "    </tr>\n",
       "    <tr>\n",
       "      <th>9999</th>\n",
       "      <td>2020-07-22 05:12:17:089</td>\n",
       "      <td>-17.82</td>\n",
       "      <td>29.939999</td>\n",
       "      <td>-23.699999</td>\n",
       "      <td>30.645103</td>\n",
       "      <td>10</td>\n",
       "    </tr>\n",
       "  </tbody>\n",
       "</table>\n",
       "<p>10000 rows × 6 columns</p>\n",
       "</div>"
      ],
      "text/plain": [
       "                    TimeStamp      X          Y          Z  Magnitude  \\\n",
       "0     2020-07-22 05:10:50:003 -17.34  29.519999 -20.520000  27.942548   \n",
       "1     2020-07-22 05:10:50:022 -17.40  29.279999 -20.220000  27.751907   \n",
       "2     2020-07-22 05:10:50:042 -17.22  29.699999 -20.160000  27.610759   \n",
       "3     2020-07-22 05:10:50:062 -17.22  29.279999 -20.460000  27.815462   \n",
       "4     2020-07-22 05:10:50:082 -17.58  29.279999 -20.640000  28.171368   \n",
       "...                       ...    ...        ...        ...        ...   \n",
       "9995  2020-07-22 05:12:17:009 -16.14  29.880000 -22.920000  29.078961   \n",
       "9996  2020-07-22 05:12:17:028 -16.38  29.880000 -23.279999  29.496147   \n",
       "9997  2020-07-22 05:12:17:048 -17.10  30.000000 -23.640000  30.187075   \n",
       "9998  2020-07-22 05:12:17:068 -17.40  30.000000 -23.640000  30.358022   \n",
       "9999  2020-07-22 05:12:17:089 -17.82  29.939999 -23.699999  30.645103   \n",
       "\n",
       "      CoordinateID  \n",
       "0                0  \n",
       "1                0  \n",
       "2                0  \n",
       "3                0  \n",
       "4                0  \n",
       "...            ...  \n",
       "9995            10  \n",
       "9996            10  \n",
       "9997            10  \n",
       "9998            10  \n",
       "9999            10  \n",
       "\n",
       "[10000 rows x 6 columns]"
      ]
     },
     "execution_count": 1,
     "metadata": {},
     "output_type": "execute_result"
    }
   ],
   "source": [
    "import pandas as pd\n",
    "import tensorflow as tf\n",
    "import numpy as np\n",
    "from sklearn.preprocessing import scale\n",
    "from keras.models import Sequential\n",
    "from keras.layers import Dense, Dropout\n",
    "import matplotlib.pyplot as plt\n",
    "import seaborn as sns\n",
    "\n",
    "#pd.set_option('display.max_columns', None)  # or 1000\n",
    "#pd.set_option('display.max_rows', None) \n",
    "\n",
    "sdata = pd.read_csv(r\"D:\\BSC IT DOCX\\Research Papers\\Research Internship-Columbia\\Indoor localization\\New Dataset\\magneticnewcoordinate00.csv\")\n",
    "sdata1 = pd.read_csv(r\"D:\\BSC IT DOCX\\Research Papers\\Research Internship-Columbia\\Indoor localization\\New Dataset\\magneticnewcoordinate01.csv\")\n",
    "sdata2 = pd.read_csv(r\"D:\\BSC IT DOCX\\Research Papers\\Research Internship-Columbia\\Indoor localization\\New Dataset\\magneticnewcoordinate02.csv\")\n",
    "sdata3 = pd.read_csv(r\"D:\\BSC IT DOCX\\Research Papers\\Research Internship-Columbia\\Indoor localization\\New Dataset\\magneticnewcoordinate10.csv\")\n",
    "sdata4 = pd.read_csv(r\"D:\\BSC IT DOCX\\Research Papers\\Research Internship-Columbia\\Indoor localization\\New Dataset\\magneticnewcoordinate11.csv\")\n",
    "sdata5 = pd.read_csv(r\"D:\\BSC IT DOCX\\Research Papers\\Research Internship-Columbia\\Indoor localization\\New Dataset\\magneticnewcoordinate12.csv\")\n",
    "sdata6 = pd.read_csv(r\"D:\\BSC IT DOCX\\Research Papers\\Research Internship-Columbia\\Indoor localization\\New Dataset\\magneticnewcoordinate20.csv\")\n",
    "sdata7 = pd.read_csv(r\"D:\\BSC IT DOCX\\Research Papers\\Research Internship-Columbia\\Indoor localization\\New Dataset\\magneticnewcoordinate21.csv\")\n",
    "sdata8 = pd.read_csv(r\"D:\\BSC IT DOCX\\Research Papers\\Research Internship-Columbia\\Indoor localization\\New Dataset\\magneticnewcoordinate22.csv\")\n",
    "\n",
    "sdata.columns = ['TimeStamp', 'X', 'Y', 'Z', 'Magnitude','CoordinateID']\n",
    "sdata1.columns = ['TimeStamp', 'X', 'Y', 'Z', 'Magnitude','CoordinateID']\n",
    "sdata2.columns = ['TimeStamp', 'X', 'Y', 'Z', 'Magnitude','CoordinateID']\n",
    "sdata3.columns = ['TimeStamp', 'X', 'Y', 'Z', 'Magnitude','CoordinateID']\n",
    "sdata4.columns = ['TimeStamp', 'X', 'Y', 'Z', 'Magnitude','CoordinateID']\n",
    "sdata5.columns = ['TimeStamp', 'X', 'Y', 'Z', 'Magnitude','CoordinateID']\n",
    "sdata6.columns = ['TimeStamp', 'X', 'Y', 'Z', 'Magnitude','CoordinateID']\n",
    "sdata7.columns = ['TimeStamp', 'X', 'Y', 'Z', 'Magnitude','CoordinateID']\n",
    "sdata8.columns = ['TimeStamp', 'X', 'Y', 'Z', 'Magnitude','CoordinateID']\n",
    "\n",
    "print(sdata.shape,\n",
    "sdata1.shape,\n",
    "sdata2.shape,\n",
    "sdata3.shape,\n",
    "sdata4.shape,\n",
    "sdata5.shape,\n",
    "sdata6.shape,\n",
    "sdata7.shape,\n",
    "sdata8.shape)\n",
    "\n",
    "\n",
    "#Exploratory Data Analysis\n",
    "\n",
    "df = pd.concat([sdata, sdata1, sdata2, sdata3,sdata4, sdata5, sdata6, sdata7, sdata8], axis=0)\n",
    "\n",
    "df = df.reset_index(drop=True)\n",
    "\n",
    "df.head(10000)"
   ]
  },
  {
   "cell_type": "code",
   "execution_count": 2,
   "metadata": {},
   "outputs": [
    {
     "data": {
      "text/plain": [
       "<matplotlib.axes._subplots.AxesSubplot at 0x218e4846c88>"
      ]
     },
     "execution_count": 2,
     "metadata": {},
     "output_type": "execute_result"
    },
    {
     "data": {
      "image/png": "[encoded data removed]",
      "text/plain": [
       "<Figure size 864x432 with 2 Axes>"
      ]
     },
     "metadata": {
      "needs_background": "light"
     },
     "output_type": "display_data"
    }
   ],
   "source": [
    "plt.figure(figsize = (12, 6))\n",
    "sns.heatmap(df.corr(), cmap = 'coolwarm', annot = True)"
   ]
  },
  {
   "cell_type": "code",
   "execution_count": 3,
   "metadata": {},
   "outputs": [],
   "source": [
    "grouper = df.groupby(['CoordinateID',df.reset_index().index // 100])\n",
    "new_df = grouper.agg(X = ('X', 'mean'), \n",
    "                     Y = ('Y', 'mean'),\n",
    "                     Z = ('Z', 'mean'),\n",
    "                     Magnitude = ('Magnitude', 'mean')).reset_index(level = 0)"
   ]
  },
  {
   "cell_type": "code",
   "execution_count": 5,
   "metadata": {},
   "outputs": [],
   "source": [
    "# Import train_test_split function\n",
    "from sklearn.model_selection import train_test_split\n",
    "\n",
    "X=new_df[['X', 'Y', 'Z', 'Magnitude']]  # Features\n",
    "y=new_df['CoordinateID']  # Labels\n",
    "\n",
    "# Split dataset into training set and test set\n",
    "X_train, X_test, y_train, y_test = train_test_split(X, y, test_size=0.3, random_state = 42) "
   ]
  },
  {
   "cell_type": "code",
   "execution_count": 6,
   "metadata": {},
   "outputs": [
    {
     "name": "stdout",
     "output_type": "stream",
     "text": [
      "(243, 4) (105, 4) (243,) (105,)\n"
     ]
    }
   ],
   "source": [
    "print(X_train.shape, X_test.shape, y_train.shape, y_test.shape)"
   ]
  },
  {
   "cell_type": "code",
   "execution_count": 24,
   "metadata": {},
   "outputs": [
    {
     "name": "stdout",
     "output_type": "stream",
     "text": [
      "Test Score:  0.09523809523809523\n"
     ]
    }
   ],
   "source": [
    "from sklearn.neighbors import KNeighborsClassifier\n",
    "knn = KNeighborsClassifier(n_neighbors = 2)\n",
    "\n",
    "knn.fit(X_train, y_train)\n",
    "\n",
    "y_pred = knn.predict(X_test)\n",
    "\n",
    "print(\"Test Score: \", knn.score(X_test, y_test))"
   ]
  },
  {
   "cell_type": "code",
   "execution_count": 25,
   "metadata": {},
   "outputs": [
    {
     "data": {
      "text/plain": [
       "0.5102880658436214"
      ]
     },
     "execution_count": 25,
     "metadata": {},
     "output_type": "execute_result"
    }
   ],
   "source": [
    "knn.score(X_train, y_train)"
   ]
  },
  {
   "cell_type": "code",
   "execution_count": 27,
   "metadata": {},
   "outputs": [
    {
     "name": "stdout",
     "output_type": "stream",
     "text": [
      "RMSE value of the KNN Model is: 8.54661169286235\n"
     ]
    }
   ],
   "source": [
    "from sklearn import neighbors\n",
    "from math import sqrt\n",
    "\n",
    "from sklearn import metrics\n",
    "from sklearn.metrics import mean_squared_error\n",
    "\n",
    "Knn = neighbors.KNeighborsRegressor()\n",
    "Knn.fit(X_train, y_train)  \n",
    "error = sqrt(metrics.mean_squared_error( y_test, Knn.predict(X_test))) \n",
    "print('RMSE value of the KNN Model is:', error)"
   ]
  },
  {
   "cell_type": "code",
   "execution_count": 28,
   "metadata": {},
   "outputs": [
    {
     "data": {
      "text/plain": [
       "0.17616600283488026"
      ]
     },
     "execution_count": 28,
     "metadata": {},
     "output_type": "execute_result"
    }
   ],
   "source": [
    "Knn.score(X_train, y_train) "
   ]
  },
  {
   "cell_type": "code",
   "execution_count": 30,
   "metadata": {},
   "outputs": [
    {
     "name": "stdout",
     "output_type": "stream",
     "text": [
      "linear 0.05136764609845734\n"
     ]
    },
    {
     "name": "stderr",
     "output_type": "stream",
     "text": [
      "C:\\Users\\Anuj\\AppData\\Roaming\\Python\\Python37\\site-packages\\sklearn\\svm\\base.py:196: FutureWarning: The default value of gamma will change from 'auto' to 'scale' in version 0.22 to account better for unscaled features. Set gamma explicitly to 'auto' or 'scale' to avoid this warning.\n",
      "  \"avoid this warning.\", FutureWarning)\n"
     ]
    },
    {
     "name": "stdout",
     "output_type": "stream",
     "text": [
      "poly -19.001358152376575\n",
      "rbf 0.09152999395193728\n",
      "sigmoid -0.0195020409966471\n"
     ]
    },
    {
     "name": "stderr",
     "output_type": "stream",
     "text": [
      "C:\\Users\\Anuj\\AppData\\Roaming\\Python\\Python37\\site-packages\\sklearn\\svm\\base.py:196: FutureWarning: The default value of gamma will change from 'auto' to 'scale' in version 0.22 to account better for unscaled features. Set gamma explicitly to 'auto' or 'scale' to avoid this warning.\n",
      "  \"avoid this warning.\", FutureWarning)\n",
      "C:\\Users\\Anuj\\AppData\\Roaming\\Python\\Python37\\site-packages\\sklearn\\svm\\base.py:196: FutureWarning: The default value of gamma will change from 'auto' to 'scale' in version 0.22 to account better for unscaled features. Set gamma explicitly to 'auto' or 'scale' to avoid this warning.\n",
      "  \"avoid this warning.\", FutureWarning)\n"
     ]
    }
   ],
   "source": [
    "from sklearn.svm import SVR\n",
    "from sklearn import svm\n",
    "# First, let's choose which kernel is the best for our data\n",
    "\n",
    "for k in ['linear','poly','rbf','sigmoid']:\n",
    "    clf = svm.SVR(kernel=k)\n",
    "    clf.fit(X_train, y_train)\n",
    "    confidence = clf.score(X_train, y_train)\n",
    "    print(k,confidence)"
   ]
  },
  {
   "cell_type": "code",
   "execution_count": null,
   "metadata": {},
   "outputs": [],
   "source": []
  },
  {
   "cell_type": "code",
   "execution_count": null,
   "metadata": {},
   "outputs": [],
   "source": []
  },
  {
   "cell_type": "code",
   "execution_count": null,
   "metadata": {},
   "outputs": [],
   "source": []
  },
  {
   "cell_type": "code",
   "execution_count": 20,
   "metadata": {},
   "outputs": [],
   "source": [
    "#Import Random Forest Model\n",
    "from sklearn.ensemble import RandomForestClassifier\n",
    "\n",
    "#Create a Gaussian Classifier\n",
    "clf=RandomForestClassifier(n_estimators=150, random_state = 42, class_weight=\"balanced\")\n",
    "\n",
    "#Train the model using the training sets y_pred=clf.predict(X_test)\n",
    "clf.fit(X_train,y_train)\n",
    "\n",
    "y_pred=clf.predict(X_test)\n",
    "\n",
    "print()"
   ]
  },
  {
   "cell_type": "code",
   "execution_count": 21,
   "metadata": {},
   "outputs": [
    {
     "data": {
      "text/plain": [
       "0.9382716049382716"
      ]
     },
     "execution_count": 21,
     "metadata": {},
     "output_type": "execute_result"
    }
   ],
   "source": [
    "clf.score(X_train,y_train)"
   ]
  },
  {
   "cell_type": "code",
   "execution_count": 14,
   "metadata": {},
   "outputs": [
    {
     "name": "stdout",
     "output_type": "stream",
     "text": [
      "Accuracy1: 0.09523809523809523\n"
     ]
    }
   ],
   "source": [
    "#Import scikit-learn metrics module for accuracy calculation\n",
    "from sklearn import metrics\n",
    "\n",
    "print(\"Accuracy1:\",metrics.accuracy_score(y_test, y_pred))"
   ]
  },
  {
   "cell_type": "code",
   "execution_count": 23,
   "metadata": {},
   "outputs": [],
   "source": [
    "import pandas as pd\n",
    "import tensorflow as tf\n",
    "import numpy as np\n",
    "from sklearn.preprocessing import scale\n",
    "from keras.models import Sequential\n",
    "from keras.layers import Dense, Dropout"
   ]
  },
  {
   "cell_type": "code",
   "execution_count": 24,
   "metadata": {},
   "outputs": [
    {
     "data": {
      "text/html": [
       "<div>\n",
       "<style scoped>\n",
       "    .dataframe tbody tr th:only-of-type {\n",
       "        vertical-align: middle;\n",
       "    }\n",
       "\n",
       "    .dataframe tbody tr th {\n",
       "        vertical-align: top;\n",
       "    }\n",
       "\n",
       "    .dataframe thead th {\n",
       "        text-align: right;\n",
       "    }\n",
       "</style>\n",
       "<table border=\"1\" class=\"dataframe\">\n",
       "  <thead>\n",
       "    <tr style=\"text-align: right;\">\n",
       "      <th></th>\n",
       "      <th>CoordinateID</th>\n",
       "      <th>X</th>\n",
       "      <th>Y</th>\n",
       "      <th>Z</th>\n",
       "      <th>Magnitude</th>\n",
       "    </tr>\n",
       "  </thead>\n",
       "  <tbody>\n",
       "    <tr>\n",
       "      <th>0</th>\n",
       "      <td>0</td>\n",
       "      <td>-18.087000</td>\n",
       "      <td>28.823400</td>\n",
       "      <td>-20.743800</td>\n",
       "      <td>28.555537</td>\n",
       "    </tr>\n",
       "    <tr>\n",
       "      <th>1</th>\n",
       "      <td>0</td>\n",
       "      <td>-18.370800</td>\n",
       "      <td>28.099800</td>\n",
       "      <td>-21.407400</td>\n",
       "      <td>29.220094</td>\n",
       "    </tr>\n",
       "    <tr>\n",
       "      <th>2</th>\n",
       "      <td>0</td>\n",
       "      <td>-18.867600</td>\n",
       "      <td>27.093000</td>\n",
       "      <td>-21.903600</td>\n",
       "      <td>29.847360</td>\n",
       "    </tr>\n",
       "    <tr>\n",
       "      <th>3</th>\n",
       "      <td>0</td>\n",
       "      <td>-19.766400</td>\n",
       "      <td>28.293000</td>\n",
       "      <td>-21.047400</td>\n",
       "      <td>29.852645</td>\n",
       "    </tr>\n",
       "    <tr>\n",
       "      <th>4</th>\n",
       "      <td>0</td>\n",
       "      <td>-19.542000</td>\n",
       "      <td>28.279800</td>\n",
       "      <td>-20.700000</td>\n",
       "      <td>29.466536</td>\n",
       "    </tr>\n",
       "    <tr>\n",
       "      <th>...</th>\n",
       "      <td>...</td>\n",
       "      <td>...</td>\n",
       "      <td>...</td>\n",
       "      <td>...</td>\n",
       "      <td>...</td>\n",
       "    </tr>\n",
       "    <tr>\n",
       "      <th>335</th>\n",
       "      <td>22</td>\n",
       "      <td>-19.507200</td>\n",
       "      <td>29.747400</td>\n",
       "      <td>-19.830000</td>\n",
       "      <td>28.877100</td>\n",
       "    </tr>\n",
       "    <tr>\n",
       "      <th>336</th>\n",
       "      <td>22</td>\n",
       "      <td>-17.300400</td>\n",
       "      <td>30.107399</td>\n",
       "      <td>-21.124800</td>\n",
       "      <td>28.399242</td>\n",
       "    </tr>\n",
       "    <tr>\n",
       "      <th>337</th>\n",
       "      <td>22</td>\n",
       "      <td>-17.884800</td>\n",
       "      <td>30.389999</td>\n",
       "      <td>-20.970000</td>\n",
       "      <td>28.645303</td>\n",
       "    </tr>\n",
       "    <tr>\n",
       "      <th>338</th>\n",
       "      <td>22</td>\n",
       "      <td>-18.108600</td>\n",
       "      <td>30.191400</td>\n",
       "      <td>-20.847600</td>\n",
       "      <td>28.693820</td>\n",
       "    </tr>\n",
       "    <tr>\n",
       "      <th>339</th>\n",
       "      <td>22</td>\n",
       "      <td>-19.100526</td>\n",
       "      <td>30.584210</td>\n",
       "      <td>-19.998947</td>\n",
       "      <td>28.755571</td>\n",
       "    </tr>\n",
       "  </tbody>\n",
       "</table>\n",
       "<p>348 rows × 5 columns</p>\n",
       "</div>"
      ],
      "text/plain": [
       "     CoordinateID          X          Y          Z  Magnitude\n",
       "0               0 -18.087000  28.823400 -20.743800  28.555537\n",
       "1               0 -18.370800  28.099800 -21.407400  29.220094\n",
       "2               0 -18.867600  27.093000 -21.903600  29.847360\n",
       "3               0 -19.766400  28.293000 -21.047400  29.852645\n",
       "4               0 -19.542000  28.279800 -20.700000  29.466536\n",
       "..            ...        ...        ...        ...        ...\n",
       "335            22 -19.507200  29.747400 -19.830000  28.877100\n",
       "336            22 -17.300400  30.107399 -21.124800  28.399242\n",
       "337            22 -17.884800  30.389999 -20.970000  28.645303\n",
       "338            22 -18.108600  30.191400 -20.847600  28.693820\n",
       "339            22 -19.100526  30.584210 -19.998947  28.755571\n",
       "\n",
       "[348 rows x 5 columns]"
      ]
     },
     "execution_count": 24,
     "metadata": {},
     "output_type": "execute_result"
    }
   ],
   "source": [
    "train_df = new_df.iloc[:,0:5]\n",
    "train_df"
   ]
  },
  {
   "cell_type": "code",
   "execution_count": 25,
   "metadata": {},
   "outputs": [
    {
     "name": "stdout",
     "output_type": "stream",
     "text": [
      "<class 'pandas.core.frame.DataFrame'>\n",
      "Int64Index: 348 entries, 0 to 339\n",
      "Data columns (total 5 columns):\n",
      " #   Column        Non-Null Count  Dtype  \n",
      "---  ------        --------------  -----  \n",
      " 0   CoordinateID  348 non-null    int64  \n",
      " 1   X             348 non-null    float64\n",
      " 2   Y             348 non-null    float64\n",
      " 3   Z             348 non-null    float64\n",
      " 4   Magnitude     348 non-null    float64\n",
      "dtypes: float64(4), int64(1)\n",
      "memory usage: 16.3 KB\n"
     ]
    }
   ],
   "source": [
    "new_df.info()"
   ]
  },
  {
   "cell_type": "code",
   "execution_count": 26,
   "metadata": {},
   "outputs": [
    {
     "data": {
      "text/html": [
       "<div>\n",
       "<style scoped>\n",
       "    .dataframe tbody tr th:only-of-type {\n",
       "        vertical-align: middle;\n",
       "    }\n",
       "\n",
       "    .dataframe tbody tr th {\n",
       "        vertical-align: top;\n",
       "    }\n",
       "\n",
       "    .dataframe thead th {\n",
       "        text-align: right;\n",
       "    }\n",
       "</style>\n",
       "<table border=\"1\" class=\"dataframe\">\n",
       "  <thead>\n",
       "    <tr style=\"text-align: right;\">\n",
       "      <th></th>\n",
       "      <th>X</th>\n",
       "      <th>Y</th>\n",
       "      <th>Z</th>\n",
       "      <th>Magnitude</th>\n",
       "    </tr>\n",
       "  </thead>\n",
       "  <tbody>\n",
       "    <tr>\n",
       "      <th>0</th>\n",
       "      <td>-18.087000</td>\n",
       "      <td>28.823400</td>\n",
       "      <td>-20.743800</td>\n",
       "      <td>28.555537</td>\n",
       "    </tr>\n",
       "    <tr>\n",
       "      <th>1</th>\n",
       "      <td>-18.370800</td>\n",
       "      <td>28.099800</td>\n",
       "      <td>-21.407400</td>\n",
       "      <td>29.220094</td>\n",
       "    </tr>\n",
       "    <tr>\n",
       "      <th>2</th>\n",
       "      <td>-18.867600</td>\n",
       "      <td>27.093000</td>\n",
       "      <td>-21.903600</td>\n",
       "      <td>29.847360</td>\n",
       "    </tr>\n",
       "    <tr>\n",
       "      <th>3</th>\n",
       "      <td>-19.766400</td>\n",
       "      <td>28.293000</td>\n",
       "      <td>-21.047400</td>\n",
       "      <td>29.852645</td>\n",
       "    </tr>\n",
       "    <tr>\n",
       "      <th>4</th>\n",
       "      <td>-19.542000</td>\n",
       "      <td>28.279800</td>\n",
       "      <td>-20.700000</td>\n",
       "      <td>29.466536</td>\n",
       "    </tr>\n",
       "    <tr>\n",
       "      <th>...</th>\n",
       "      <td>...</td>\n",
       "      <td>...</td>\n",
       "      <td>...</td>\n",
       "      <td>...</td>\n",
       "    </tr>\n",
       "    <tr>\n",
       "      <th>335</th>\n",
       "      <td>-19.507200</td>\n",
       "      <td>29.747400</td>\n",
       "      <td>-19.830000</td>\n",
       "      <td>28.877100</td>\n",
       "    </tr>\n",
       "    <tr>\n",
       "      <th>336</th>\n",
       "      <td>-17.300400</td>\n",
       "      <td>30.107399</td>\n",
       "      <td>-21.124800</td>\n",
       "      <td>28.399242</td>\n",
       "    </tr>\n",
       "    <tr>\n",
       "      <th>337</th>\n",
       "      <td>-17.884800</td>\n",
       "      <td>30.389999</td>\n",
       "      <td>-20.970000</td>\n",
       "      <td>28.645303</td>\n",
       "    </tr>\n",
       "    <tr>\n",
       "      <th>338</th>\n",
       "      <td>-18.108600</td>\n",
       "      <td>30.191400</td>\n",
       "      <td>-20.847600</td>\n",
       "      <td>28.693820</td>\n",
       "    </tr>\n",
       "    <tr>\n",
       "      <th>339</th>\n",
       "      <td>-19.100526</td>\n",
       "      <td>30.584210</td>\n",
       "      <td>-19.998947</td>\n",
       "      <td>28.755571</td>\n",
       "    </tr>\n",
       "  </tbody>\n",
       "</table>\n",
       "<p>348 rows × 4 columns</p>\n",
       "</div>"
      ],
      "text/plain": [
       "             X          Y          Z  Magnitude\n",
       "0   -18.087000  28.823400 -20.743800  28.555537\n",
       "1   -18.370800  28.099800 -21.407400  29.220094\n",
       "2   -18.867600  27.093000 -21.903600  29.847360\n",
       "3   -19.766400  28.293000 -21.047400  29.852645\n",
       "4   -19.542000  28.279800 -20.700000  29.466536\n",
       "..         ...        ...        ...        ...\n",
       "335 -19.507200  29.747400 -19.830000  28.877100\n",
       "336 -17.300400  30.107399 -21.124800  28.399242\n",
       "337 -17.884800  30.389999 -20.970000  28.645303\n",
       "338 -18.108600  30.191400 -20.847600  28.693820\n",
       "339 -19.100526  30.584210 -19.998947  28.755571\n",
       "\n",
       "[348 rows x 4 columns]"
      ]
     },
     "execution_count": 26,
     "metadata": {},
     "output_type": "execute_result"
    }
   ],
   "source": [
    "train_AP_strengths = train_df[['X', 'Y', 'Z', 'Magnitude']]\n",
    "train_AP_strengths"
   ]
  },
  {
   "cell_type": "code",
   "execution_count": 27,
   "metadata": {},
   "outputs": [],
   "source": [
    "#Scale transforms data to center to the mean and component wise scale to unit variance\n",
    "train_AP_features = scale(np.asarray(train_AP_strengths))"
   ]
  },
  {
   "cell_type": "code",
   "execution_count": 28,
   "metadata": {},
   "outputs": [],
   "source": [
    "#Convert coordinates to  a string\n",
    "coordinates = train_df['CoordinateID'].map(str)\n",
    "train_labels = np.asarray(coordinates)"
   ]
  },
  {
   "cell_type": "code",
   "execution_count": 29,
   "metadata": {},
   "outputs": [
    {
     "data": {
      "text/html": [
       "<div>\n",
       "<style scoped>\n",
       "    .dataframe tbody tr th:only-of-type {\n",
       "        vertical-align: middle;\n",
       "    }\n",
       "\n",
       "    .dataframe tbody tr th {\n",
       "        vertical-align: top;\n",
       "    }\n",
       "\n",
       "    .dataframe thead th {\n",
       "        text-align: right;\n",
       "    }\n",
       "</style>\n",
       "<table border=\"1\" class=\"dataframe\">\n",
       "  <thead>\n",
       "    <tr style=\"text-align: right;\">\n",
       "      <th></th>\n",
       "      <th>0</th>\n",
       "      <th>1</th>\n",
       "      <th>10</th>\n",
       "      <th>11</th>\n",
       "      <th>12</th>\n",
       "      <th>2</th>\n",
       "      <th>20</th>\n",
       "      <th>21</th>\n",
       "      <th>22</th>\n",
       "    </tr>\n",
       "  </thead>\n",
       "  <tbody>\n",
       "    <tr>\n",
       "      <th>0</th>\n",
       "      <td>1</td>\n",
       "      <td>0</td>\n",
       "      <td>0</td>\n",
       "      <td>0</td>\n",
       "      <td>0</td>\n",
       "      <td>0</td>\n",
       "      <td>0</td>\n",
       "      <td>0</td>\n",
       "      <td>0</td>\n",
       "    </tr>\n",
       "    <tr>\n",
       "      <th>1</th>\n",
       "      <td>1</td>\n",
       "      <td>0</td>\n",
       "      <td>0</td>\n",
       "      <td>0</td>\n",
       "      <td>0</td>\n",
       "      <td>0</td>\n",
       "      <td>0</td>\n",
       "      <td>0</td>\n",
       "      <td>0</td>\n",
       "    </tr>\n",
       "    <tr>\n",
       "      <th>2</th>\n",
       "      <td>1</td>\n",
       "      <td>0</td>\n",
       "      <td>0</td>\n",
       "      <td>0</td>\n",
       "      <td>0</td>\n",
       "      <td>0</td>\n",
       "      <td>0</td>\n",
       "      <td>0</td>\n",
       "      <td>0</td>\n",
       "    </tr>\n",
       "    <tr>\n",
       "      <th>3</th>\n",
       "      <td>1</td>\n",
       "      <td>0</td>\n",
       "      <td>0</td>\n",
       "      <td>0</td>\n",
       "      <td>0</td>\n",
       "      <td>0</td>\n",
       "      <td>0</td>\n",
       "      <td>0</td>\n",
       "      <td>0</td>\n",
       "    </tr>\n",
       "    <tr>\n",
       "      <th>4</th>\n",
       "      <td>1</td>\n",
       "      <td>0</td>\n",
       "      <td>0</td>\n",
       "      <td>0</td>\n",
       "      <td>0</td>\n",
       "      <td>0</td>\n",
       "      <td>0</td>\n",
       "      <td>0</td>\n",
       "      <td>0</td>\n",
       "    </tr>\n",
       "    <tr>\n",
       "      <th>...</th>\n",
       "      <td>...</td>\n",
       "      <td>...</td>\n",
       "      <td>...</td>\n",
       "      <td>...</td>\n",
       "      <td>...</td>\n",
       "      <td>...</td>\n",
       "      <td>...</td>\n",
       "      <td>...</td>\n",
       "      <td>...</td>\n",
       "    </tr>\n",
       "    <tr>\n",
       "      <th>343</th>\n",
       "      <td>0</td>\n",
       "      <td>0</td>\n",
       "      <td>0</td>\n",
       "      <td>0</td>\n",
       "      <td>0</td>\n",
       "      <td>0</td>\n",
       "      <td>0</td>\n",
       "      <td>0</td>\n",
       "      <td>1</td>\n",
       "    </tr>\n",
       "    <tr>\n",
       "      <th>344</th>\n",
       "      <td>0</td>\n",
       "      <td>0</td>\n",
       "      <td>0</td>\n",
       "      <td>0</td>\n",
       "      <td>0</td>\n",
       "      <td>0</td>\n",
       "      <td>0</td>\n",
       "      <td>0</td>\n",
       "      <td>1</td>\n",
       "    </tr>\n",
       "    <tr>\n",
       "      <th>345</th>\n",
       "      <td>0</td>\n",
       "      <td>0</td>\n",
       "      <td>0</td>\n",
       "      <td>0</td>\n",
       "      <td>0</td>\n",
       "      <td>0</td>\n",
       "      <td>0</td>\n",
       "      <td>0</td>\n",
       "      <td>1</td>\n",
       "    </tr>\n",
       "    <tr>\n",
       "      <th>346</th>\n",
       "      <td>0</td>\n",
       "      <td>0</td>\n",
       "      <td>0</td>\n",
       "      <td>0</td>\n",
       "      <td>0</td>\n",
       "      <td>0</td>\n",
       "      <td>0</td>\n",
       "      <td>0</td>\n",
       "      <td>1</td>\n",
       "    </tr>\n",
       "    <tr>\n",
       "      <th>347</th>\n",
       "      <td>0</td>\n",
       "      <td>0</td>\n",
       "      <td>0</td>\n",
       "      <td>0</td>\n",
       "      <td>0</td>\n",
       "      <td>0</td>\n",
       "      <td>0</td>\n",
       "      <td>0</td>\n",
       "      <td>1</td>\n",
       "    </tr>\n",
       "  </tbody>\n",
       "</table>\n",
       "<p>348 rows × 9 columns</p>\n",
       "</div>"
      ],
      "text/plain": [
       "     0  1  10  11  12  2  20  21  22\n",
       "0    1  0   0   0   0  0   0   0   0\n",
       "1    1  0   0   0   0  0   0   0   0\n",
       "2    1  0   0   0   0  0   0   0   0\n",
       "3    1  0   0   0   0  0   0   0   0\n",
       "4    1  0   0   0   0  0   0   0   0\n",
       "..  .. ..  ..  ..  .. ..  ..  ..  ..\n",
       "343  0  0   0   0   0  0   0   0   1\n",
       "344  0  0   0   0   0  0   0   0   1\n",
       "345  0  0   0   0   0  0   0   0   1\n",
       "346  0  0   0   0   0  0   0   0   1\n",
       "347  0  0   0   0   0  0   0   0   1\n",
       "\n",
       "[348 rows x 9 columns]"
      ]
     },
     "execution_count": 29,
     "metadata": {},
     "output_type": "execute_result"
    }
   ],
   "source": [
    "#convert labels to categorical variables, dummy_labels has type 'pandas.core.frame.DataFrame'\n",
    "dummy_labels = pd.get_dummies(train_labels)\n",
    "dummy_labels"
   ]
  },
  {
   "cell_type": "code",
   "execution_count": 30,
   "metadata": {},
   "outputs": [
    {
     "data": {
      "text/plain": [
       "array([[1, 0, 0, ..., 0, 0, 0],\n",
       "       [1, 0, 0, ..., 0, 0, 0],\n",
       "       [1, 0, 0, ..., 0, 0, 0],\n",
       "       ...,\n",
       "       [0, 0, 0, ..., 0, 0, 1],\n",
       "       [0, 0, 0, ..., 0, 0, 1],\n",
       "       [0, 0, 0, ..., 0, 0, 1]], dtype=uint8)"
      ]
     },
     "execution_count": 30,
     "metadata": {},
     "output_type": "execute_result"
    }
   ],
   "source": [
    "train_labels = np.asarray(dummy_labels) #labels is an array of shape 19937 x 13.\n",
    "train_labels"
   ]
  },
  {
   "cell_type": "code",
   "execution_count": 31,
   "metadata": {},
   "outputs": [],
   "source": [
    "#generate len(train_AP_features) of floats in between 0 and 1\n",
    "train_val_split = np.random.rand(len(train_AP_features))\n",
    "#convert train_val_split to an array of booleans: if elem < 0.7 = true, else: false\n",
    "train_val_split = train_val_split < 0.70 #should contain ~70% percent true"
   ]
  },
  {
   "cell_type": "code",
   "execution_count": 32,
   "metadata": {},
   "outputs": [],
   "source": [
    "train_X = train_AP_features[train_val_split]\n",
    "train_y = train_labels[train_val_split]\n",
    "val_X = train_AP_features[~train_val_split]\n",
    "val_y = train_labels[~train_val_split]"
   ]
  },
  {
   "cell_type": "code",
   "execution_count": 33,
   "metadata": {},
   "outputs": [
    {
     "data": {
      "text/plain": [
       "(240, 4)"
      ]
     },
     "execution_count": 33,
     "metadata": {},
     "output_type": "execute_result"
    }
   ],
   "source": [
    "train_X.shape"
   ]
  },
  {
   "cell_type": "code",
   "execution_count": 42,
   "metadata": {},
   "outputs": [],
   "source": [
    "nb_epochs = 30\n",
    "batch_size = 10\n",
    "input_size = 4\n",
    "num_classes = 9 #Total nine coordinates\n",
    "\n",
    "def encoder():\n",
    "    model = Sequential()\n",
    "    model.add(Dense(256, input_dim=input_size, activation='tanh', bias=True))\n",
    "    model.add(Dense(128, activation='tanh', bias=True))\n",
    "    model.add(Dense(64, activation='tanh', bias=True))\n",
    "    return model\n",
    "\n",
    "def decoder(e):   \n",
    "    e.add(Dense(128, input_dim=64, activation='tanh', bias=True))\n",
    "    e.add(Dense(256, activation='tanh', bias=True))\n",
    "    e.add(Dense(input_size, activation='tanh', bias=True))\n",
    "    e.compile(optimizer='adam', loss='mse')\n",
    "    return e"
   ]
  },
  {
   "cell_type": "code",
   "execution_count": 43,
   "metadata": {},
   "outputs": [
    {
     "name": "stderr",
     "output_type": "stream",
     "text": [
      "C:\\Users\\Anuj\\Anaconda3\\lib\\site-packages\\ipykernel_launcher.py:8: UserWarning: Update your `Dense` call to the Keras 2 API: `Dense(256, input_dim=4, activation=\"tanh\", use_bias=True)`\n",
      "  \n",
      "C:\\Users\\Anuj\\Anaconda3\\lib\\site-packages\\ipykernel_launcher.py:9: UserWarning: Update your `Dense` call to the Keras 2 API: `Dense(128, activation=\"tanh\", use_bias=True)`\n",
      "  if __name__ == '__main__':\n",
      "C:\\Users\\Anuj\\Anaconda3\\lib\\site-packages\\ipykernel_launcher.py:10: UserWarning: Update your `Dense` call to the Keras 2 API: `Dense(64, activation=\"tanh\", use_bias=True)`\n",
      "  # Remove the CWD from sys.path while we load stuff.\n",
      "C:\\Users\\Anuj\\Anaconda3\\lib\\site-packages\\ipykernel_launcher.py:14: UserWarning: Update your `Dense` call to the Keras 2 API: `Dense(128, input_dim=64, activation=\"tanh\", use_bias=True)`\n",
      "  \n",
      "C:\\Users\\Anuj\\Anaconda3\\lib\\site-packages\\ipykernel_launcher.py:15: UserWarning: Update your `Dense` call to the Keras 2 API: `Dense(256, activation=\"tanh\", use_bias=True)`\n",
      "  from ipykernel import kernelapp as app\n",
      "C:\\Users\\Anuj\\Anaconda3\\lib\\site-packages\\ipykernel_launcher.py:16: UserWarning: Update your `Dense` call to the Keras 2 API: `Dense(4, activation=\"tanh\", use_bias=True)`\n",
      "  app.launch_new_instance()\n"
     ]
    }
   ],
   "source": [
    "e = encoder()\n",
    "\n",
    "d = decoder(e)"
   ]
  },
  {
   "cell_type": "code",
   "execution_count": 44,
   "metadata": {},
   "outputs": [
    {
     "name": "stderr",
     "output_type": "stream",
     "text": [
      "C:\\Users\\Anuj\\Anaconda3\\lib\\site-packages\\ipykernel_launcher.py:1: UserWarning: The `nb_epoch` argument in `fit` has been renamed `epochs`.\n",
      "  \"\"\"Entry point for launching an IPython kernel.\n"
     ]
    },
    {
     "name": "stdout",
     "output_type": "stream",
     "text": [
      "Epoch 1/30\n",
      "240/240 [==============================] - 1s 3ms/step - loss: 0.2433\n",
      "Epoch 2/30\n",
      "240/240 [==============================] - 0s 1ms/step - loss: 0.1503\n",
      "Epoch 3/30\n",
      "240/240 [==============================] - 0s 1ms/step - loss: 0.1391\n",
      "Epoch 4/30\n",
      "240/240 [==============================] - 0s 1ms/step - loss: 0.1358\n",
      "Epoch 5/30\n",
      "240/240 [==============================] - 0s 1ms/step - loss: 0.1350\n",
      "Epoch 6/30\n",
      "240/240 [==============================] - 0s 1ms/step - loss: 0.1345A: 0s - loss: 0.1\n",
      "Epoch 7/30\n",
      "240/240 [==============================] - 0s 1ms/step - loss: 0.1341\n",
      "Epoch 8/30\n",
      "240/240 [==============================] - 0s 911us/step - loss: 0.1324\n",
      "Epoch 9/30\n",
      "240/240 [==============================] - 0s 882us/step - loss: 0.1338\n",
      "Epoch 10/30\n",
      "240/240 [==============================] - 0s 900us/step - loss: 0.1354\n",
      "Epoch 11/30\n",
      "240/240 [==============================] - 0s 893us/step - loss: 0.1326\n",
      "Epoch 12/30\n",
      "240/240 [==============================] - 0s 796us/step - loss: 0.1320\n",
      "Epoch 13/30\n",
      "240/240 [==============================] - 0s 825us/step - loss: 0.1304\n",
      "Epoch 14/30\n",
      "240/240 [==============================] - 0s 713us/step - loss: 0.1309\n",
      "Epoch 15/30\n",
      "240/240 [==============================] - 0s 715us/step - loss: 0.1343\n",
      "Epoch 16/30\n",
      "240/240 [==============================] - 0s 887us/step - loss: 0.1371\n",
      "Epoch 17/30\n",
      "240/240 [==============================] - 0s 762us/step - loss: 0.1331\n",
      "Epoch 18/30\n",
      "240/240 [==============================] - 0s 765us/step - loss: 0.1315\n",
      "Epoch 19/30\n",
      "240/240 [==============================] - 0s 1ms/step - loss: 0.1308\n",
      "Epoch 20/30\n",
      "240/240 [==============================] - 0s 1ms/step - loss: 0.1302\n",
      "Epoch 21/30\n",
      "240/240 [==============================] - 0s 988us/step - loss: 0.1312\n",
      "Epoch 22/30\n",
      "240/240 [==============================] - 0s 704us/step - loss: 0.1305\n",
      "Epoch 23/30\n",
      "240/240 [==============================] - 0s 875us/step - loss: 0.1317\n",
      "Epoch 24/30\n",
      "240/240 [==============================] - 0s 697us/step - loss: 0.1314\n",
      "Epoch 25/30\n",
      "240/240 [==============================] - 0s 700us/step - loss: 0.1306\n",
      "Epoch 26/30\n",
      "240/240 [==============================] - ETA: 0s - loss: 0.122 - 0s 528us/step - loss: 0.1302\n",
      "Epoch 27/30\n",
      "240/240 [==============================] - 0s 549us/step - loss: 0.1315\n",
      "Epoch 28/30\n",
      "240/240 [==============================] - 0s 528us/step - loss: 0.1294\n",
      "Epoch 29/30\n",
      "240/240 [==============================] - 0s 550us/step - loss: 0.1294\n",
      "Epoch 30/30\n",
      "240/240 [==============================] - 0s 581us/step - loss: 0.1299\n"
     ]
    },
    {
     "data": {
      "text/plain": [
       "<keras.callbacks.callbacks.History at 0x1d6aeac3848>"
      ]
     },
     "execution_count": 44,
     "metadata": {},
     "output_type": "execute_result"
    }
   ],
   "source": [
    "d.fit(train_X, train_X, nb_epoch=nb_epochs, batch_size=batch_size)"
   ]
  },
  {
   "cell_type": "code",
   "execution_count": 45,
   "metadata": {},
   "outputs": [],
   "source": [
    "def classifier(d):\n",
    "    num_to_remove = 3\n",
    "    for i in range(num_to_remove):\n",
    "        d.pop()\n",
    "    d.add(Dense(128, input_dim=64, activation='tanh', bias=True))\n",
    "    d.add(Dense(128, activation='tanh', bias=True))\n",
    "    d.add(Dense(num_classes, activation='softmax', bias=True))\n",
    "    d.compile(optimizer='adam', loss='categorical_crossentropy',metrics=['accuracy'])\n",
    "    return d"
   ]
  },
  {
   "cell_type": "code",
   "execution_count": 46,
   "metadata": {},
   "outputs": [
    {
     "name": "stderr",
     "output_type": "stream",
     "text": [
      "C:\\Users\\Anuj\\Anaconda3\\lib\\site-packages\\ipykernel_launcher.py:5: UserWarning: Update your `Dense` call to the Keras 2 API: `Dense(128, input_dim=64, activation=\"tanh\", use_bias=True)`\n",
      "  \"\"\"\n",
      "C:\\Users\\Anuj\\Anaconda3\\lib\\site-packages\\ipykernel_launcher.py:6: UserWarning: Update your `Dense` call to the Keras 2 API: `Dense(128, activation=\"tanh\", use_bias=True)`\n",
      "  \n",
      "C:\\Users\\Anuj\\Anaconda3\\lib\\site-packages\\ipykernel_launcher.py:7: UserWarning: Update your `Dense` call to the Keras 2 API: `Dense(9, activation=\"softmax\", use_bias=True)`\n",
      "  import sys\n"
     ]
    }
   ],
   "source": [
    "c = classifier(d)"
   ]
  },
  {
   "cell_type": "code",
   "execution_count": 47,
   "metadata": {},
   "outputs": [
    {
     "name": "stderr",
     "output_type": "stream",
     "text": [
      "C:\\Users\\Anuj\\Anaconda3\\lib\\site-packages\\ipykernel_launcher.py:1: UserWarning: The `nb_epoch` argument in `fit` has been renamed `epochs`.\n",
      "  \"\"\"Entry point for launching an IPython kernel.\n"
     ]
    },
    {
     "name": "stdout",
     "output_type": "stream",
     "text": [
      "Train on 240 samples, validate on 108 samples\n",
      "Epoch 1/30\n",
      "240/240 [==============================] - 1s 5ms/step - loss: 2.2943 - accuracy: 0.1250 - val_loss: 2.2115 - val_accuracy: 0.1296\n",
      "Epoch 2/30\n",
      "240/240 [==============================] - 0s 1ms/step - loss: 2.2078 - accuracy: 0.1167 - val_loss: 2.2282 - val_accuracy: 0.1389\n",
      "Epoch 3/30\n",
      "240/240 [==============================] - 0s 1ms/step - loss: 2.1827 - accuracy: 0.1250 - val_loss: 2.2061 - val_accuracy: 0.1204\n",
      "Epoch 4/30\n",
      "240/240 [==============================] - 0s 1ms/step - loss: 2.1611 - accuracy: 0.1667 - val_loss: 2.2341 - val_accuracy: 0.0926\n",
      "Epoch 5/30\n",
      "240/240 [==============================] - 0s 1ms/step - loss: 2.1588 - accuracy: 0.1667 - val_loss: 2.2237 - val_accuracy: 0.0926\n",
      "Epoch 6/30\n",
      "240/240 [==============================] - 0s 1ms/step - loss: 2.1648 - accuracy: 0.1500 - val_loss: 2.1991 - val_accuracy: 0.1111\n",
      "Epoch 7/30\n",
      "240/240 [==============================] - 0s 1ms/step - loss: 2.1565 - accuracy: 0.1583 - val_loss: 2.2129 - val_accuracy: 0.1389\n",
      "Epoch 8/30\n",
      "240/240 [==============================] - 0s 1ms/step - loss: 2.1568 - accuracy: 0.1542 - val_loss: 2.2142 - val_accuracy: 0.1204\n",
      "Epoch 9/30\n",
      "240/240 [==============================] - 0s 1ms/step - loss: 2.1534 - accuracy: 0.1667 - val_loss: 2.2277 - val_accuracy: 0.0926\n",
      "Epoch 10/30\n",
      "240/240 [==============================] - 0s 1ms/step - loss: 2.1554 - accuracy: 0.1375 - val_loss: 2.2084 - val_accuracy: 0.1111\n",
      "Epoch 11/30\n",
      "240/240 [==============================] - 0s 720us/step - loss: 2.1528 - accuracy: 0.1708 - val_loss: 2.2062 - val_accuracy: 0.0926\n",
      "Epoch 12/30\n",
      "240/240 [==============================] - 0s 925us/step - loss: 2.1473 - accuracy: 0.1667 - val_loss: 2.2081 - val_accuracy: 0.0926\n",
      "Epoch 13/30\n",
      "240/240 [==============================] - 0s 879us/step - loss: 2.1487 - accuracy: 0.1750 - val_loss: 2.2137 - val_accuracy: 0.1204\n",
      "Epoch 14/30\n",
      "240/240 [==============================] - 0s 1ms/step - loss: 2.1609 - accuracy: 0.1458 - val_loss: 2.2326 - val_accuracy: 0.1019\n",
      "Epoch 15/30\n",
      "240/240 [==============================] - 0s 1ms/step - loss: 2.1440 - accuracy: 0.1542 - val_loss: 2.2037 - val_accuracy: 0.1204\n",
      "Epoch 16/30\n",
      "240/240 [==============================] - 0s 767us/step - loss: 2.1475 - accuracy: 0.1500 - val_loss: 2.2112 - val_accuracy: 0.1111\n",
      "Epoch 17/30\n",
      "240/240 [==============================] - 0s 683us/step - loss: 2.1472 - accuracy: 0.1542 - val_loss: 2.2227 - val_accuracy: 0.1019\n",
      "Epoch 18/30\n",
      "240/240 [==============================] - 0s 693us/step - loss: 2.1462 - accuracy: 0.1625 - val_loss: 2.2098 - val_accuracy: 0.1019\n",
      "Epoch 19/30\n",
      "240/240 [==============================] - 0s 763us/step - loss: 2.1495 - accuracy: 0.1542 - val_loss: 2.2133 - val_accuracy: 0.1204\n",
      "Epoch 20/30\n",
      "240/240 [==============================] - 0s 1ms/step - loss: 2.1480 - accuracy: 0.1500 - val_loss: 2.2076 - val_accuracy: 0.1111\n",
      "Epoch 21/30\n",
      "240/240 [==============================] - 0s 683us/step - loss: 2.1410 - accuracy: 0.1458 - val_loss: 2.2165 - val_accuracy: 0.1111\n",
      "Epoch 22/30\n",
      "240/240 [==============================] - 0s 534us/step - loss: 2.1480 - accuracy: 0.1458 - val_loss: 2.2115 - val_accuracy: 0.0926\n",
      "Epoch 23/30\n",
      "240/240 [==============================] - 0s 642us/step - loss: 2.1452 - accuracy: 0.1792 - val_loss: 2.2266 - val_accuracy: 0.1019\n",
      "Epoch 24/30\n",
      "240/240 [==============================] - 0s 615us/step - loss: 2.1533 - accuracy: 0.1583 - val_loss: 2.2231 - val_accuracy: 0.0926\n",
      "Epoch 25/30\n",
      "240/240 [==============================] - 0s 545us/step - loss: 2.1457 - accuracy: 0.1708 - val_loss: 2.2102 - val_accuracy: 0.1111\n",
      "Epoch 26/30\n",
      "240/240 [==============================] - 0s 558us/step - loss: 2.1485 - accuracy: 0.1750 - val_loss: 2.2180 - val_accuracy: 0.1019\n",
      "Epoch 27/30\n",
      "240/240 [==============================] - 0s 628us/step - loss: 2.1517 - accuracy: 0.1500 - val_loss: 2.2279 - val_accuracy: 0.1019\n",
      "Epoch 28/30\n",
      "240/240 [==============================] - 0s 647us/step - loss: 2.1563 - accuracy: 0.1583 - val_loss: 2.2237 - val_accuracy: 0.1111\n",
      "Epoch 29/30\n",
      "240/240 [==============================] - 0s 601us/step - loss: 2.1454 - accuracy: 0.1417 - val_loss: 2.2120 - val_accuracy: 0.1019\n",
      "Epoch 30/30\n",
      "240/240 [==============================] - 0s 609us/step - loss: 2.1414 - accuracy: 0.1708 - val_loss: 2.2277 - val_accuracy: 0.1019\n"
     ]
    },
    {
     "data": {
      "text/plain": [
       "<keras.callbacks.callbacks.History at 0x1d6b0b3a488>"
      ]
     },
     "execution_count": 47,
     "metadata": {},
     "output_type": "execute_result"
    }
   ],
   "source": [
    "c.fit(train_X, train_y, validation_data=(val_X, val_y), nb_epoch=nb_epochs, batch_size=batch_size , shuffle = True)"
   ]
  },
  {
   "cell_type": "code",
   "execution_count": 48,
   "metadata": {},
   "outputs": [
    {
     "name": "stdout",
     "output_type": "stream",
     "text": [
      "348/348 [==============================] - 0s 115us/step\n",
      "2.157228886396035 0.1551724076271057\n"
     ]
    }
   ],
   "source": [
    "loss, acc = c.evaluate(train_AP_features, train_labels)\n",
    "print(loss, acc)"
   ]
  },
  {
   "cell_type": "code",
   "execution_count": null,
   "metadata": {},
   "outputs": [],
   "source": []
  }
 ],
 "metadata": {
  "kernelspec": {
   "display_name": "Python 3",
   "language": "python",
   "name": "python3"
  },
  "language_info": {
   "codemirror_mode": {
    "name": "ipython",
    "version": 3
   },
   "file_extension": ".py",
   "mimetype": "text/x-python",
   "name": "python",
   "nbconvert_exporter": "python",
   "pygments_lexer": "ipython3",
   "version": "3.7.6"
  }
 },
 "nbformat": 4,
 "nbformat_minor": 4
}
