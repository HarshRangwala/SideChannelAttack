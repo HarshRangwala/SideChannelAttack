{
 "cells": [
  {
   "cell_type": "code",
   "execution_count": 1,
   "metadata": {},
   "outputs": [
    {
     "name": "stderr",
     "output_type": "stream",
     "text": [
      "Using TensorFlow backend.\n"
     ]
    }
   ],
   "source": [
    "import pandas as pd\n",
    "import tensorflow as tf\n",
    "import numpy as np\n",
    "from sklearn.preprocessing import scale\n",
    "from keras.models import Sequential\n",
    "from keras.layers import Dense, Dropout\n",
    "import matplotlib.pyplot as plt\n",
    "import seaborn as sns\n",
    "from statsmodels.graphics.tsaplots import plot_acf, plot_pacf\n",
    "import warnings\n",
    "warnings.filterwarnings(\"ignore\")"
   ]
  },
  {
   "cell_type": "markdown",
   "metadata": {},
   "source": [
    "## Data preparation"
   ]
  },
  {
   "cell_type": "code",
   "execution_count": 2,
   "metadata": {},
   "outputs": [],
   "source": [
    "sdata = pd.read_csv(r\"D:\\BSC IT DOCX\\Research Papers\\Research Internship-Columbia\\Indoor localization\\DatasetV2\\magnetichall103update.csv\")\n",
    "sdata1 = pd.read_csv(r\"D:\\BSC IT DOCX\\Research Papers\\Research Internship-Columbia\\Indoor localization\\DatasetV2\\magnetickitchen206updateV2.csv\")\n",
    "sdata2 = pd.read_csv(r\"D:\\BSC IT DOCX\\Research Papers\\Research Internship-Columbia\\Indoor localization\\DatasetV2\\magneticroom304update.csv\")\n",
    "\n",
    "sdata.columns = ['TimeStamp', 'X', 'Y', 'Z', 'Magnitude', 'CoordinateID']\n",
    "sdata1.columns = ['TimeStamp', 'X', 'Y', 'Z', 'Magnitude', 'CoordinateID']\n",
    "sdata2.columns = ['TimeStamp', 'X', 'Y', 'Z', 'Magnitude', 'CoordinateID']"
   ]
  },
  {
   "cell_type": "code",
   "execution_count": 3,
   "metadata": {},
   "outputs": [
    {
     "name": "stdout",
     "output_type": "stream",
     "text": [
      "(1332, 6) (1558, 6) (1610, 6)\n"
     ]
    },
    {
     "data": {
      "text/html": [
       "<div>\n",
       "<style scoped>\n",
       "    .dataframe tbody tr th:only-of-type {\n",
       "        vertical-align: middle;\n",
       "    }\n",
       "\n",
       "    .dataframe tbody tr th {\n",
       "        vertical-align: top;\n",
       "    }\n",
       "\n",
       "    .dataframe thead th {\n",
       "        text-align: right;\n",
       "    }\n",
       "</style>\n",
       "<table border=\"1\" class=\"dataframe\">\n",
       "  <thead>\n",
       "    <tr style=\"text-align: right;\">\n",
       "      <th></th>\n",
       "      <th>TimeStamp</th>\n",
       "      <th>X</th>\n",
       "      <th>Y</th>\n",
       "      <th>Z</th>\n",
       "      <th>Magnitude</th>\n",
       "      <th>CoordinateID</th>\n",
       "    </tr>\n",
       "  </thead>\n",
       "  <tbody>\n",
       "    <tr>\n",
       "      <th>0</th>\n",
       "      <td>2020-08-19 07:53:37:962</td>\n",
       "      <td>21.240000</td>\n",
       "      <td>-33.360000</td>\n",
       "      <td>-16.560000</td>\n",
       "      <td>25.664200</td>\n",
       "      <td>1</td>\n",
       "    </tr>\n",
       "    <tr>\n",
       "      <th>1</th>\n",
       "      <td>2020-08-19 07:53:37:982</td>\n",
       "      <td>21.300000</td>\n",
       "      <td>-33.540000</td>\n",
       "      <td>-16.500000</td>\n",
       "      <td>25.668268</td>\n",
       "      <td>1</td>\n",
       "    </tr>\n",
       "    <tr>\n",
       "      <th>2</th>\n",
       "      <td>2020-08-19 07:53:38:002</td>\n",
       "      <td>20.699999</td>\n",
       "      <td>-33.780000</td>\n",
       "      <td>-16.500000</td>\n",
       "      <td>25.163067</td>\n",
       "      <td>1</td>\n",
       "    </tr>\n",
       "    <tr>\n",
       "      <th>3</th>\n",
       "      <td>2020-08-19 07:53:38:022</td>\n",
       "      <td>20.939999</td>\n",
       "      <td>-33.660000</td>\n",
       "      <td>-16.320000</td>\n",
       "      <td>25.248880</td>\n",
       "      <td>1</td>\n",
       "    </tr>\n",
       "    <tr>\n",
       "      <th>4</th>\n",
       "      <td>2020-08-19 07:53:38:041</td>\n",
       "      <td>20.880000</td>\n",
       "      <td>-33.239998</td>\n",
       "      <td>-16.500000</td>\n",
       "      <td>25.332674</td>\n",
       "      <td>1</td>\n",
       "    </tr>\n",
       "    <tr>\n",
       "      <th>...</th>\n",
       "      <td>...</td>\n",
       "      <td>...</td>\n",
       "      <td>...</td>\n",
       "      <td>...</td>\n",
       "      <td>...</td>\n",
       "      <td>...</td>\n",
       "    </tr>\n",
       "    <tr>\n",
       "      <th>995</th>\n",
       "      <td>2020-08-19 07:54:39:599</td>\n",
       "      <td>20.939999</td>\n",
       "      <td>-35.579998</td>\n",
       "      <td>-13.259999</td>\n",
       "      <td>23.305603</td>\n",
       "      <td>1</td>\n",
       "    </tr>\n",
       "    <tr>\n",
       "      <th>996</th>\n",
       "      <td>2020-08-19 07:54:39:619</td>\n",
       "      <td>21.060000</td>\n",
       "      <td>-36.059998</td>\n",
       "      <td>-13.139999</td>\n",
       "      <td>23.325162</td>\n",
       "      <td>1</td>\n",
       "    </tr>\n",
       "    <tr>\n",
       "      <th>997</th>\n",
       "      <td>2020-08-19 07:54:39:640</td>\n",
       "      <td>20.820000</td>\n",
       "      <td>-35.820000</td>\n",
       "      <td>-13.559999</td>\n",
       "      <td>23.360351</td>\n",
       "      <td>1</td>\n",
       "    </tr>\n",
       "    <tr>\n",
       "      <th>998</th>\n",
       "      <td>2020-08-19 07:54:39:659</td>\n",
       "      <td>21.000000</td>\n",
       "      <td>-35.520000</td>\n",
       "      <td>-13.679999</td>\n",
       "      <td>23.603016</td>\n",
       "      <td>1</td>\n",
       "    </tr>\n",
       "    <tr>\n",
       "      <th>999</th>\n",
       "      <td>2020-08-19 07:54:39:679</td>\n",
       "      <td>20.880000</td>\n",
       "      <td>-35.399998</td>\n",
       "      <td>-13.620000</td>\n",
       "      <td>23.466546</td>\n",
       "      <td>1</td>\n",
       "    </tr>\n",
       "  </tbody>\n",
       "</table>\n",
       "<p>1000 rows × 6 columns</p>\n",
       "</div>"
      ],
      "text/plain": [
       "                   TimeStamp          X          Y          Z  Magnitude  \\\n",
       "0    2020-08-19 07:53:37:962  21.240000 -33.360000 -16.560000  25.664200   \n",
       "1    2020-08-19 07:53:37:982  21.300000 -33.540000 -16.500000  25.668268   \n",
       "2    2020-08-19 07:53:38:002  20.699999 -33.780000 -16.500000  25.163067   \n",
       "3    2020-08-19 07:53:38:022  20.939999 -33.660000 -16.320000  25.248880   \n",
       "4    2020-08-19 07:53:38:041  20.880000 -33.239998 -16.500000  25.332674   \n",
       "..                       ...        ...        ...        ...        ...   \n",
       "995  2020-08-19 07:54:39:599  20.939999 -35.579998 -13.259999  23.305603   \n",
       "996  2020-08-19 07:54:39:619  21.060000 -36.059998 -13.139999  23.325162   \n",
       "997  2020-08-19 07:54:39:640  20.820000 -35.820000 -13.559999  23.360351   \n",
       "998  2020-08-19 07:54:39:659  21.000000 -35.520000 -13.679999  23.603016   \n",
       "999  2020-08-19 07:54:39:679  20.880000 -35.399998 -13.620000  23.466546   \n",
       "\n",
       "     CoordinateID  \n",
       "0               1  \n",
       "1               1  \n",
       "2               1  \n",
       "3               1  \n",
       "4               1  \n",
       "..            ...  \n",
       "995             1  \n",
       "996             1  \n",
       "997             1  \n",
       "998             1  \n",
       "999             1  \n",
       "\n",
       "[1000 rows x 6 columns]"
      ]
     },
     "execution_count": 3,
     "metadata": {},
     "output_type": "execute_result"
    }
   ],
   "source": [
    "# Check the shape of the data\n",
    "\n",
    "print(sdata.shape,\n",
    "sdata1.shape,\n",
    "sdata2.shape)\n",
    "\n",
    "\n",
    "#Exploratory Data Analysis\n",
    "\n",
    "df = pd.concat([sdata, sdata1, sdata2], axis=0)\n",
    "\n",
    "df = df.reset_index(drop=True)\n",
    "\n",
    "df.head(1000)"
   ]
  },
  {
   "cell_type": "markdown",
   "metadata": {},
   "source": [
    "## Data Visualization"
   ]
  },
  {
   "cell_type": "code",
   "execution_count": 4,
   "metadata": {},
   "outputs": [
    {
     "data": {
      "text/plain": [
       "<matplotlib.axes._subplots.AxesSubplot at 0x216aea19a08>"
      ]
     },
     "execution_count": 4,
     "metadata": {},
     "output_type": "execute_result"
    },
    {
     "data": {
      "image/png": "[encoded data removed]",
      "text/plain": [
       "<Figure size 864x432 with 2 Axes>"
      ]
     },
     "metadata": {
      "needs_background": "light"
     },
     "output_type": "display_data"
    }
   ],
   "source": [
    "plt.figure(figsize = (12, 6))\n",
    "sns.heatmap(df[['X', 'Y', 'Z', 'Magnitude', 'CoordinateID']].corr(), cmap = 'coolwarm', annot = True)"
   ]
  },
  {
   "cell_type": "code",
   "execution_count": 5,
   "metadata": {},
   "outputs": [
    {
     "data": {
      "image/png": "[encoded data removed]",
      "text/plain": [
       "<Figure size 432x288 with 1 Axes>"
      ]
     },
     "metadata": {
      "needs_background": "light"
     },
     "output_type": "display_data"
    }
   ],
   "source": [
    "plot_acf(df['X'])\n",
    "plt.show()"
   ]
  },
  {
   "cell_type": "code",
   "execution_count": 6,
   "metadata": {},
   "outputs": [
    {
     "data": {
      "image/png": "[encoded data removed]",
      "text/plain": [
       "<Figure size 432x288 with 1 Axes>"
      ]
     },
     "metadata": {
      "needs_background": "light"
     },
     "output_type": "display_data"
    }
   ],
   "source": [
    "ax = sns.countplot(df['CoordinateID'])\n",
    "plt.title('Bar plot - CoordinateID')\n",
    "plt.show()"
   ]
  },
  {
   "cell_type": "code",
   "execution_count": 7,
   "metadata": {},
   "outputs": [
    {
     "data": {
      "image/png": "[encoded data removed]",
      "text/plain": [
       "<Figure size 432x288 with 1 Axes>"
      ]
     },
     "metadata": {
      "needs_background": "light"
     },
     "output_type": "display_data"
    },
    {
     "data": {
      "image/png": "[encoded data removed]",
      "text/plain": [
       "<Figure size 432x288 with 1 Axes>"
      ]
     },
     "metadata": {
      "needs_background": "light"
     },
     "output_type": "display_data"
    }
   ],
   "source": [
    "from mpl_toolkits.mplot3d import Axes3D\n",
    "import matplotlib.pyplot as plt\n",
    "import numpy as np\n",
    "\n",
    "# Create Map\n",
    "cm = plt.get_cmap('copper')\n",
    "\n",
    "x, y, z = df['X'], df['Y'], df['Z']\n",
    "col = df['CoordinateID']\n",
    "\n",
    "# 2D Plot\n",
    "fig = plt.figure()\n",
    "ax = fig.add_subplot(111)\n",
    "ax.scatter(x, y, s=10, c=col, cmap = cm, marker='o')  \n",
    "\n",
    "# 3D Plot\n",
    "fig = plt.figure()\n",
    "ax3D = fig.add_subplot(111, projection='3d')\n",
    "p3d = ax3D.scatter(x, y, z, s=30, c=col, cmap = cm, marker='o')                                                                                \n",
    "\n",
    "plt.show()"
   ]
  },
  {
   "cell_type": "markdown",
   "metadata": {},
   "source": [
    "## Classifiers"
   ]
  },
  {
   "cell_type": "code",
   "execution_count": 8,
   "metadata": {},
   "outputs": [],
   "source": [
    "# Import train_test_split function\n",
    "from sklearn.model_selection import train_test_split\n",
    "\n",
    "X=df[['X', 'Y', 'Z', 'Magnitude']]  # Features\n",
    "y=df['CoordinateID']  # Labels\n",
    "\n",
    "# Split dataset into training set and test set\n",
    "X_train, X_test, y_train, y_test = train_test_split(X, y, test_size=0.1) "
   ]
  },
  {
   "cell_type": "code",
   "execution_count": 9,
   "metadata": {},
   "outputs": [
    {
     "name": "stdout",
     "output_type": "stream",
     "text": [
      "(4050, 4) (450, 4) (4050,) (450,)\n"
     ]
    }
   ],
   "source": [
    "print(X_train.shape, X_test.shape, y_train.shape, y_test.shape)"
   ]
  },
  {
   "cell_type": "code",
   "execution_count": 10,
   "metadata": {},
   "outputs": [
    {
     "ename": "ModuleNotFoundError",
     "evalue": "No module named 'sktime'",
     "output_type": "error",
     "traceback": [
      "\u001b[1;31m---------------------------------------------------------------------------\u001b[0m",
      "\u001b[1;31mModuleNotFoundError\u001b[0m                       Traceback (most recent call last)",
      "\u001b[1;32m<ipython-input-10-6d2e9dc94da5>\u001b[0m in \u001b[0;36m<module>\u001b[1;34m\u001b[0m\n\u001b[1;32m----> 1\u001b[1;33m \u001b[1;32mfrom\u001b[0m \u001b[0msktime\u001b[0m\u001b[1;33m.\u001b[0m\u001b[0mtransformers\u001b[0m\u001b[1;33m.\u001b[0m\u001b[0mseries_as_features\u001b[0m\u001b[1;33m.\u001b[0m\u001b[0msummarize\u001b[0m \u001b[1;32mimport\u001b[0m \u001b[0mTSFreshFeatureExtractor\u001b[0m\u001b[1;33m\u001b[0m\u001b[1;33m\u001b[0m\u001b[0m\n\u001b[0m\u001b[0;32m      2\u001b[0m \u001b[1;33m\u001b[0m\u001b[0m\n\u001b[0;32m      3\u001b[0m \u001b[0mclassifier\u001b[0m \u001b[1;33m=\u001b[0m \u001b[0mmake_pipeline\u001b[0m\u001b[1;33m(\u001b[0m\u001b[0mTSFreshFeatureExtractor\u001b[0m\u001b[1;33m(\u001b[0m\u001b[0mshow_warnings\u001b[0m\u001b[1;33m=\u001b[0m\u001b[1;32mFalse\u001b[0m\u001b[1;33m)\u001b[0m\u001b[1;33m,\u001b[0m \u001b[0mRandomForestClassifier\u001b[0m\u001b[1;33m(\u001b[0m\u001b[1;33m)\u001b[0m\u001b[1;33m)\u001b[0m\u001b[1;33m\u001b[0m\u001b[1;33m\u001b[0m\u001b[0m\n\u001b[0;32m      4\u001b[0m \u001b[0mclassifier\u001b[0m\u001b[1;33m.\u001b[0m\u001b[0mfit\u001b[0m\u001b[1;33m(\u001b[0m\u001b[0mX_train\u001b[0m\u001b[1;33m,\u001b[0m \u001b[0my_train\u001b[0m\u001b[1;33m)\u001b[0m\u001b[1;33m\u001b[0m\u001b[1;33m\u001b[0m\u001b[0m\n\u001b[0;32m      5\u001b[0m \u001b[0mclassifier\u001b[0m\u001b[1;33m.\u001b[0m\u001b[0mscore\u001b[0m\u001b[1;33m(\u001b[0m\u001b[0mX_test\u001b[0m\u001b[1;33m,\u001b[0m \u001b[0my_test\u001b[0m\u001b[1;33m)\u001b[0m\u001b[1;33m\u001b[0m\u001b[1;33m\u001b[0m\u001b[0m\n",
      "\u001b[1;31mModuleNotFoundError\u001b[0m: No module named 'sktime'"
     ]
    }
   ],
   "source": [
    "from sktime.transformers.series_as_features.summarize import TSFreshFeatureExtractor\n",
    "\n",
    "classifier = make_pipeline(TSFreshFeatureExtractor(show_warnings=False), RandomForestClassifier())\n",
    "classifier.fit(X_train, y_train)\n",
    "classifier.score(X_test, y_test)"
   ]
  },
  {
   "cell_type": "code",
   "execution_count": 32,
   "metadata": {},
   "outputs": [
    {
     "name": "stdout",
     "output_type": "stream",
     "text": [
      "Test Score:  1.0\n"
     ]
    }
   ],
   "source": [
    "from sklearn.neighbors import KNeighborsClassifier\n",
    "knn = KNeighborsClassifier(n_neighbors = 9)\n",
    "\n",
    "knn.fit(X_train, y_train)\n",
    "\n",
    "y_pred = knn.predict(X_test)\n",
    "\n",
    "print(\"Test Score: \", knn.score(X_test, y_test))"
   ]
  },
  {
   "cell_type": "code",
   "execution_count": 33,
   "metadata": {},
   "outputs": [
    {
     "data": {
      "text/plain": [
       "0.9990123456790123"
      ]
     },
     "execution_count": 33,
     "metadata": {},
     "output_type": "execute_result"
    }
   ],
   "source": [
    "knn.score(X_train, y_train)  # To check how well the data is fitting"
   ]
  },
  {
   "cell_type": "code",
   "execution_count": 34,
   "metadata": {},
   "outputs": [
    {
     "name": "stdout",
     "output_type": "stream",
     "text": [
      "RMSE value of the KNN Model is: 0.018856180831641263\n"
     ]
    }
   ],
   "source": [
    "from sklearn import neighbors\n",
    "from math import sqrt\n",
    "\n",
    "from sklearn import metrics\n",
    "from sklearn.metrics import mean_squared_error\n",
    "\n",
    "Knn = neighbors.KNeighborsRegressor()\n",
    "Knn.fit(X_train, y_train)  \n",
    "error = sqrt(metrics.mean_squared_error( y_test, Knn.predict(X_test))) \n",
    "print('RMSE value of the KNN Model is:', error)"
   ]
  },
  {
   "cell_type": "code",
   "execution_count": 35,
   "metadata": {},
   "outputs": [
    {
     "data": {
      "text/plain": [
       "0.9948198018681275"
      ]
     },
     "execution_count": 35,
     "metadata": {},
     "output_type": "execute_result"
    }
   ],
   "source": [
    "Knn.score(X_train, y_train) # To check how well the data is fitting"
   ]
  },
  {
   "cell_type": "code",
   "execution_count": 37,
   "metadata": {},
   "outputs": [
    {
     "name": "stdout",
     "output_type": "stream",
     "text": [
      "RMSE value of the KNN Model is: 0.0\n"
     ]
    }
   ],
   "source": [
    "#Import Random Forest Model\n",
    "from sklearn.ensemble import RandomForestClassifier\n",
    "\n",
    "#Create a Gaussian Classifier\n",
    "clf=RandomForestClassifier(n_estimators=100)\n",
    "\n",
    "#Train the model using the training sets y_pred=clf.predict(X_test)\n",
    "clf.fit(X_train,y_train)\n",
    "\n",
    "y_pred=clf.predict(X_test)\n",
    "\n",
    "error = sqrt(metrics.mean_squared_error( y_test, y_pred)) \n",
    "print('RMSE value of the KNN Model is:', error)"
   ]
  },
  {
   "cell_type": "code",
   "execution_count": 38,
   "metadata": {},
   "outputs": [
    {
     "data": {
      "text/plain": [
       "1.0"
      ]
     },
     "execution_count": 38,
     "metadata": {},
     "output_type": "execute_result"
    }
   ],
   "source": [
    "clf.score(X_train,y_train)"
   ]
  },
  {
   "cell_type": "code",
   "execution_count": 39,
   "metadata": {},
   "outputs": [
    {
     "name": "stdout",
     "output_type": "stream",
     "text": [
      "Accuracy1: 1.0\n"
     ]
    }
   ],
   "source": [
    "#Import scikit-learn metrics module for accuracy calculation\n",
    "from sklearn import metrics\n",
    "\n",
    "print(\"Accuracy1:\",metrics.accuracy_score(y_test, y_pred))"
   ]
  },
  {
   "cell_type": "code",
   "execution_count": 54,
   "metadata": {},
   "outputs": [
    {
     "name": "stdout",
     "output_type": "stream",
     "text": [
      "[[147   0   0]\n",
      " [  0 143   0]\n",
      " [  0   0 160]]\n"
     ]
    }
   ],
   "source": [
    "from sklearn.metrics import confusion_matrix\n",
    "v = confusion_matrix(y_test, y_pred)\n",
    "print(v)"
   ]
  },
  {
   "cell_type": "code",
   "execution_count": 55,
   "metadata": {},
   "outputs": [
    {
     "name": "stdout",
     "output_type": "stream",
     "text": [
      "true negatives 147\n",
      "false negatives 0\n",
      "true positives 143\n",
      "false positives 0\n"
     ]
    }
   ],
   "source": [
    "print(\"true negatives\",v[0][0])\n",
    "\n",
    "print(\"false negatives\",v[1][0])\n",
    "\n",
    "print(\"true positives\",v[1][1])\n",
    "\n",
    "print(\"false positives\",v[0][1])"
   ]
  },
  {
   "cell_type": "code",
   "execution_count": 56,
   "metadata": {},
   "outputs": [
    {
     "name": "stdout",
     "output_type": "stream",
     "text": [
      "              precision    recall  f1-score   support\n",
      "\n",
      "           1       1.00      1.00      1.00       147\n",
      "           2       1.00      1.00      1.00       143\n",
      "           3       1.00      1.00      1.00       160\n",
      "\n",
      "    accuracy                           1.00       450\n",
      "   macro avg       1.00      1.00      1.00       450\n",
      "weighted avg       1.00      1.00      1.00       450\n",
      "\n"
     ]
    }
   ],
   "source": [
    "from sklearn.metrics import classification_report\n",
    "target_names = ['1','2','3']\n",
    "print(classification_report(y_test, y_pred, target_names=target_names))"
   ]
  },
  {
   "cell_type": "markdown",
   "metadata": {},
   "source": [
    "## Neural Network"
   ]
  },
  {
   "cell_type": "code",
   "execution_count": 40,
   "metadata": {},
   "outputs": [],
   "source": [
    "import pandas as pd\n",
    "import tensorflow as tf\n",
    "import numpy as np\n",
    "from sklearn.preprocessing import scale\n",
    "from keras.models import Sequential\n",
    "from keras.layers import Dense, Dropout"
   ]
  },
  {
   "cell_type": "code",
   "execution_count": 45,
   "metadata": {},
   "outputs": [
    {
     "data": {
      "text/html": [
       "<div>\n",
       "<style scoped>\n",
       "    .dataframe tbody tr th:only-of-type {\n",
       "        vertical-align: middle;\n",
       "    }\n",
       "\n",
       "    .dataframe tbody tr th {\n",
       "        vertical-align: top;\n",
       "    }\n",
       "\n",
       "    .dataframe thead th {\n",
       "        text-align: right;\n",
       "    }\n",
       "</style>\n",
       "<table border=\"1\" class=\"dataframe\">\n",
       "  <thead>\n",
       "    <tr style=\"text-align: right;\">\n",
       "      <th></th>\n",
       "      <th>TimeStamp</th>\n",
       "      <th>X</th>\n",
       "      <th>Y</th>\n",
       "      <th>Z</th>\n",
       "      <th>Magnitude</th>\n",
       "      <th>CoordinateID</th>\n",
       "    </tr>\n",
       "  </thead>\n",
       "  <tbody>\n",
       "    <tr>\n",
       "      <th>0</th>\n",
       "      <td>2020-08-19 07:53:37:962</td>\n",
       "      <td>21.240000</td>\n",
       "      <td>-33.360000</td>\n",
       "      <td>-16.560000</td>\n",
       "      <td>25.664200</td>\n",
       "      <td>1</td>\n",
       "    </tr>\n",
       "    <tr>\n",
       "      <th>1</th>\n",
       "      <td>2020-08-19 07:53:37:982</td>\n",
       "      <td>21.300000</td>\n",
       "      <td>-33.540000</td>\n",
       "      <td>-16.500000</td>\n",
       "      <td>25.668268</td>\n",
       "      <td>1</td>\n",
       "    </tr>\n",
       "    <tr>\n",
       "      <th>2</th>\n",
       "      <td>2020-08-19 07:53:38:002</td>\n",
       "      <td>20.699999</td>\n",
       "      <td>-33.780000</td>\n",
       "      <td>-16.500000</td>\n",
       "      <td>25.163067</td>\n",
       "      <td>1</td>\n",
       "    </tr>\n",
       "    <tr>\n",
       "      <th>3</th>\n",
       "      <td>2020-08-19 07:53:38:022</td>\n",
       "      <td>20.939999</td>\n",
       "      <td>-33.660000</td>\n",
       "      <td>-16.320000</td>\n",
       "      <td>25.248880</td>\n",
       "      <td>1</td>\n",
       "    </tr>\n",
       "    <tr>\n",
       "      <th>4</th>\n",
       "      <td>2020-08-19 07:53:38:041</td>\n",
       "      <td>20.880000</td>\n",
       "      <td>-33.239998</td>\n",
       "      <td>-16.500000</td>\n",
       "      <td>25.332674</td>\n",
       "      <td>1</td>\n",
       "    </tr>\n",
       "    <tr>\n",
       "      <th>...</th>\n",
       "      <td>...</td>\n",
       "      <td>...</td>\n",
       "      <td>...</td>\n",
       "      <td>...</td>\n",
       "      <td>...</td>\n",
       "      <td>...</td>\n",
       "    </tr>\n",
       "    <tr>\n",
       "      <th>4495</th>\n",
       "      <td>2020-08-19 07:47:17:535</td>\n",
       "      <td>19.320000</td>\n",
       "      <td>-31.380000</td>\n",
       "      <td>-14.639999</td>\n",
       "      <td>22.909211</td>\n",
       "      <td>3</td>\n",
       "    </tr>\n",
       "    <tr>\n",
       "      <th>4496</th>\n",
       "      <td>2020-08-19 07:47:17:555</td>\n",
       "      <td>19.439999</td>\n",
       "      <td>-31.740000</td>\n",
       "      <td>-14.880000</td>\n",
       "      <td>23.148389</td>\n",
       "      <td>3</td>\n",
       "    </tr>\n",
       "    <tr>\n",
       "      <th>4497</th>\n",
       "      <td>2020-08-19 07:47:17:576</td>\n",
       "      <td>19.500000</td>\n",
       "      <td>-31.920000</td>\n",
       "      <td>-14.880000</td>\n",
       "      <td>23.191041</td>\n",
       "      <td>3</td>\n",
       "    </tr>\n",
       "    <tr>\n",
       "      <th>4498</th>\n",
       "      <td>2020-08-19 07:47:17:595</td>\n",
       "      <td>19.380000</td>\n",
       "      <td>-31.439999</td>\n",
       "      <td>-14.519999</td>\n",
       "      <td>22.880883</td>\n",
       "      <td>3</td>\n",
       "    </tr>\n",
       "    <tr>\n",
       "      <th>4499</th>\n",
       "      <td>2020-08-19 07:47:17:616</td>\n",
       "      <td>19.500000</td>\n",
       "      <td>-31.140000</td>\n",
       "      <td>-14.460000</td>\n",
       "      <td>22.957822</td>\n",
       "      <td>3</td>\n",
       "    </tr>\n",
       "  </tbody>\n",
       "</table>\n",
       "<p>4500 rows × 6 columns</p>\n",
       "</div>"
      ],
      "text/plain": [
       "                    TimeStamp          X          Y          Z  Magnitude  \\\n",
       "0     2020-08-19 07:53:37:962  21.240000 -33.360000 -16.560000  25.664200   \n",
       "1     2020-08-19 07:53:37:982  21.300000 -33.540000 -16.500000  25.668268   \n",
       "2     2020-08-19 07:53:38:002  20.699999 -33.780000 -16.500000  25.163067   \n",
       "3     2020-08-19 07:53:38:022  20.939999 -33.660000 -16.320000  25.248880   \n",
       "4     2020-08-19 07:53:38:041  20.880000 -33.239998 -16.500000  25.332674   \n",
       "...                       ...        ...        ...        ...        ...   \n",
       "4495  2020-08-19 07:47:17:535  19.320000 -31.380000 -14.639999  22.909211   \n",
       "4496  2020-08-19 07:47:17:555  19.439999 -31.740000 -14.880000  23.148389   \n",
       "4497  2020-08-19 07:47:17:576  19.500000 -31.920000 -14.880000  23.191041   \n",
       "4498  2020-08-19 07:47:17:595  19.380000 -31.439999 -14.519999  22.880883   \n",
       "4499  2020-08-19 07:47:17:616  19.500000 -31.140000 -14.460000  22.957822   \n",
       "\n",
       "      CoordinateID  \n",
       "0                1  \n",
       "1                1  \n",
       "2                1  \n",
       "3                1  \n",
       "4                1  \n",
       "...            ...  \n",
       "4495             3  \n",
       "4496             3  \n",
       "4497             3  \n",
       "4498             3  \n",
       "4499             3  \n",
       "\n",
       "[4500 rows x 6 columns]"
      ]
     },
     "execution_count": 45,
     "metadata": {},
     "output_type": "execute_result"
    }
   ],
   "source": [
    "train_df = df.iloc[:,0:6]\n",
    "train_df"
   ]
  },
  {
   "cell_type": "code",
   "execution_count": 46,
   "metadata": {},
   "outputs": [
    {
     "name": "stdout",
     "output_type": "stream",
     "text": [
      "<class 'pandas.core.frame.DataFrame'>\n",
      "RangeIndex: 4500 entries, 0 to 4499\n",
      "Data columns (total 6 columns):\n",
      " #   Column        Non-Null Count  Dtype  \n",
      "---  ------        --------------  -----  \n",
      " 0   TimeStamp     4500 non-null   object \n",
      " 1   X             4500 non-null   float64\n",
      " 2   Y             4500 non-null   float64\n",
      " 3   Z             4500 non-null   float64\n",
      " 4   Magnitude     4500 non-null   float64\n",
      " 5   CoordinateID  4500 non-null   int64  \n",
      "dtypes: float64(4), int64(1), object(1)\n",
      "memory usage: 211.1+ KB\n"
     ]
    }
   ],
   "source": [
    "df.info()"
   ]
  },
  {
   "cell_type": "code",
   "execution_count": 47,
   "metadata": {},
   "outputs": [
    {
     "data": {
      "text/plain": [
       "(4500, 1)"
      ]
     },
     "execution_count": 47,
     "metadata": {},
     "output_type": "execute_result"
    }
   ],
   "source": [
    "train_features = train_df[['Magnitude']]\n",
    "train_features.shape"
   ]
  },
  {
   "cell_type": "code",
   "execution_count": 48,
   "metadata": {},
   "outputs": [
    {
     "data": {
      "text/html": [
       "<div>\n",
       "<style scoped>\n",
       "    .dataframe tbody tr th:only-of-type {\n",
       "        vertical-align: middle;\n",
       "    }\n",
       "\n",
       "    .dataframe tbody tr th {\n",
       "        vertical-align: top;\n",
       "    }\n",
       "\n",
       "    .dataframe thead th {\n",
       "        text-align: right;\n",
       "    }\n",
       "</style>\n",
       "<table border=\"1\" class=\"dataframe\">\n",
       "  <thead>\n",
       "    <tr style=\"text-align: right;\">\n",
       "      <th></th>\n",
       "      <th>1</th>\n",
       "      <th>2</th>\n",
       "      <th>3</th>\n",
       "    </tr>\n",
       "  </thead>\n",
       "  <tbody>\n",
       "    <tr>\n",
       "      <th>0</th>\n",
       "      <td>1</td>\n",
       "      <td>0</td>\n",
       "      <td>0</td>\n",
       "    </tr>\n",
       "    <tr>\n",
       "      <th>1</th>\n",
       "      <td>1</td>\n",
       "      <td>0</td>\n",
       "      <td>0</td>\n",
       "    </tr>\n",
       "    <tr>\n",
       "      <th>2</th>\n",
       "      <td>1</td>\n",
       "      <td>0</td>\n",
       "      <td>0</td>\n",
       "    </tr>\n",
       "    <tr>\n",
       "      <th>3</th>\n",
       "      <td>1</td>\n",
       "      <td>0</td>\n",
       "      <td>0</td>\n",
       "    </tr>\n",
       "    <tr>\n",
       "      <th>4</th>\n",
       "      <td>1</td>\n",
       "      <td>0</td>\n",
       "      <td>0</td>\n",
       "    </tr>\n",
       "    <tr>\n",
       "      <th>...</th>\n",
       "      <td>...</td>\n",
       "      <td>...</td>\n",
       "      <td>...</td>\n",
       "    </tr>\n",
       "    <tr>\n",
       "      <th>4495</th>\n",
       "      <td>0</td>\n",
       "      <td>0</td>\n",
       "      <td>1</td>\n",
       "    </tr>\n",
       "    <tr>\n",
       "      <th>4496</th>\n",
       "      <td>0</td>\n",
       "      <td>0</td>\n",
       "      <td>1</td>\n",
       "    </tr>\n",
       "    <tr>\n",
       "      <th>4497</th>\n",
       "      <td>0</td>\n",
       "      <td>0</td>\n",
       "      <td>1</td>\n",
       "    </tr>\n",
       "    <tr>\n",
       "      <th>4498</th>\n",
       "      <td>0</td>\n",
       "      <td>0</td>\n",
       "      <td>1</td>\n",
       "    </tr>\n",
       "    <tr>\n",
       "      <th>4499</th>\n",
       "      <td>0</td>\n",
       "      <td>0</td>\n",
       "      <td>1</td>\n",
       "    </tr>\n",
       "  </tbody>\n",
       "</table>\n",
       "<p>4500 rows × 3 columns</p>\n",
       "</div>"
      ],
      "text/plain": [
       "      1  2  3\n",
       "0     1  0  0\n",
       "1     1  0  0\n",
       "2     1  0  0\n",
       "3     1  0  0\n",
       "4     1  0  0\n",
       "...  .. .. ..\n",
       "4495  0  0  1\n",
       "4496  0  0  1\n",
       "4497  0  0  1\n",
       "4498  0  0  1\n",
       "4499  0  0  1\n",
       "\n",
       "[4500 rows x 3 columns]"
      ]
     },
     "execution_count": 48,
     "metadata": {},
     "output_type": "execute_result"
    }
   ],
   "source": [
    "#Scale transforms data to center to the mean and component wise scale to unit variance\n",
    "train_AP_features = scale(np.asarray(train_features))\n",
    "\n",
    "#Convert coordinates to  a string\n",
    "coordinates = train_df['CoordinateID'].map(str)\n",
    "train_labels = np.asarray(coordinates)\n",
    "\n",
    "#convert labels to categorical variables, dummy_labels has type 'pandas.core.frame.DataFrame'\n",
    "dummy_labels = pd.get_dummies(train_labels)\n",
    "dummy_labels"
   ]
  },
  {
   "cell_type": "code",
   "execution_count": 51,
   "metadata": {},
   "outputs": [],
   "source": [
    "train_labels = np.asarray(dummy_labels) #labels is an array of shape 19937 x 13.\n",
    "train_labels\n",
    "\n",
    "#generate len(train_AP_features) of floats in between 0 and 1\n",
    "train_val_split = np.random.rand(len(train_AP_features))\n",
    "#convert train_val_split to an array of booleans: if elem < 0.7 = true, else: false\n",
    "train_val_split = train_val_split < 0.70 #should contain ~70% percent true\n",
    "\n",
    "train_X = train_AP_features[train_val_split]\n",
    "train_y = train_labels[train_val_split]\n",
    "val_X = train_AP_features[~train_val_split]\n",
    "val_y = train_labels[~train_val_split]\n",
    "\n",
    "nb_epochs = 30\n",
    "batch_size = 10\n",
    "input_size = 1\n",
    "num_classes = 3 #Total nine coordinates"
   ]
  },
  {
   "cell_type": "code",
   "execution_count": 49,
   "metadata": {},
   "outputs": [
    {
     "name": "stdout",
     "output_type": "stream",
     "text": [
      "WARNING:tensorflow:From C:\\Users\\Anuj\\Anaconda3\\lib\\site-packages\\tensorflow_core\\python\\ops\\resource_variable_ops.py:1630: calling BaseResourceVariable.__init__ (from tensorflow.python.ops.resource_variable_ops) with constraint is deprecated and will be removed in a future version.\n",
      "Instructions for updating:\n",
      "If using Keras pass *_constraint arguments to layers.\n"
     ]
    },
    {
     "name": "stderr",
     "output_type": "stream",
     "text": [
      "C:\\Users\\Anuj\\Anaconda3\\lib\\site-packages\\ipykernel_launcher.py:22: UserWarning: Update your `Dense` call to the Keras 2 API: `Dense(256, input_dim=1, activation=\"tanh\", use_bias=True)`\n",
      "C:\\Users\\Anuj\\Anaconda3\\lib\\site-packages\\ipykernel_launcher.py:23: UserWarning: Update your `Dense` call to the Keras 2 API: `Dense(128, activation=\"tanh\", use_bias=True)`\n",
      "C:\\Users\\Anuj\\Anaconda3\\lib\\site-packages\\ipykernel_launcher.py:24: UserWarning: Update your `Dense` call to the Keras 2 API: `Dense(64, activation=\"tanh\", use_bias=True)`\n",
      "C:\\Users\\Anuj\\Anaconda3\\lib\\site-packages\\ipykernel_launcher.py:28: UserWarning: Update your `Dense` call to the Keras 2 API: `Dense(128, input_dim=64, activation=\"tanh\", use_bias=True)`\n",
      "C:\\Users\\Anuj\\Anaconda3\\lib\\site-packages\\ipykernel_launcher.py:29: UserWarning: Update your `Dense` call to the Keras 2 API: `Dense(256, activation=\"tanh\", use_bias=True)`\n",
      "C:\\Users\\Anuj\\Anaconda3\\lib\\site-packages\\ipykernel_launcher.py:30: UserWarning: Update your `Dense` call to the Keras 2 API: `Dense(1, activation=\"tanh\", use_bias=True)`\n",
      "C:\\Users\\Anuj\\Anaconda3\\lib\\site-packages\\ipykernel_launcher.py:38: UserWarning: The `nb_epoch` argument in `fit` has been renamed `epochs`.\n"
     ]
    },
    {
     "name": "stdout",
     "output_type": "stream",
     "text": [
      "WARNING:tensorflow:From C:\\Users\\Anuj\\Anaconda3\\lib\\site-packages\\keras\\backend\\tensorflow_backend.py:422: The name tf.global_variables is deprecated. Please use tf.compat.v1.global_variables instead.\n",
      "\n",
      "Epoch 1/30\n",
      "3137/3137 [==============================] - 3s 1ms/step - loss: 0.1043\n",
      "Epoch 2/30\n",
      "3137/3137 [==============================] - 2s 623us/step - loss: 0.0901\n",
      "Epoch 3/30\n",
      "3137/3137 [==============================] - 2s 561us/step - loss: 0.0903\n",
      "Epoch 4/30\n",
      "3137/3137 [==============================] - 1s 467us/step - loss: 0.0897\n",
      "Epoch 5/30\n",
      "3137/3137 [==============================] - 1s 412us/step - loss: 0.0894\n",
      "Epoch 6/30\n",
      "3137/3137 [==============================] - 1s 354us/step - loss: 0.0896\n",
      "Epoch 7/30\n",
      "3137/3137 [==============================] - 1s 358us/step - loss: 0.0884\n",
      "Epoch 8/30\n",
      "3137/3137 [==============================] - 1s 402us/step - loss: 0.0878\n",
      "Epoch 9/30\n",
      "3137/3137 [==============================] - 1s 400us/step - loss: 0.0878\n",
      "Epoch 10/30\n",
      "3137/3137 [==============================] - 1s 375us/step - loss: 0.0876\n",
      "Epoch 11/30\n",
      "3137/3137 [==============================] - 1s 363us/step - loss: 0.0878\n",
      "Epoch 12/30\n",
      "3137/3137 [==============================] - 1s 359us/step - loss: 0.0880\n",
      "Epoch 13/30\n",
      "3137/3137 [==============================] - 1s 356us/step - loss: 0.0876\n",
      "Epoch 14/30\n",
      "3137/3137 [==============================] - 1s 349us/step - loss: 0.0876\n",
      "Epoch 15/30\n",
      "3137/3137 [==============================] - 1s 351us/step - loss: 0.0881\n",
      "Epoch 16/30\n",
      "3137/3137 [==============================] - 1s 348us/step - loss: 0.0875\n",
      "Epoch 17/30\n",
      "3137/3137 [==============================] - 1s 313us/step - loss: 0.0875\n",
      "Epoch 18/30\n",
      "3137/3137 [==============================] - 1s 301us/step - loss: 0.0875\n",
      "Epoch 19/30\n",
      "3137/3137 [==============================] - 1s 291us/step - loss: 0.0881\n",
      "Epoch 20/30\n",
      "3137/3137 [==============================] - 1s 299us/step - loss: 0.0874\n",
      "Epoch 21/30\n",
      "3137/3137 [==============================] - 1s 272us/step - loss: 0.0874\n",
      "Epoch 22/30\n",
      "3137/3137 [==============================] - 1s 252us/step - loss: 0.0877\n",
      "Epoch 23/30\n",
      "3137/3137 [==============================] - 1s 251us/step - loss: 0.0881\n",
      "Epoch 24/30\n",
      "3137/3137 [==============================] - 1s 251us/step - loss: 0.0875\n",
      "Epoch 25/30\n",
      "3137/3137 [==============================] - 1s 251us/step - loss: 0.0874\n",
      "Epoch 26/30\n",
      "3137/3137 [==============================] - 1s 293us/step - loss: 0.0876\n",
      "Epoch 27/30\n",
      "3137/3137 [==============================] - 1s 279us/step - loss: 0.0876\n",
      "Epoch 28/30\n",
      "3137/3137 [==============================] - 1s 303us/step - loss: 0.0874\n",
      "Epoch 29/30\n",
      "3137/3137 [==============================] - 1s 330us/step - loss: 0.0874\n",
      "Epoch 30/30\n",
      "3137/3137 [==============================] - 1s 340us/step - loss: 0.0876\n"
     ]
    },
    {
     "data": {
      "text/plain": [
       "<keras.callbacks.callbacks.History at 0x1ac953ae7c8>"
      ]
     },
     "execution_count": 49,
     "metadata": {},
     "output_type": "execute_result"
    }
   ],
   "source": [
    "def encoder():\n",
    "    model = Sequential()\n",
    "    model.add(Dense(256, input_dim=input_size, activation='tanh', bias=True))\n",
    "    model.add(Dense(128, activation='tanh', bias=True))\n",
    "    model.add(Dense(64, activation='tanh', bias=True))\n",
    "    return model\n",
    "\n",
    "def decoder(e):   \n",
    "    e.add(Dense(128, input_dim=64, activation='tanh', bias=True))\n",
    "    e.add(Dense(256, activation='tanh', bias=True))\n",
    "    e.add(Dense(input_size, activation='tanh', bias=True))\n",
    "    e.compile(optimizer='adam', loss='mse')\n",
    "    return e\n",
    "\n",
    "e = encoder()\n",
    "\n",
    "d = decoder(e)\n",
    "\n",
    "d.fit(train_X, train_X, nb_epoch=nb_epochs, batch_size=batch_size)"
   ]
  },
  {
   "cell_type": "code",
   "execution_count": 52,
   "metadata": {
    "scrolled": false
   },
   "outputs": [
    {
     "name": "stderr",
     "output_type": "stream",
     "text": [
      "C:\\Users\\Anuj\\Anaconda3\\lib\\site-packages\\ipykernel_launcher.py:2: UserWarning: Update your `Dense` call to the Keras 2 API: `Dense(128, input_dim=64, activation=\"tanh\", use_bias=True)`\n",
      "  \n",
      "C:\\Users\\Anuj\\Anaconda3\\lib\\site-packages\\ipykernel_launcher.py:3: UserWarning: Update your `Dense` call to the Keras 2 API: `Dense(128, activation=\"tanh\", use_bias=True)`\n",
      "  This is separate from the ipykernel package so we can avoid doing imports until\n",
      "C:\\Users\\Anuj\\Anaconda3\\lib\\site-packages\\ipykernel_launcher.py:4: UserWarning: Update your `Dense` call to the Keras 2 API: `Dense(3, activation=\"softmax\", use_bias=True)`\n",
      "  after removing the cwd from sys.path.\n",
      "C:\\Users\\Anuj\\Anaconda3\\lib\\site-packages\\ipykernel_launcher.py:10: UserWarning: The `nb_epoch` argument in `fit` has been renamed `epochs`.\n",
      "  # Remove the CWD from sys.path while we load stuff.\n"
     ]
    },
    {
     "name": "stdout",
     "output_type": "stream",
     "text": [
      "Train on 3164 samples, validate on 1336 samples\n",
      "Epoch 1/30\n",
      "3164/3164 [==============================] - 2s 756us/step - loss: 0.5208 - accuracy: 0.6757 - val_loss: 0.4912 - val_accuracy: 0.7260\n",
      "Epoch 2/30\n",
      "3164/3164 [==============================] - 4s 1ms/step - loss: 0.4824 - accuracy: 0.7089 - val_loss: 0.4647 - val_accuracy: 0.7395\n",
      "Epoch 3/30\n",
      "3164/3164 [==============================] - 4s 1ms/step - loss: 0.4702 - accuracy: 0.7168 - val_loss: 0.4483 - val_accuracy: 0.7470\n",
      "Epoch 4/30\n",
      "3164/3164 [==============================] - 4s 1ms/step - loss: 0.4756 - accuracy: 0.7149 - val_loss: 0.4673 - val_accuracy: 0.7478\n",
      "Epoch 5/30\n",
      "3164/3164 [==============================] - 2s 693us/step - loss: 0.4700 - accuracy: 0.7193 - val_loss: 0.4367 - val_accuracy: 0.7612\n",
      "Epoch 6/30\n",
      "3164/3164 [==============================] - 2s 588us/step - loss: 0.4641 - accuracy: 0.7253 - val_loss: 0.4961 - val_accuracy: 0.7418\n",
      "Epoch 7/30\n",
      "3164/3164 [==============================] - 2s 539us/step - loss: 0.4659 - accuracy: 0.7301 - val_loss: 0.4811 - val_accuracy: 0.7305\n",
      "Epoch 8/30\n",
      "3164/3164 [==============================] - 4s 1ms/step - loss: 0.4614 - accuracy: 0.7370 - val_loss: 0.4687 - val_accuracy: 0.7560\n",
      "Epoch 9/30\n",
      "3164/3164 [==============================] - 2s 768us/step - loss: 0.4662 - accuracy: 0.7244 - val_loss: 0.4558 - val_accuracy: 0.7552\n",
      "Epoch 10/30\n",
      "3164/3164 [==============================] - 2s 591us/step - loss: 0.4609 - accuracy: 0.7361 - val_loss: 0.4297 - val_accuracy: 0.7590\n",
      "Epoch 11/30\n",
      "3164/3164 [==============================] - 2s 499us/step - loss: 0.4644 - accuracy: 0.7336 - val_loss: 0.4296 - val_accuracy: 0.7597\n",
      "Epoch 12/30\n",
      "3164/3164 [==============================] - 1s 427us/step - loss: 0.4628 - accuracy: 0.7361 - val_loss: 0.4741 - val_accuracy: 0.7410\n",
      "Epoch 13/30\n",
      "3164/3164 [==============================] - 1s 436us/step - loss: 0.4688 - accuracy: 0.7152 - val_loss: 0.4410 - val_accuracy: 0.7605\n",
      "Epoch 14/30\n",
      "3164/3164 [==============================] - 4s 1ms/step - loss: 0.4700 - accuracy: 0.7200 - val_loss: 0.4374 - val_accuracy: 0.7575\n",
      "Epoch 15/30\n",
      "3164/3164 [==============================] - 2s 774us/step - loss: 0.4624 - accuracy: 0.7238 - val_loss: 0.4615 - val_accuracy: 0.7448\n",
      "Epoch 16/30\n",
      "3164/3164 [==============================] - 2s 639us/step - loss: 0.4601 - accuracy: 0.7345 - val_loss: 0.4320 - val_accuracy: 0.7612\n",
      "Epoch 17/30\n",
      "3164/3164 [==============================] - 4s 1ms/step - loss: 0.4614 - accuracy: 0.7320 - val_loss: 0.4638 - val_accuracy: 0.7537\n",
      "Epoch 18/30\n",
      "3164/3164 [==============================] - 7s 2ms/step - loss: 0.4636 - accuracy: 0.7266 - val_loss: 0.4547 - val_accuracy: 0.7455\n",
      "Epoch 19/30\n",
      "3164/3164 [==============================] - 8s 2ms/step - loss: 0.4613 - accuracy: 0.7389 - val_loss: 0.4407 - val_accuracy: 0.7590\n",
      "Epoch 20/30\n",
      "3164/3164 [==============================] - 5s 2ms/step - loss: 0.4609 - accuracy: 0.7364 - val_loss: 0.4382 - val_accuracy: 0.7545 0.4614 - accuracy: 0.73\n",
      "Epoch 21/30\n",
      "3164/3164 [==============================] - 4s 1ms/step - loss: 0.4613 - accuracy: 0.7285 - val_loss: 0.4419 - val_accuracy: 0.7605\n",
      "Epoch 22/30\n",
      "3164/3164 [==============================] - 3s 936us/step - loss: 0.4613 - accuracy: 0.7222 - val_loss: 0.4319 - val_accuracy: 0.7590\n",
      "Epoch 23/30\n",
      "3164/3164 [==============================] - 2s 771us/step - loss: 0.4608 - accuracy: 0.7345 - val_loss: 0.4472 - val_accuracy: 0.7552\n",
      "Epoch 24/30\n",
      "3164/3164 [==============================] - 2s 680us/step - loss: 0.4617 - accuracy: 0.7367 - val_loss: 0.4525 - val_accuracy: 0.7470\n",
      "Epoch 25/30\n",
      "3164/3164 [==============================] - 2s 679us/step - loss: 0.4609 - accuracy: 0.7361 - val_loss: 0.4860 - val_accuracy: 0.7515\n",
      "Epoch 26/30\n",
      "3164/3164 [==============================] - 2s 611us/step - loss: 0.4612 - accuracy: 0.7336 - val_loss: 0.4442 - val_accuracy: 0.7530\n",
      "Epoch 27/30\n",
      "3164/3164 [==============================] - 5s 2ms/step - loss: 0.4607 - accuracy: 0.7257 - val_loss: 0.4416 - val_accuracy: 0.7582\n",
      "Epoch 28/30\n",
      "3164/3164 [==============================] - 2s 733us/step - loss: 0.4596 - accuracy: 0.7304 - val_loss: 0.4285 - val_accuracy: 0.7627\n",
      "Epoch 29/30\n",
      "3164/3164 [==============================] - 2s 582us/step - loss: 0.4694 - accuracy: 0.7200 - val_loss: 0.4490 - val_accuracy: 0.7478\n",
      "Epoch 30/30\n",
      "3164/3164 [==============================] - 2s 526us/step - loss: 0.4621 - accuracy: 0.7282 - val_loss: 0.4376 - val_accuracy: 0.7567\n",
      "4500/4500 [==============================] - 1s 242us/step\n",
      "0.4517337267709275 0.7426666617393494\n"
     ]
    }
   ],
   "source": [
    "def classifier(d):\n",
    "    d.add(Dense(128, input_dim=64, activation='tanh', bias=True))\n",
    "    d.add(Dense(128, activation='tanh', bias=True))\n",
    "    d.add(Dense(num_classes, activation='softmax', bias=True))\n",
    "    d.compile(optimizer='adam', loss='categorical_crossentropy',metrics=['accuracy'])\n",
    "    return d\n",
    "\n",
    "c = classifier(d)\n",
    "\n",
    "c.fit(train_X, train_y, validation_data=(val_X, val_y), nb_epoch=nb_epochs, batch_size=batch_size , shuffle = True)\n",
    "\n",
    "loss, acc = c.evaluate(train_AP_features, train_labels)\n",
    "print(loss, acc)"
   ]
  },
  {
   "cell_type": "code",
   "execution_count": 57,
   "metadata": {},
   "outputs": [
    {
     "data": {
      "image/png": "[encoded data removed]",
      "text/plain": [
       "<Figure size 1368x576 with 2 Axes>"
      ]
     },
     "metadata": {
      "needs_background": "light"
     },
     "output_type": "display_data"
    }
   ],
   "source": [
    "from sklearn.metrics import confusion_matrix\n",
    "\n",
    "def plot_cm(y_true, y_pred, class_names):\n",
    "  cm = confusion_matrix(y_true, y_pred)\n",
    "  fig, ax = plt.subplots(figsize=(19, 8)) \n",
    "  ax = sns.heatmap(\n",
    "      cm, \n",
    "      annot=True, \n",
    "      fmt=\"d\", \n",
    "      cmap=sns.diverging_palette(220, 20, n=7),\n",
    "      ax=ax\n",
    "  )\n",
    "\n",
    "  plt.ylabel('Actual')\n",
    "  plt.xlabel('Predicted')\n",
    "  ax.set_xticklabels(class_names)\n",
    "  ax.set_yticklabels(class_names)\n",
    "  b, t = plt.ylim() # discover the values for bottom and top\n",
    "  b += 0.5 # Add 0.5 to the bottom\n",
    "  t -= 0.5 # Subtract 0.5 from the top\n",
    "  plt.ylim(b, t) # update the ylim(bottom, top) values\n",
    "  plt.show() # ta-da!\n",
    "\n",
    "plot_cm(\n",
    "  y_test,\n",
    "  y_pred,\n",
    "  class_names = [1,2,3]\n",
    ")"
   ]
  },
  {
   "cell_type": "code",
   "execution_count": null,
   "metadata": {},
   "outputs": [],
   "source": []
  }
 ],
 "metadata": {
  "kernelspec": {
   "display_name": "Python 3",
   "language": "python",
   "name": "python3"
  },
  "language_info": {
   "codemirror_mode": {
    "name": "ipython",
    "version": 3
   },
   "file_extension": ".py",
   "mimetype": "text/x-python",
   "name": "python",
   "nbconvert_exporter": "python",
   "pygments_lexer": "ipython3",
   "version": "3.7.6"
  }
 },
 "nbformat": 4,
 "nbformat_minor": 4
}
