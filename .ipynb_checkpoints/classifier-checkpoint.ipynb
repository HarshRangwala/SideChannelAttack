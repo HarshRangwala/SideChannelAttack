{
 "cells": [
  {
   "cell_type": "code",
   "execution_count": 1,
   "metadata": {},
   "outputs": [
    {
     "name": "stderr",
     "output_type": "stream",
     "text": [
      "Using TensorFlow backend.\n"
     ]
    }
   ],
   "source": [
    "import pandas as pd\n",
    "import tensorflow as tf\n",
    "import numpy as np\n",
    "from sklearn.preprocessing import scale\n",
    "from keras.models import Sequential\n",
    "from keras.layers import Dense, Dropout\n",
    "import matplotlib.pyplot as plt\n",
    "import seaborn as sns\n",
    "\n",
    "from keras.models import Sequential\n",
    "from keras.layers import Dense\n",
    "from keras.layers import LSTM\n",
    "\n",
    "#pd.set_option('display.max_columns', None)  # or 1000\n",
    "#pd.set_option('display.max_rows', None) \n",
    "\n",
    "sdata = pd.read_csv(r\"D:\\BSC IT DOCX\\Research Papers\\Research Internship-Columbia\\Indoor localization\\New Dataset\\magneticnewcoordinate00.csv\")\n",
    "sdata1 = pd.read_csv(r\"D:\\BSC IT DOCX\\Research Papers\\Research Internship-Columbia\\Indoor localization\\New Dataset\\magneticnewcoordinate01.csv\")\n",
    "sdata2 = pd.read_csv(r\"D:\\BSC IT DOCX\\Research Papers\\Research Internship-Columbia\\Indoor localization\\New Dataset\\magneticnewcoordinate02.csv\")\n",
    "sdata3 = pd.read_csv(r\"D:\\BSC IT DOCX\\Research Papers\\Research Internship-Columbia\\Indoor localization\\New Dataset\\magneticnewcoordinate10.csv\")\n",
    "sdata4 = pd.read_csv(r\"D:\\BSC IT DOCX\\Research Papers\\Research Internship-Columbia\\Indoor localization\\New Dataset\\magneticnewcoordinate11.csv\")\n",
    "sdata5 = pd.read_csv(r\"D:\\BSC IT DOCX\\Research Papers\\Research Internship-Columbia\\Indoor localization\\New Dataset\\magneticnewcoordinate12.csv\")\n",
    "sdata6 = pd.read_csv(r\"D:\\BSC IT DOCX\\Research Papers\\Research Internship-Columbia\\Indoor localization\\New Dataset\\magneticnewcoordinate20.csv\")\n",
    "sdata7 = pd.read_csv(r\"D:\\BSC IT DOCX\\Research Papers\\Research Internship-Columbia\\Indoor localization\\New Dataset\\magneticnewcoordinate21.csv\")\n",
    "sdata8 = pd.read_csv(r\"D:\\BSC IT DOCX\\Research Papers\\Research Internship-Columbia\\Indoor localization\\New Dataset\\magneticnewcoordinate22.csv\")\n",
    "\n",
    "sdata.columns = ['TimeStamp', 'X', 'Y', 'Z', 'Magnitude','CoordinateID']\n",
    "sdata1.columns = ['TimeStamp', 'X', 'Y', 'Z', 'Magnitude','CoordinateID']\n",
    "sdata2.columns = ['TimeStamp', 'X', 'Y', 'Z', 'Magnitude','CoordinateID']\n",
    "sdata3.columns = ['TimeStamp', 'X', 'Y', 'Z', 'Magnitude','CoordinateID']\n",
    "sdata4.columns = ['TimeStamp', 'X', 'Y', 'Z', 'Magnitude','CoordinateID']\n",
    "sdata5.columns = ['TimeStamp', 'X', 'Y', 'Z', 'Magnitude','CoordinateID']\n",
    "sdata6.columns = ['TimeStamp', 'X', 'Y', 'Z', 'Magnitude','CoordinateID']\n",
    "sdata7.columns = ['TimeStamp', 'X', 'Y', 'Z', 'Magnitude','CoordinateID']\n",
    "sdata8.columns = ['TimeStamp', 'X', 'Y', 'Z', 'Magnitude','CoordinateID']"
   ]
  },
  {
   "cell_type": "markdown",
   "metadata": {},
   "source": [
    "### Data exploration"
   ]
  },
  {
   "cell_type": "code",
   "execution_count": 2,
   "metadata": {},
   "outputs": [
    {
     "name": "stdout",
     "output_type": "stream",
     "text": [
      "(2444, 6) (2774, 6) (3107, 6) (3440, 6) (3760, 6) (4090, 6) (4449, 6) (4772, 6) (5102, 6)\n"
     ]
    },
    {
     "data": {
      "text/html": [
       "<div>\n",
       "<style scoped>\n",
       "    .dataframe tbody tr th:only-of-type {\n",
       "        vertical-align: middle;\n",
       "    }\n",
       "\n",
       "    .dataframe tbody tr th {\n",
       "        vertical-align: top;\n",
       "    }\n",
       "\n",
       "    .dataframe thead th {\n",
       "        text-align: right;\n",
       "    }\n",
       "</style>\n",
       "<table border=\"1\" class=\"dataframe\">\n",
       "  <thead>\n",
       "    <tr style=\"text-align: right;\">\n",
       "      <th></th>\n",
       "      <th>TimeStamp</th>\n",
       "      <th>X</th>\n",
       "      <th>Y</th>\n",
       "      <th>Z</th>\n",
       "      <th>Magnitude</th>\n",
       "      <th>CoordinateID</th>\n",
       "    </tr>\n",
       "  </thead>\n",
       "  <tbody>\n",
       "    <tr>\n",
       "      <th>0</th>\n",
       "      <td>2020-07-22 05:10:50:003</td>\n",
       "      <td>-17.34</td>\n",
       "      <td>29.519999</td>\n",
       "      <td>-20.520000</td>\n",
       "      <td>27.942548</td>\n",
       "      <td>0</td>\n",
       "    </tr>\n",
       "    <tr>\n",
       "      <th>1</th>\n",
       "      <td>2020-07-22 05:10:50:022</td>\n",
       "      <td>-17.40</td>\n",
       "      <td>29.279999</td>\n",
       "      <td>-20.220000</td>\n",
       "      <td>27.751907</td>\n",
       "      <td>0</td>\n",
       "    </tr>\n",
       "    <tr>\n",
       "      <th>2</th>\n",
       "      <td>2020-07-22 05:10:50:042</td>\n",
       "      <td>-17.22</td>\n",
       "      <td>29.699999</td>\n",
       "      <td>-20.160000</td>\n",
       "      <td>27.610759</td>\n",
       "      <td>0</td>\n",
       "    </tr>\n",
       "    <tr>\n",
       "      <th>3</th>\n",
       "      <td>2020-07-22 05:10:50:062</td>\n",
       "      <td>-17.22</td>\n",
       "      <td>29.279999</td>\n",
       "      <td>-20.460000</td>\n",
       "      <td>27.815462</td>\n",
       "      <td>0</td>\n",
       "    </tr>\n",
       "    <tr>\n",
       "      <th>4</th>\n",
       "      <td>2020-07-22 05:10:50:082</td>\n",
       "      <td>-17.58</td>\n",
       "      <td>29.279999</td>\n",
       "      <td>-20.640000</td>\n",
       "      <td>28.171368</td>\n",
       "      <td>0</td>\n",
       "    </tr>\n",
       "    <tr>\n",
       "      <th>...</th>\n",
       "      <td>...</td>\n",
       "      <td>...</td>\n",
       "      <td>...</td>\n",
       "      <td>...</td>\n",
       "      <td>...</td>\n",
       "      <td>...</td>\n",
       "    </tr>\n",
       "    <tr>\n",
       "      <th>9995</th>\n",
       "      <td>2020-07-22 05:12:17:009</td>\n",
       "      <td>-16.14</td>\n",
       "      <td>29.880000</td>\n",
       "      <td>-22.920000</td>\n",
       "      <td>29.078961</td>\n",
       "      <td>10</td>\n",
       "    </tr>\n",
       "    <tr>\n",
       "      <th>9996</th>\n",
       "      <td>2020-07-22 05:12:17:028</td>\n",
       "      <td>-16.38</td>\n",
       "      <td>29.880000</td>\n",
       "      <td>-23.279999</td>\n",
       "      <td>29.496147</td>\n",
       "      <td>10</td>\n",
       "    </tr>\n",
       "    <tr>\n",
       "      <th>9997</th>\n",
       "      <td>2020-07-22 05:12:17:048</td>\n",
       "      <td>-17.10</td>\n",
       "      <td>30.000000</td>\n",
       "      <td>-23.640000</td>\n",
       "      <td>30.187075</td>\n",
       "      <td>10</td>\n",
       "    </tr>\n",
       "    <tr>\n",
       "      <th>9998</th>\n",
       "      <td>2020-07-22 05:12:17:068</td>\n",
       "      <td>-17.40</td>\n",
       "      <td>30.000000</td>\n",
       "      <td>-23.640000</td>\n",
       "      <td>30.358022</td>\n",
       "      <td>10</td>\n",
       "    </tr>\n",
       "    <tr>\n",
       "      <th>9999</th>\n",
       "      <td>2020-07-22 05:12:17:089</td>\n",
       "      <td>-17.82</td>\n",
       "      <td>29.939999</td>\n",
       "      <td>-23.699999</td>\n",
       "      <td>30.645103</td>\n",
       "      <td>10</td>\n",
       "    </tr>\n",
       "  </tbody>\n",
       "</table>\n",
       "<p>10000 rows × 6 columns</p>\n",
       "</div>"
      ],
      "text/plain": [
       "                    TimeStamp      X          Y          Z  Magnitude  \\\n",
       "0     2020-07-22 05:10:50:003 -17.34  29.519999 -20.520000  27.942548   \n",
       "1     2020-07-22 05:10:50:022 -17.40  29.279999 -20.220000  27.751907   \n",
       "2     2020-07-22 05:10:50:042 -17.22  29.699999 -20.160000  27.610759   \n",
       "3     2020-07-22 05:10:50:062 -17.22  29.279999 -20.460000  27.815462   \n",
       "4     2020-07-22 05:10:50:082 -17.58  29.279999 -20.640000  28.171368   \n",
       "...                       ...    ...        ...        ...        ...   \n",
       "9995  2020-07-22 05:12:17:009 -16.14  29.880000 -22.920000  29.078961   \n",
       "9996  2020-07-22 05:12:17:028 -16.38  29.880000 -23.279999  29.496147   \n",
       "9997  2020-07-22 05:12:17:048 -17.10  30.000000 -23.640000  30.187075   \n",
       "9998  2020-07-22 05:12:17:068 -17.40  30.000000 -23.640000  30.358022   \n",
       "9999  2020-07-22 05:12:17:089 -17.82  29.939999 -23.699999  30.645103   \n",
       "\n",
       "      CoordinateID  \n",
       "0                0  \n",
       "1                0  \n",
       "2                0  \n",
       "3                0  \n",
       "4                0  \n",
       "...            ...  \n",
       "9995            10  \n",
       "9996            10  \n",
       "9997            10  \n",
       "9998            10  \n",
       "9999            10  \n",
       "\n",
       "[10000 rows x 6 columns]"
      ]
     },
     "execution_count": 2,
     "metadata": {},
     "output_type": "execute_result"
    }
   ],
   "source": [
    "print(sdata.shape,\n",
    "sdata1.shape,\n",
    "sdata2.shape,\n",
    "sdata3.shape,\n",
    "sdata4.shape,\n",
    "sdata5.shape,\n",
    "sdata6.shape,\n",
    "sdata7.shape,\n",
    "sdata8.shape)\n",
    "\n",
    "\n",
    "#Exploratory Data Analysis\n",
    "\n",
    "df = pd.concat([sdata, sdata1, sdata2, sdata3,sdata4, sdata5, sdata6, sdata7, sdata8], axis=0)\n",
    "\n",
    "df = df.reset_index(drop=True)\n",
    "\n",
    "df.head(10000)"
   ]
  },
  {
   "cell_type": "code",
   "execution_count": 3,
   "metadata": {},
   "outputs": [
    {
     "name": "stdout",
     "output_type": "stream",
     "text": [
      "<class 'pandas.core.frame.DataFrame'>\n",
      "RangeIndex: 33938 entries, 0 to 33937\n",
      "Data columns (total 6 columns):\n",
      " #   Column        Non-Null Count  Dtype  \n",
      "---  ------        --------------  -----  \n",
      " 0   TimeStamp     33938 non-null  object \n",
      " 1   X             33938 non-null  float64\n",
      " 2   Y             33938 non-null  float64\n",
      " 3   Z             33938 non-null  float64\n",
      " 4   Magnitude     33938 non-null  float64\n",
      " 5   CoordinateID  33938 non-null  int64  \n",
      "dtypes: float64(4), int64(1), object(1)\n",
      "memory usage: 1.6+ MB\n"
     ]
    }
   ],
   "source": [
    "df.info()"
   ]
  },
  {
   "cell_type": "code",
   "execution_count": 4,
   "metadata": {
    "scrolled": false
   },
   "outputs": [
    {
     "data": {
      "text/html": [
       "<div>\n",
       "<style scoped>\n",
       "    .dataframe tbody tr th:only-of-type {\n",
       "        vertical-align: middle;\n",
       "    }\n",
       "\n",
       "    .dataframe tbody tr th {\n",
       "        vertical-align: top;\n",
       "    }\n",
       "\n",
       "    .dataframe thead th {\n",
       "        text-align: right;\n",
       "    }\n",
       "</style>\n",
       "<table border=\"1\" class=\"dataframe\">\n",
       "  <thead>\n",
       "    <tr style=\"text-align: right;\">\n",
       "      <th></th>\n",
       "      <th>X</th>\n",
       "      <th>Y</th>\n",
       "      <th>Z</th>\n",
       "      <th>Magnitude</th>\n",
       "      <th>CoordinateID</th>\n",
       "    </tr>\n",
       "  </thead>\n",
       "  <tbody>\n",
       "    <tr>\n",
       "      <th>count</th>\n",
       "      <td>33938.000000</td>\n",
       "      <td>33938.000000</td>\n",
       "      <td>33938.000000</td>\n",
       "      <td>33938.000000</td>\n",
       "      <td>33938.000000</td>\n",
       "    </tr>\n",
       "    <tr>\n",
       "      <th>mean</th>\n",
       "      <td>-19.432219</td>\n",
       "      <td>28.383776</td>\n",
       "      <td>-21.285192</td>\n",
       "      <td>29.830513</td>\n",
       "      <td>12.825270</td>\n",
       "    </tr>\n",
       "    <tr>\n",
       "      <th>std</th>\n",
       "      <td>1.342536</td>\n",
       "      <td>1.098319</td>\n",
       "      <td>1.503288</td>\n",
       "      <td>1.280910</td>\n",
       "      <td>8.004043</td>\n",
       "    </tr>\n",
       "    <tr>\n",
       "      <th>min</th>\n",
       "      <td>-23.100000</td>\n",
       "      <td>25.019999</td>\n",
       "      <td>-25.320000</td>\n",
       "      <td>26.300540</td>\n",
       "      <td>0.000000</td>\n",
       "    </tr>\n",
       "    <tr>\n",
       "      <th>25%</th>\n",
       "      <td>-20.520000</td>\n",
       "      <td>27.660000</td>\n",
       "      <td>-22.560000</td>\n",
       "      <td>28.848355</td>\n",
       "      <td>10.000000</td>\n",
       "    </tr>\n",
       "    <tr>\n",
       "      <th>50%</th>\n",
       "      <td>-19.500000</td>\n",
       "      <td>28.260000</td>\n",
       "      <td>-21.060000</td>\n",
       "      <td>29.773443</td>\n",
       "      <td>12.000000</td>\n",
       "    </tr>\n",
       "    <tr>\n",
       "      <th>75%</th>\n",
       "      <td>-18.480000</td>\n",
       "      <td>29.160000</td>\n",
       "      <td>-20.160000</td>\n",
       "      <td>30.727302</td>\n",
       "      <td>21.000000</td>\n",
       "    </tr>\n",
       "    <tr>\n",
       "      <th>max</th>\n",
       "      <td>-15.360000</td>\n",
       "      <td>31.920000</td>\n",
       "      <td>-17.580000</td>\n",
       "      <td>33.433283</td>\n",
       "      <td>22.000000</td>\n",
       "    </tr>\n",
       "  </tbody>\n",
       "</table>\n",
       "</div>"
      ],
      "text/plain": [
       "                  X             Y             Z     Magnitude  CoordinateID\n",
       "count  33938.000000  33938.000000  33938.000000  33938.000000  33938.000000\n",
       "mean     -19.432219     28.383776    -21.285192     29.830513     12.825270\n",
       "std        1.342536      1.098319      1.503288      1.280910      8.004043\n",
       "min      -23.100000     25.019999    -25.320000     26.300540      0.000000\n",
       "25%      -20.520000     27.660000    -22.560000     28.848355     10.000000\n",
       "50%      -19.500000     28.260000    -21.060000     29.773443     12.000000\n",
       "75%      -18.480000     29.160000    -20.160000     30.727302     21.000000\n",
       "max      -15.360000     31.920000    -17.580000     33.433283     22.000000"
      ]
     },
     "execution_count": 4,
     "metadata": {},
     "output_type": "execute_result"
    }
   ],
   "source": [
    "df.describe()"
   ]
  },
  {
   "cell_type": "code",
   "execution_count": 5,
   "metadata": {},
   "outputs": [
    {
     "data": {
      "text/plain": [
       "<matplotlib.axes._subplots.AxesSubplot at 0x1fff9db2d88>"
      ]
     },
     "execution_count": 5,
     "metadata": {},
     "output_type": "execute_result"
    },
    {
     "data": {
      "image/png": "[encoded data removed]",
      "text/plain": [
       "<Figure size 864x432 with 2 Axes>"
      ]
     },
     "metadata": {
      "needs_background": "light"
     },
     "output_type": "display_data"
    }
   ],
   "source": [
    "plt.figure(figsize = (12, 6))\n",
    "sns.heatmap(df.corr(), cmap = 'coolwarm', annot = True)"
   ]
  },
  {
   "cell_type": "code",
   "execution_count": 6,
   "metadata": {},
   "outputs": [
    {
     "data": {
      "image/png": "[encoded data removed]",
      "text/plain": [
       "<Figure size 432x288 with 1 Axes>"
      ]
     },
     "metadata": {
      "needs_background": "light"
     },
     "output_type": "display_data"
    }
   ],
   "source": [
    "ax = sns.countplot(df['CoordinateID'])\n",
    "plt.title('Bar plot - CoordinateID')\n",
    "plt.show()"
   ]
  },
  {
   "cell_type": "code",
   "execution_count": 7,
   "metadata": {},
   "outputs": [
    {
     "data": {
      "image/png": "[encoded data removed]",
      "text/plain": [
       "<Figure size 432x288 with 1 Axes>"
      ]
     },
     "metadata": {
      "needs_background": "light"
     },
     "output_type": "display_data"
    }
   ],
   "source": [
    "import matplotlib.pyplot as plt \n",
    "from mpl_toolkits.mplot3d import Axes3D\n",
    "x, y, z = df['X'], df['Y'], df['Z']\n",
    "\n",
    "fig = plt.figure() \n",
    "ax = fig.add_subplot(111, projection='3d') \n",
    "ax.scatter(x,y,z,)\n",
    "plt.show()"
   ]
  },
  {
   "cell_type": "markdown",
   "metadata": {},
   "source": [
    "### The 3d plot above shows that the data is tightly grouped, which might lower the performance of the classifier. So we get an average of data within a window of 100 and create a new dataset."
   ]
  },
  {
   "cell_type": "code",
   "execution_count": 8,
   "metadata": {},
   "outputs": [],
   "source": [
    "grouper = df.groupby(['CoordinateID',df.reset_index().index // 100])\n",
    "new_df = grouper.agg(X = ('X', 'mean'), \n",
    "                     Y = ('Y', 'mean'),\n",
    "                     Z = ('Z', 'mean'),\n",
    "                     Magnitude = ('Magnitude', 'mean')).reset_index(level = 0)"
   ]
  },
  {
   "cell_type": "code",
   "execution_count": 9,
   "metadata": {},
   "outputs": [],
   "source": [
    "# Import train_test_split function\n",
    "from sklearn.model_selection import train_test_split\n",
    "\n",
    "X=new_df[['X', 'Y', 'Z', 'Magnitude']]  # Features\n",
    "y=new_df['CoordinateID']  # Labels\n",
    "\n",
    "# Split dataset into training set and test set\n",
    "X_train, X_test, y_train, y_test = train_test_split(X, y, test_size=0.3, random_state = 42) "
   ]
  },
  {
   "cell_type": "code",
   "execution_count": 10,
   "metadata": {},
   "outputs": [
    {
     "name": "stdout",
     "output_type": "stream",
     "text": [
      "(243, 4) (105, 4) (243,) (105,)\n"
     ]
    }
   ],
   "source": [
    "print(X_train.shape, X_test.shape, y_train.shape, y_test.shape)"
   ]
  },
  {
   "cell_type": "code",
   "execution_count": 11,
   "metadata": {},
   "outputs": [
    {
     "data": {
      "image/png": "[encoded data removed]",
      "text/plain": [
       "<Figure size 432x288 with 1 Axes>"
      ]
     },
     "metadata": {
      "needs_background": "light"
     },
     "output_type": "display_data"
    }
   ],
   "source": [
    "import matplotlib.pyplot as plt \n",
    "from mpl_toolkits.mplot3d import Axes3D\n",
    "x, y, z = new_df['X'], new_df['Y'], new_df['Z']\n",
    "\n",
    "fig = plt.figure() \n",
    "ax = fig.add_subplot(111, projection='3d') \n",
    "ax.scatter(x,y,z,)\n",
    "plt.show()"
   ]
  },
  {
   "cell_type": "code",
   "execution_count": 12,
   "metadata": {},
   "outputs": [
    {
     "name": "stdout",
     "output_type": "stream",
     "text": [
      "Test Score:  0.09523809523809523\n"
     ]
    }
   ],
   "source": [
    "from sklearn.neighbors import KNeighborsClassifier\n",
    "knn = KNeighborsClassifier(n_neighbors = 2)\n",
    "\n",
    "knn.fit(X_train, y_train)\n",
    "\n",
    "y_pred = knn.predict(X_test)\n",
    "\n",
    "print(\"Test Score: \", knn.score(X_test, y_test))"
   ]
  },
  {
   "cell_type": "code",
   "execution_count": 13,
   "metadata": {},
   "outputs": [
    {
     "data": {
      "text/plain": [
       "0.5102880658436214"
      ]
     },
     "execution_count": 13,
     "metadata": {},
     "output_type": "execute_result"
    }
   ],
   "source": [
    "knn.score(X_train, y_train)"
   ]
  },
  {
   "cell_type": "code",
   "execution_count": 14,
   "metadata": {},
   "outputs": [
    {
     "name": "stdout",
     "output_type": "stream",
     "text": [
      "RMSE value of the KNN Model is: 8.54661169286235\n"
     ]
    }
   ],
   "source": [
    "from sklearn import neighbors\n",
    "from math import sqrt\n",
    "\n",
    "from sklearn import metrics\n",
    "from sklearn.metrics import mean_squared_error\n",
    "\n",
    "Knn = neighbors.KNeighborsRegressor()\n",
    "Knn.fit(X_train, y_train)  \n",
    "error = sqrt(metrics.mean_squared_error( y_test, Knn.predict(X_test))) \n",
    "print('RMSE value of the KNN Model is:', error)"
   ]
  },
  {
   "cell_type": "code",
   "execution_count": 15,
   "metadata": {},
   "outputs": [
    {
     "data": {
      "text/plain": [
       "0.17616600283488026"
      ]
     },
     "execution_count": 15,
     "metadata": {},
     "output_type": "execute_result"
    }
   ],
   "source": [
    "Knn.score(X_train, y_train) "
   ]
  },
  {
   "cell_type": "code",
   "execution_count": 16,
   "metadata": {},
   "outputs": [],
   "source": [
    "#Import Random Forest Model\n",
    "from sklearn.ensemble import RandomForestClassifier\n",
    "\n",
    "#Create a Gaussian Classifier\n",
    "clf=RandomForestClassifier(n_estimators=150, random_state = 42, class_weight=\"balanced\")\n",
    "\n",
    "#Train the model using the training sets y_pred=clf.predict(X_test)\n",
    "clf.fit(X_train,y_train)\n",
    "\n",
    "y_pred=clf.predict(X_test)"
   ]
  },
  {
   "cell_type": "code",
   "execution_count": 17,
   "metadata": {},
   "outputs": [
    {
     "data": {
      "text/plain": [
       "0.9382716049382716"
      ]
     },
     "execution_count": 17,
     "metadata": {},
     "output_type": "execute_result"
    }
   ],
   "source": [
    "clf.score(X_train,y_train)"
   ]
  },
  {
   "cell_type": "code",
   "execution_count": 18,
   "metadata": {},
   "outputs": [
    {
     "name": "stdout",
     "output_type": "stream",
     "text": [
      "Accuracy1: 0.05714285714285714\n"
     ]
    }
   ],
   "source": [
    "#Import scikit-learn metrics module for accuracy calculation\n",
    "from sklearn import metrics\n",
    "\n",
    "print(\"Accuracy1:\",metrics.accuracy_score(y_test, y_pred))"
   ]
  },
  {
   "cell_type": "code",
   "execution_count": 19,
   "metadata": {},
   "outputs": [],
   "source": [
    "import pandas as pd\n",
    "import tensorflow as tf\n",
    "import numpy as np\n",
    "from sklearn.preprocessing import scale\n",
    "from keras.models import Sequential\n",
    "from keras.layers import Dense, Dropout"
   ]
  },
  {
   "cell_type": "code",
   "execution_count": 20,
   "metadata": {},
   "outputs": [
    {
     "data": {
      "text/html": [
       "<div>\n",
       "<style scoped>\n",
       "    .dataframe tbody tr th:only-of-type {\n",
       "        vertical-align: middle;\n",
       "    }\n",
       "\n",
       "    .dataframe tbody tr th {\n",
       "        vertical-align: top;\n",
       "    }\n",
       "\n",
       "    .dataframe thead th {\n",
       "        text-align: right;\n",
       "    }\n",
       "</style>\n",
       "<table border=\"1\" class=\"dataframe\">\n",
       "  <thead>\n",
       "    <tr style=\"text-align: right;\">\n",
       "      <th></th>\n",
       "      <th>CoordinateID</th>\n",
       "      <th>X</th>\n",
       "      <th>Y</th>\n",
       "      <th>Z</th>\n",
       "      <th>Magnitude</th>\n",
       "    </tr>\n",
       "  </thead>\n",
       "  <tbody>\n",
       "    <tr>\n",
       "      <th>0</th>\n",
       "      <td>0</td>\n",
       "      <td>-18.087000</td>\n",
       "      <td>28.823400</td>\n",
       "      <td>-20.743800</td>\n",
       "      <td>28.555537</td>\n",
       "    </tr>\n",
       "    <tr>\n",
       "      <th>1</th>\n",
       "      <td>0</td>\n",
       "      <td>-18.370800</td>\n",
       "      <td>28.099800</td>\n",
       "      <td>-21.407400</td>\n",
       "      <td>29.220094</td>\n",
       "    </tr>\n",
       "    <tr>\n",
       "      <th>2</th>\n",
       "      <td>0</td>\n",
       "      <td>-18.867600</td>\n",
       "      <td>27.093000</td>\n",
       "      <td>-21.903600</td>\n",
       "      <td>29.847360</td>\n",
       "    </tr>\n",
       "    <tr>\n",
       "      <th>3</th>\n",
       "      <td>0</td>\n",
       "      <td>-19.766400</td>\n",
       "      <td>28.293000</td>\n",
       "      <td>-21.047400</td>\n",
       "      <td>29.852645</td>\n",
       "    </tr>\n",
       "    <tr>\n",
       "      <th>4</th>\n",
       "      <td>0</td>\n",
       "      <td>-19.542000</td>\n",
       "      <td>28.279800</td>\n",
       "      <td>-20.700000</td>\n",
       "      <td>29.466536</td>\n",
       "    </tr>\n",
       "    <tr>\n",
       "      <th>...</th>\n",
       "      <td>...</td>\n",
       "      <td>...</td>\n",
       "      <td>...</td>\n",
       "      <td>...</td>\n",
       "      <td>...</td>\n",
       "    </tr>\n",
       "    <tr>\n",
       "      <th>335</th>\n",
       "      <td>22</td>\n",
       "      <td>-19.507200</td>\n",
       "      <td>29.747400</td>\n",
       "      <td>-19.830000</td>\n",
       "      <td>28.877100</td>\n",
       "    </tr>\n",
       "    <tr>\n",
       "      <th>336</th>\n",
       "      <td>22</td>\n",
       "      <td>-17.300400</td>\n",
       "      <td>30.107399</td>\n",
       "      <td>-21.124800</td>\n",
       "      <td>28.399242</td>\n",
       "    </tr>\n",
       "    <tr>\n",
       "      <th>337</th>\n",
       "      <td>22</td>\n",
       "      <td>-17.884800</td>\n",
       "      <td>30.389999</td>\n",
       "      <td>-20.970000</td>\n",
       "      <td>28.645303</td>\n",
       "    </tr>\n",
       "    <tr>\n",
       "      <th>338</th>\n",
       "      <td>22</td>\n",
       "      <td>-18.108600</td>\n",
       "      <td>30.191400</td>\n",
       "      <td>-20.847600</td>\n",
       "      <td>28.693820</td>\n",
       "    </tr>\n",
       "    <tr>\n",
       "      <th>339</th>\n",
       "      <td>22</td>\n",
       "      <td>-19.100526</td>\n",
       "      <td>30.584210</td>\n",
       "      <td>-19.998947</td>\n",
       "      <td>28.755571</td>\n",
       "    </tr>\n",
       "  </tbody>\n",
       "</table>\n",
       "<p>348 rows × 5 columns</p>\n",
       "</div>"
      ],
      "text/plain": [
       "     CoordinateID          X          Y          Z  Magnitude\n",
       "0               0 -18.087000  28.823400 -20.743800  28.555537\n",
       "1               0 -18.370800  28.099800 -21.407400  29.220094\n",
       "2               0 -18.867600  27.093000 -21.903600  29.847360\n",
       "3               0 -19.766400  28.293000 -21.047400  29.852645\n",
       "4               0 -19.542000  28.279800 -20.700000  29.466536\n",
       "..            ...        ...        ...        ...        ...\n",
       "335            22 -19.507200  29.747400 -19.830000  28.877100\n",
       "336            22 -17.300400  30.107399 -21.124800  28.399242\n",
       "337            22 -17.884800  30.389999 -20.970000  28.645303\n",
       "338            22 -18.108600  30.191400 -20.847600  28.693820\n",
       "339            22 -19.100526  30.584210 -19.998947  28.755571\n",
       "\n",
       "[348 rows x 5 columns]"
      ]
     },
     "execution_count": 20,
     "metadata": {},
     "output_type": "execute_result"
    }
   ],
   "source": [
    "train_df = new_df.iloc[:,0:5]\n",
    "train_df"
   ]
  },
  {
   "cell_type": "code",
   "execution_count": 21,
   "metadata": {},
   "outputs": [
    {
     "name": "stdout",
     "output_type": "stream",
     "text": [
      "<class 'pandas.core.frame.DataFrame'>\n",
      "Int64Index: 348 entries, 0 to 339\n",
      "Data columns (total 5 columns):\n",
      " #   Column        Non-Null Count  Dtype  \n",
      "---  ------        --------------  -----  \n",
      " 0   CoordinateID  348 non-null    int64  \n",
      " 1   X             348 non-null    float64\n",
      " 2   Y             348 non-null    float64\n",
      " 3   Z             348 non-null    float64\n",
      " 4   Magnitude     348 non-null    float64\n",
      "dtypes: float64(4), int64(1)\n",
      "memory usage: 16.3 KB\n"
     ]
    }
   ],
   "source": [
    "new_df.info()"
   ]
  },
  {
   "cell_type": "code",
   "execution_count": 22,
   "metadata": {},
   "outputs": [
    {
     "data": {
      "text/plain": [
       "(348, 4)"
      ]
     },
     "execution_count": 22,
     "metadata": {},
     "output_type": "execute_result"
    }
   ],
   "source": [
    "train_features = train_df[['X', 'Y', 'Z', 'Magnitude']]\n",
    "train_features.shape"
   ]
  },
  {
   "cell_type": "code",
   "execution_count": 23,
   "metadata": {},
   "outputs": [],
   "source": [
    "#Scale transforms data to center to the mean and component wise scale to unit variance\n",
    "train_AP_features = scale(np.asarray(train_features))"
   ]
  },
  {
   "cell_type": "code",
   "execution_count": 24,
   "metadata": {},
   "outputs": [],
   "source": [
    "#Convert coordinates to  a string\n",
    "coordinates = train_df['CoordinateID'].map(str)\n",
    "train_labels = np.asarray(coordinates)"
   ]
  },
  {
   "cell_type": "code",
   "execution_count": 25,
   "metadata": {},
   "outputs": [
    {
     "data": {
      "text/html": [
       "<div>\n",
       "<style scoped>\n",
       "    .dataframe tbody tr th:only-of-type {\n",
       "        vertical-align: middle;\n",
       "    }\n",
       "\n",
       "    .dataframe tbody tr th {\n",
       "        vertical-align: top;\n",
       "    }\n",
       "\n",
       "    .dataframe thead th {\n",
       "        text-align: right;\n",
       "    }\n",
       "</style>\n",
       "<table border=\"1\" class=\"dataframe\">\n",
       "  <thead>\n",
       "    <tr style=\"text-align: right;\">\n",
       "      <th></th>\n",
       "      <th>0</th>\n",
       "      <th>1</th>\n",
       "      <th>10</th>\n",
       "      <th>11</th>\n",
       "      <th>12</th>\n",
       "      <th>2</th>\n",
       "      <th>20</th>\n",
       "      <th>21</th>\n",
       "      <th>22</th>\n",
       "    </tr>\n",
       "  </thead>\n",
       "  <tbody>\n",
       "    <tr>\n",
       "      <th>0</th>\n",
       "      <td>1</td>\n",
       "      <td>0</td>\n",
       "      <td>0</td>\n",
       "      <td>0</td>\n",
       "      <td>0</td>\n",
       "      <td>0</td>\n",
       "      <td>0</td>\n",
       "      <td>0</td>\n",
       "      <td>0</td>\n",
       "    </tr>\n",
       "    <tr>\n",
       "      <th>1</th>\n",
       "      <td>1</td>\n",
       "      <td>0</td>\n",
       "      <td>0</td>\n",
       "      <td>0</td>\n",
       "      <td>0</td>\n",
       "      <td>0</td>\n",
       "      <td>0</td>\n",
       "      <td>0</td>\n",
       "      <td>0</td>\n",
       "    </tr>\n",
       "    <tr>\n",
       "      <th>2</th>\n",
       "      <td>1</td>\n",
       "      <td>0</td>\n",
       "      <td>0</td>\n",
       "      <td>0</td>\n",
       "      <td>0</td>\n",
       "      <td>0</td>\n",
       "      <td>0</td>\n",
       "      <td>0</td>\n",
       "      <td>0</td>\n",
       "    </tr>\n",
       "    <tr>\n",
       "      <th>3</th>\n",
       "      <td>1</td>\n",
       "      <td>0</td>\n",
       "      <td>0</td>\n",
       "      <td>0</td>\n",
       "      <td>0</td>\n",
       "      <td>0</td>\n",
       "      <td>0</td>\n",
       "      <td>0</td>\n",
       "      <td>0</td>\n",
       "    </tr>\n",
       "    <tr>\n",
       "      <th>4</th>\n",
       "      <td>1</td>\n",
       "      <td>0</td>\n",
       "      <td>0</td>\n",
       "      <td>0</td>\n",
       "      <td>0</td>\n",
       "      <td>0</td>\n",
       "      <td>0</td>\n",
       "      <td>0</td>\n",
       "      <td>0</td>\n",
       "    </tr>\n",
       "    <tr>\n",
       "      <th>...</th>\n",
       "      <td>...</td>\n",
       "      <td>...</td>\n",
       "      <td>...</td>\n",
       "      <td>...</td>\n",
       "      <td>...</td>\n",
       "      <td>...</td>\n",
       "      <td>...</td>\n",
       "      <td>...</td>\n",
       "      <td>...</td>\n",
       "    </tr>\n",
       "    <tr>\n",
       "      <th>343</th>\n",
       "      <td>0</td>\n",
       "      <td>0</td>\n",
       "      <td>0</td>\n",
       "      <td>0</td>\n",
       "      <td>0</td>\n",
       "      <td>0</td>\n",
       "      <td>0</td>\n",
       "      <td>0</td>\n",
       "      <td>1</td>\n",
       "    </tr>\n",
       "    <tr>\n",
       "      <th>344</th>\n",
       "      <td>0</td>\n",
       "      <td>0</td>\n",
       "      <td>0</td>\n",
       "      <td>0</td>\n",
       "      <td>0</td>\n",
       "      <td>0</td>\n",
       "      <td>0</td>\n",
       "      <td>0</td>\n",
       "      <td>1</td>\n",
       "    </tr>\n",
       "    <tr>\n",
       "      <th>345</th>\n",
       "      <td>0</td>\n",
       "      <td>0</td>\n",
       "      <td>0</td>\n",
       "      <td>0</td>\n",
       "      <td>0</td>\n",
       "      <td>0</td>\n",
       "      <td>0</td>\n",
       "      <td>0</td>\n",
       "      <td>1</td>\n",
       "    </tr>\n",
       "    <tr>\n",
       "      <th>346</th>\n",
       "      <td>0</td>\n",
       "      <td>0</td>\n",
       "      <td>0</td>\n",
       "      <td>0</td>\n",
       "      <td>0</td>\n",
       "      <td>0</td>\n",
       "      <td>0</td>\n",
       "      <td>0</td>\n",
       "      <td>1</td>\n",
       "    </tr>\n",
       "    <tr>\n",
       "      <th>347</th>\n",
       "      <td>0</td>\n",
       "      <td>0</td>\n",
       "      <td>0</td>\n",
       "      <td>0</td>\n",
       "      <td>0</td>\n",
       "      <td>0</td>\n",
       "      <td>0</td>\n",
       "      <td>0</td>\n",
       "      <td>1</td>\n",
       "    </tr>\n",
       "  </tbody>\n",
       "</table>\n",
       "<p>348 rows × 9 columns</p>\n",
       "</div>"
      ],
      "text/plain": [
       "     0  1  10  11  12  2  20  21  22\n",
       "0    1  0   0   0   0  0   0   0   0\n",
       "1    1  0   0   0   0  0   0   0   0\n",
       "2    1  0   0   0   0  0   0   0   0\n",
       "3    1  0   0   0   0  0   0   0   0\n",
       "4    1  0   0   0   0  0   0   0   0\n",
       "..  .. ..  ..  ..  .. ..  ..  ..  ..\n",
       "343  0  0   0   0   0  0   0   0   1\n",
       "344  0  0   0   0   0  0   0   0   1\n",
       "345  0  0   0   0   0  0   0   0   1\n",
       "346  0  0   0   0   0  0   0   0   1\n",
       "347  0  0   0   0   0  0   0   0   1\n",
       "\n",
       "[348 rows x 9 columns]"
      ]
     },
     "execution_count": 25,
     "metadata": {},
     "output_type": "execute_result"
    }
   ],
   "source": [
    "#convert labels to categorical variables, dummy_labels has type 'pandas.core.frame.DataFrame'\n",
    "dummy_labels = pd.get_dummies(train_labels)\n",
    "dummy_labels"
   ]
  },
  {
   "cell_type": "code",
   "execution_count": 26,
   "metadata": {},
   "outputs": [
    {
     "data": {
      "text/plain": [
       "array([[1, 0, 0, ..., 0, 0, 0],\n",
       "       [1, 0, 0, ..., 0, 0, 0],\n",
       "       [1, 0, 0, ..., 0, 0, 0],\n",
       "       ...,\n",
       "       [0, 0, 0, ..., 0, 0, 1],\n",
       "       [0, 0, 0, ..., 0, 0, 1],\n",
       "       [0, 0, 0, ..., 0, 0, 1]], dtype=uint8)"
      ]
     },
     "execution_count": 26,
     "metadata": {},
     "output_type": "execute_result"
    }
   ],
   "source": [
    "train_labels = np.asarray(dummy_labels) #labels is an array of shape 19937 x 13.\n",
    "train_labels"
   ]
  },
  {
   "cell_type": "code",
   "execution_count": 27,
   "metadata": {},
   "outputs": [],
   "source": [
    "#generate len(train_AP_features) of floats in between 0 and 1\n",
    "train_val_split = np.random.rand(len(train_AP_features))\n",
    "#convert train_val_split to an array of booleans: if elem < 0.7 = true, else: false\n",
    "train_val_split = train_val_split < 0.70 #should contain ~70% percent true"
   ]
  },
  {
   "cell_type": "code",
   "execution_count": 28,
   "metadata": {},
   "outputs": [],
   "source": [
    "train_X = train_AP_features[train_val_split]\n",
    "train_y = train_labels[train_val_split]\n",
    "val_X = train_AP_features[~train_val_split]\n",
    "val_y = train_labels[~train_val_split]"
   ]
  },
  {
   "cell_type": "code",
   "execution_count": 29,
   "metadata": {},
   "outputs": [],
   "source": [
    "nb_epochs = 30\n",
    "batch_size = 10\n",
    "input_size = 4\n",
    "num_classes = 9 #Total nine coordinates\n",
    "lr = 0.001\n",
    "\n",
    "def encoder():\n",
    "    model = Sequential()\n",
    "    model.add(Dense(256, input_dim=input_size, activation='tanh', bias=True))\n",
    "    model.add(Dense(128, activation='tanh', bias=True))\n",
    "    model.add(Dense(64, activation='tanh', bias=True))\n",
    "    return model\n",
    "\n",
    "def decoder(e):   \n",
    "    e.add(Dense(128, input_dim=64, activation='tanh', bias=True))\n",
    "    e.add(Dense(256, activation='tanh', bias=True))\n",
    "    e.add(Dense(input_size, activation='tanh', bias=True))\n",
    "    e.compile(optimizer='adam', loss='mse')\n",
    "    return e"
   ]
  },
  {
   "cell_type": "code",
   "execution_count": 30,
   "metadata": {},
   "outputs": [
    {
     "name": "stdout",
     "output_type": "stream",
     "text": [
      "WARNING:tensorflow:From C:\\Users\\Anuj\\Anaconda3\\lib\\site-packages\\tensorflow_core\\python\\ops\\resource_variable_ops.py:1630: calling BaseResourceVariable.__init__ (from tensorflow.python.ops.resource_variable_ops) with constraint is deprecated and will be removed in a future version.\n",
      "Instructions for updating:\n",
      "If using Keras pass *_constraint arguments to layers.\n"
     ]
    },
    {
     "name": "stderr",
     "output_type": "stream",
     "text": [
      "C:\\Users\\Anuj\\Anaconda3\\lib\\site-packages\\ipykernel_launcher.py:9: UserWarning: Update your `Dense` call to the Keras 2 API: `Dense(256, input_dim=4, activation=\"tanh\", use_bias=True)`\n",
      "  if __name__ == '__main__':\n",
      "C:\\Users\\Anuj\\Anaconda3\\lib\\site-packages\\ipykernel_launcher.py:10: UserWarning: Update your `Dense` call to the Keras 2 API: `Dense(128, activation=\"tanh\", use_bias=True)`\n",
      "  # Remove the CWD from sys.path while we load stuff.\n",
      "C:\\Users\\Anuj\\Anaconda3\\lib\\site-packages\\ipykernel_launcher.py:11: UserWarning: Update your `Dense` call to the Keras 2 API: `Dense(64, activation=\"tanh\", use_bias=True)`\n",
      "  # This is added back by InteractiveShellApp.init_path()\n",
      "C:\\Users\\Anuj\\Anaconda3\\lib\\site-packages\\ipykernel_launcher.py:15: UserWarning: Update your `Dense` call to the Keras 2 API: `Dense(128, input_dim=64, activation=\"tanh\", use_bias=True)`\n",
      "  from ipykernel import kernelapp as app\n",
      "C:\\Users\\Anuj\\Anaconda3\\lib\\site-packages\\ipykernel_launcher.py:16: UserWarning: Update your `Dense` call to the Keras 2 API: `Dense(256, activation=\"tanh\", use_bias=True)`\n",
      "  app.launch_new_instance()\n",
      "C:\\Users\\Anuj\\Anaconda3\\lib\\site-packages\\ipykernel_launcher.py:17: UserWarning: Update your `Dense` call to the Keras 2 API: `Dense(4, activation=\"tanh\", use_bias=True)`\n"
     ]
    }
   ],
   "source": [
    "e = encoder()\n",
    "\n",
    "d = decoder(e)"
   ]
  },
  {
   "cell_type": "code",
   "execution_count": 31,
   "metadata": {},
   "outputs": [
    {
     "name": "stderr",
     "output_type": "stream",
     "text": [
      "C:\\Users\\Anuj\\Anaconda3\\lib\\site-packages\\ipykernel_launcher.py:1: UserWarning: The `nb_epoch` argument in `fit` has been renamed `epochs`.\n",
      "  \"\"\"Entry point for launching an IPython kernel.\n"
     ]
    },
    {
     "name": "stdout",
     "output_type": "stream",
     "text": [
      "WARNING:tensorflow:From C:\\Users\\Anuj\\Anaconda3\\lib\\site-packages\\keras\\backend\\tensorflow_backend.py:422: The name tf.global_variables is deprecated. Please use tf.compat.v1.global_variables instead.\n",
      "\n",
      "Epoch 1/30\n",
      "246/246 [==============================] - 1s 4ms/step - loss: 0.2215\n",
      "Epoch 2/30\n",
      "246/246 [==============================] - 0s 850us/step - loss: 0.1335\n",
      "Epoch 3/30\n",
      "246/246 [==============================] - 0s 768us/step - loss: 0.1236\n",
      "Epoch 4/30\n",
      "246/246 [==============================] - 0s 1ms/step - loss: 0.1220\n",
      "Epoch 5/30\n",
      "246/246 [==============================] - 0s 642us/step - loss: 0.1242\n",
      "Epoch 6/30\n",
      "246/246 [==============================] - 0s 703us/step - loss: 0.1221\n",
      "Epoch 7/30\n",
      "246/246 [==============================] - 0s 630us/step - loss: 0.1223\n",
      "Epoch 8/30\n",
      "246/246 [==============================] - 0s 606us/step - loss: 0.1203\n",
      "Epoch 9/30\n",
      "246/246 [==============================] - 0s 581us/step - loss: 0.1216\n",
      "Epoch 10/30\n",
      "246/246 [==============================] - 0s 577us/step - loss: 0.1191\n",
      "Epoch 11/30\n",
      "246/246 [==============================] - 0s 569us/step - loss: 0.1192\n",
      "Epoch 12/30\n",
      "246/246 [==============================] - 0s 528us/step - loss: 0.1198\n",
      "Epoch 13/30\n",
      "246/246 [==============================] - 0s 463us/step - loss: 0.1214\n",
      "Epoch 14/30\n",
      "246/246 [==============================] - 0s 516us/step - loss: 0.1200\n",
      "Epoch 15/30\n",
      "246/246 [==============================] - 0s 516us/step - loss: 0.1188\n",
      "Epoch 16/30\n",
      "246/246 [==============================] - 0s 524us/step - loss: 0.1204\n",
      "Epoch 17/30\n",
      "246/246 [==============================] - 0s 427us/step - loss: 0.1193\n",
      "Epoch 18/30\n",
      "246/246 [==============================] - 0s 435us/step - loss: 0.1168\n",
      "Epoch 19/30\n",
      "246/246 [==============================] - 0s 431us/step - loss: 0.1170\n",
      "Epoch 20/30\n",
      "246/246 [==============================] - 0s 394us/step - loss: 0.1187\n",
      "Epoch 21/30\n",
      "246/246 [==============================] - 0s 423us/step - loss: 0.1177\n",
      "Epoch 22/30\n",
      "246/246 [==============================] - 0s 402us/step - loss: 0.1183\n",
      "Epoch 23/30\n",
      "246/246 [==============================] - 0s 386us/step - loss: 0.1173\n",
      "Epoch 24/30\n",
      "246/246 [==============================] - 0s 382us/step - loss: 0.1162\n",
      "Epoch 25/30\n",
      "246/246 [==============================] - 0s 411us/step - loss: 0.1180\n",
      "Epoch 26/30\n",
      "246/246 [==============================] - 0s 386us/step - loss: 0.1200\n",
      "Epoch 27/30\n",
      "246/246 [==============================] - 0s 398us/step - loss: 0.1222\n",
      "Epoch 28/30\n",
      "246/246 [==============================] - 0s 398us/step - loss: 0.1172\n",
      "Epoch 29/30\n",
      "246/246 [==============================] - 0s 411us/step - loss: 0.1159\n",
      "Epoch 30/30\n",
      "246/246 [==============================] - 0s 362us/step - loss: 0.1148\n"
     ]
    },
    {
     "data": {
      "text/plain": [
       "<keras.callbacks.callbacks.History at 0x1fffc27b788>"
      ]
     },
     "execution_count": 31,
     "metadata": {},
     "output_type": "execute_result"
    }
   ],
   "source": [
    "d.fit(train_X, train_X, nb_epoch=nb_epochs, batch_size=batch_size)"
   ]
  },
  {
   "cell_type": "code",
   "execution_count": 32,
   "metadata": {},
   "outputs": [],
   "source": [
    "def classifier(d):\n",
    "    d.add(Dense(128, input_dim=64, activation='tanh', bias=True))\n",
    "    d.add(Dense(128, activation='tanh', bias=True))\n",
    "    d.add(Dense(num_classes, activation='softmax', bias=True))\n",
    "    d.compile(optimizer='adam', loss='categorical_crossentropy',metrics=['accuracy'])\n",
    "    return d"
   ]
  },
  {
   "cell_type": "code",
   "execution_count": 33,
   "metadata": {},
   "outputs": [
    {
     "name": "stderr",
     "output_type": "stream",
     "text": [
      "C:\\Users\\Anuj\\Anaconda3\\lib\\site-packages\\ipykernel_launcher.py:2: UserWarning: Update your `Dense` call to the Keras 2 API: `Dense(128, input_dim=64, activation=\"tanh\", use_bias=True)`\n",
      "  \n",
      "C:\\Users\\Anuj\\Anaconda3\\lib\\site-packages\\ipykernel_launcher.py:3: UserWarning: Update your `Dense` call to the Keras 2 API: `Dense(128, activation=\"tanh\", use_bias=True)`\n",
      "  This is separate from the ipykernel package so we can avoid doing imports until\n",
      "C:\\Users\\Anuj\\Anaconda3\\lib\\site-packages\\ipykernel_launcher.py:4: UserWarning: Update your `Dense` call to the Keras 2 API: `Dense(9, activation=\"softmax\", use_bias=True)`\n",
      "  after removing the cwd from sys.path.\n"
     ]
    }
   ],
   "source": [
    "c = classifier(d)"
   ]
  },
  {
   "cell_type": "code",
   "execution_count": 34,
   "metadata": {},
   "outputs": [
    {
     "name": "stderr",
     "output_type": "stream",
     "text": [
      "C:\\Users\\Anuj\\Anaconda3\\lib\\site-packages\\ipykernel_launcher.py:1: UserWarning: The `nb_epoch` argument in `fit` has been renamed `epochs`.\n",
      "  \"\"\"Entry point for launching an IPython kernel.\n"
     ]
    },
    {
     "name": "stdout",
     "output_type": "stream",
     "text": [
      "Train on 246 samples, validate on 102 samples\n",
      "Epoch 1/30\n",
      "246/246 [==============================] - 1s 4ms/step - loss: 2.2496 - accuracy: 0.1220 - val_loss: 2.2694 - val_accuracy: 0.0980\n",
      "Epoch 2/30\n",
      "246/246 [==============================] - 0s 1ms/step - loss: 2.1909 - accuracy: 0.1463 - val_loss: 2.2201 - val_accuracy: 0.1275\n",
      "Epoch 3/30\n",
      "246/246 [==============================] - 0s 2ms/step - loss: 2.2047 - accuracy: 0.1748 - val_loss: 2.2545 - val_accuracy: 0.1078\n",
      "Epoch 4/30\n",
      "246/246 [==============================] - 0s 2ms/step - loss: 2.1791 - accuracy: 0.1585 - val_loss: 2.2428 - val_accuracy: 0.1078\n",
      "Epoch 5/30\n",
      "246/246 [==============================] - 0s 2ms/step - loss: 2.1711 - accuracy: 0.1423 - val_loss: 2.2578 - val_accuracy: 0.1078\n",
      "Epoch 6/30\n",
      "246/246 [==============================] - 0s 1ms/step - loss: 2.1808 - accuracy: 0.1341 - val_loss: 2.2392 - val_accuracy: 0.1078\n",
      "Epoch 7/30\n",
      "246/246 [==============================] - 0s 1ms/step - loss: 2.1603 - accuracy: 0.1504 - val_loss: 2.2410 - val_accuracy: 0.1176\n",
      "Epoch 8/30\n",
      "246/246 [==============================] - 0s 1ms/step - loss: 2.1537 - accuracy: 0.1707 - val_loss: 2.2433 - val_accuracy: 0.0882\n",
      "Epoch 9/30\n",
      "246/246 [==============================] - 0s 976us/step - loss: 2.1532 - accuracy: 0.1707 - val_loss: 2.2449 - val_accuracy: 0.1078\n",
      "Epoch 10/30\n",
      "246/246 [==============================] - 0s 902us/step - loss: 2.1518 - accuracy: 0.1545 - val_loss: 2.2541 - val_accuracy: 0.1275\n",
      "Epoch 11/30\n",
      "246/246 [==============================] - 0s 882us/step - loss: 2.1721 - accuracy: 0.1341 - val_loss: 2.2678 - val_accuracy: 0.0980\n",
      "Epoch 12/30\n",
      "246/246 [==============================] - 0s 894us/step - loss: 2.1469 - accuracy: 0.1707 - val_loss: 2.2548 - val_accuracy: 0.0980\n",
      "Epoch 13/30\n",
      "246/246 [==============================] - 0s 817us/step - loss: 2.1531 - accuracy: 0.1423 - val_loss: 2.2468 - val_accuracy: 0.0980\n",
      "Epoch 14/30\n",
      "246/246 [==============================] - 0s 882us/step - loss: 2.1596 - accuracy: 0.1382 - val_loss: 2.2701 - val_accuracy: 0.0980\n",
      "Epoch 15/30\n",
      "246/246 [==============================] - 0s 882us/step - loss: 2.1782 - accuracy: 0.1748 - val_loss: 2.2695 - val_accuracy: 0.0882\n",
      "Epoch 16/30\n",
      "246/246 [==============================] - 0s 789us/step - loss: 2.1910 - accuracy: 0.1667 - val_loss: 2.2786 - val_accuracy: 0.1078\n",
      "Epoch 17/30\n",
      "246/246 [==============================] - 0s 894us/step - loss: 2.1779 - accuracy: 0.1423 - val_loss: 2.2416 - val_accuracy: 0.1373\n",
      "Epoch 18/30\n",
      "246/246 [==============================] - 0s 728us/step - loss: 2.1602 - accuracy: 0.1423 - val_loss: 2.2523 - val_accuracy: 0.1176\n",
      "Epoch 19/30\n",
      "246/246 [==============================] - 0s 752us/step - loss: 2.1509 - accuracy: 0.1341 - val_loss: 2.2692 - val_accuracy: 0.0784\n",
      "Epoch 20/30\n",
      "246/246 [==============================] - 0s 752us/step - loss: 2.1491 - accuracy: 0.1748 - val_loss: 2.2599 - val_accuracy: 0.1078\n",
      "Epoch 21/30\n",
      "246/246 [==============================] - 0s 695us/step - loss: 2.1555 - accuracy: 0.1667 - val_loss: 2.2484 - val_accuracy: 0.0980\n",
      "Epoch 22/30\n",
      "246/246 [==============================] - 0s 764us/step - loss: 2.1378 - accuracy: 0.1748 - val_loss: 2.2458 - val_accuracy: 0.0882\n",
      "Epoch 23/30\n",
      "246/246 [==============================] - 0s 671us/step - loss: 2.1979 - accuracy: 0.1423 - val_loss: 2.2944 - val_accuracy: 0.0980\n",
      "Epoch 24/30\n",
      "246/246 [==============================] - 0s 691us/step - loss: 2.1662 - accuracy: 0.1220 - val_loss: 2.2834 - val_accuracy: 0.0882\n",
      "Epoch 25/30\n",
      "246/246 [==============================] - 0s 638us/step - loss: 2.1783 - accuracy: 0.1545 - val_loss: 2.2749 - val_accuracy: 0.1275\n",
      "Epoch 26/30\n",
      "246/246 [==============================] - 0s 654us/step - loss: 2.1549 - accuracy: 0.1829 - val_loss: 2.2661 - val_accuracy: 0.0980\n",
      "Epoch 27/30\n",
      "246/246 [==============================] - 0s 646us/step - loss: 2.1732 - accuracy: 0.1463 - val_loss: 2.2609 - val_accuracy: 0.0980\n",
      "Epoch 28/30\n",
      "246/246 [==============================] - 0s 634us/step - loss: 2.1633 - accuracy: 0.1423 - val_loss: 2.2435 - val_accuracy: 0.1176\n",
      "Epoch 29/30\n",
      "246/246 [==============================] - 0s 715us/step - loss: 2.1738 - accuracy: 0.1220 - val_loss: 2.2457 - val_accuracy: 0.1078\n",
      "Epoch 30/30\n",
      "246/246 [==============================] - 0s 671us/step - loss: 2.1547 - accuracy: 0.1463 - val_loss: 2.2444 - val_accuracy: 0.1078\n"
     ]
    },
    {
     "data": {
      "text/plain": [
       "<keras.callbacks.callbacks.History at 0x1fffc1bca08>"
      ]
     },
     "execution_count": 34,
     "metadata": {},
     "output_type": "execute_result"
    }
   ],
   "source": [
    "c.fit(train_X, train_y, validation_data=(val_X, val_y), nb_epoch=nb_epochs, batch_size=batch_size , shuffle = True)"
   ]
  },
  {
   "cell_type": "code",
   "execution_count": 35,
   "metadata": {},
   "outputs": [
    {
     "name": "stdout",
     "output_type": "stream",
     "text": [
      "348/348 [==============================] - 0s 103us/step\n",
      "2.169823568442772 0.15229885280132294\n"
     ]
    }
   ],
   "source": [
    "loss, acc = c.evaluate(train_AP_features, train_labels)\n",
    "print(loss, acc)"
   ]
  },
  {
   "cell_type": "code",
   "execution_count": null,
   "metadata": {},
   "outputs": [],
   "source": []
  },
  {
   "cell_type": "code",
   "execution_count": null,
   "metadata": {},
   "outputs": [],
   "source": []
  }
 ],
 "metadata": {
  "kernelspec": {
   "display_name": "Python 3",
   "language": "python",
   "name": "python3"
  },
  "language_info": {
   "codemirror_mode": {
    "name": "ipython",
    "version": 3
   },
   "file_extension": ".py",
   "mimetype": "text/x-python",
   "name": "python",
   "nbconvert_exporter": "python",
   "pygments_lexer": "ipython3",
   "version": "3.7.6"
  }
 },
 "nbformat": 4,
 "nbformat_minor": 4
}
