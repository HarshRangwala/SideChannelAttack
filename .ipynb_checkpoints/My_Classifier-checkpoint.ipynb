{
 "cells": [
  {
   "cell_type": "code",
   "execution_count": 2,
   "metadata": {},
   "outputs": [
    {
     "name": "stderr",
     "output_type": "stream",
     "text": [
      "Using TensorFlow backend.\n"
     ]
    }
   ],
   "source": [
    "import pandas as pd\n",
    "import tensorflow as tf\n",
    "import numpy as np\n",
    "from sklearn.preprocessing import scale\n",
    "from keras.models import Sequential\n",
    "from keras.layers import Dense, Dropout\n",
    "import matplotlib.pyplot as plt\n",
    "import seaborn as sns"
   ]
  },
  {
   "cell_type": "code",
   "execution_count": 3,
   "metadata": {},
   "outputs": [],
   "source": [
    "#pd.set_option('display.max_columns', None)  # or 1000\n",
    "#pd.set_option('display.max_rows', None) "
   ]
  },
  {
   "cell_type": "code",
   "execution_count": 4,
   "metadata": {},
   "outputs": [],
   "source": [
    "sdata = pd.read_csv(r\"D:\\BSC IT DOCX\\Research Papers\\Research Internship-Columbia\\Indoor localization\\New Dataset\\magneticnewcoordinate00.csv\")\n",
    "sdata1 = pd.read_csv(r\"D:\\BSC IT DOCX\\Research Papers\\Research Internship-Columbia\\Indoor localization\\New Dataset\\magneticnewcoordinate01.csv\")\n",
    "sdata2 = pd.read_csv(r\"D:\\BSC IT DOCX\\Research Papers\\Research Internship-Columbia\\Indoor localization\\New Dataset\\magneticnewcoordinate02.csv\")\n",
    "sdata3 = pd.read_csv(r\"D:\\BSC IT DOCX\\Research Papers\\Research Internship-Columbia\\Indoor localization\\New Dataset\\magneticnewcoordinate10.csv\")\n",
    "sdata4 = pd.read_csv(r\"D:\\BSC IT DOCX\\Research Papers\\Research Internship-Columbia\\Indoor localization\\New Dataset\\magneticnewcoordinate11.csv\")\n",
    "sdata5 = pd.read_csv(r\"D:\\BSC IT DOCX\\Research Papers\\Research Internship-Columbia\\Indoor localization\\New Dataset\\magneticnewcoordinate12.csv\")\n",
    "sdata6 = pd.read_csv(r\"D:\\BSC IT DOCX\\Research Papers\\Research Internship-Columbia\\Indoor localization\\New Dataset\\magneticnewcoordinate20.csv\")\n",
    "sdata7 = pd.read_csv(r\"D:\\BSC IT DOCX\\Research Papers\\Research Internship-Columbia\\Indoor localization\\New Dataset\\magneticnewcoordinate21.csv\")\n",
    "sdata8 = pd.read_csv(r\"D:\\BSC IT DOCX\\Research Papers\\Research Internship-Columbia\\Indoor localization\\New Dataset\\magneticnewcoordinate22.csv\")"
   ]
  },
  {
   "cell_type": "code",
   "execution_count": 5,
   "metadata": {},
   "outputs": [],
   "source": [
    "sdata.columns = ['TimeStamp', 'X', 'Y', 'Z', 'Magnitude','CoordinateID']\n",
    "sdata1.columns = ['TimeStamp', 'X', 'Y', 'Z', 'Magnitude','CoordinateID']\n",
    "sdata2.columns = ['TimeStamp', 'X', 'Y', 'Z', 'Magnitude','CoordinateID']\n",
    "sdata3.columns = ['TimeStamp', 'X', 'Y', 'Z', 'Magnitude','CoordinateID']\n",
    "sdata4.columns = ['TimeStamp', 'X', 'Y', 'Z', 'Magnitude','CoordinateID']\n",
    "sdata5.columns = ['TimeStamp', 'X', 'Y', 'Z', 'Magnitude','CoordinateID']\n",
    "sdata6.columns = ['TimeStamp', 'X', 'Y', 'Z', 'Magnitude','CoordinateID']\n",
    "sdata7.columns = ['TimeStamp', 'X', 'Y', 'Z', 'Magnitude','CoordinateID']\n",
    "sdata8.columns = ['TimeStamp', 'X', 'Y', 'Z', 'Magnitude','CoordinateID']"
   ]
  },
  {
   "cell_type": "code",
   "execution_count": 6,
   "metadata": {},
   "outputs": [
    {
     "name": "stdout",
     "output_type": "stream",
     "text": [
      "(2444, 6) (2774, 6) (3107, 6) (3440, 6) (3760, 6) (4090, 6) (4449, 6) (4772, 6) (5102, 6)\n"
     ]
    }
   ],
   "source": [
    "print(sdata.shape,\n",
    "sdata1.shape,\n",
    "sdata2.shape,\n",
    "sdata3.shape,\n",
    "sdata4.shape,\n",
    "sdata5.shape,\n",
    "sdata6.shape,\n",
    "sdata7.shape,\n",
    "sdata8.shape)\n"
   ]
  },
  {
   "cell_type": "markdown",
   "metadata": {},
   "source": [
    "Exploratory Data Analysis"
   ]
  },
  {
   "cell_type": "code",
   "execution_count": 7,
   "metadata": {},
   "outputs": [],
   "source": [
    "df = pd.concat([sdata, sdata1, sdata2, sdata3,sdata4, sdata5, sdata6, sdata7, sdata8], axis=0)"
   ]
  },
  {
   "cell_type": "code",
   "execution_count": 8,
   "metadata": {},
   "outputs": [],
   "source": [
    "df = df.reset_index(drop=True)"
   ]
  },
  {
   "cell_type": "code",
   "execution_count": 9,
   "metadata": {},
   "outputs": [
    {
     "data": {
      "text/html": [
       "<div>\n",
       "<style scoped>\n",
       "    .dataframe tbody tr th:only-of-type {\n",
       "        vertical-align: middle;\n",
       "    }\n",
       "\n",
       "    .dataframe tbody tr th {\n",
       "        vertical-align: top;\n",
       "    }\n",
       "\n",
       "    .dataframe thead th {\n",
       "        text-align: right;\n",
       "    }\n",
       "</style>\n",
       "<table border=\"1\" class=\"dataframe\">\n",
       "  <thead>\n",
       "    <tr style=\"text-align: right;\">\n",
       "      <th></th>\n",
       "      <th>TimeStamp</th>\n",
       "      <th>X</th>\n",
       "      <th>Y</th>\n",
       "      <th>Z</th>\n",
       "      <th>Magnitude</th>\n",
       "      <th>CoordinateID</th>\n",
       "    </tr>\n",
       "  </thead>\n",
       "  <tbody>\n",
       "    <tr>\n",
       "      <th>0</th>\n",
       "      <td>2020-07-22 05:10:50:003</td>\n",
       "      <td>-17.34</td>\n",
       "      <td>29.519999</td>\n",
       "      <td>-20.520000</td>\n",
       "      <td>27.942548</td>\n",
       "      <td>0</td>\n",
       "    </tr>\n",
       "    <tr>\n",
       "      <th>1</th>\n",
       "      <td>2020-07-22 05:10:50:022</td>\n",
       "      <td>-17.40</td>\n",
       "      <td>29.279999</td>\n",
       "      <td>-20.220000</td>\n",
       "      <td>27.751907</td>\n",
       "      <td>0</td>\n",
       "    </tr>\n",
       "    <tr>\n",
       "      <th>2</th>\n",
       "      <td>2020-07-22 05:10:50:042</td>\n",
       "      <td>-17.22</td>\n",
       "      <td>29.699999</td>\n",
       "      <td>-20.160000</td>\n",
       "      <td>27.610759</td>\n",
       "      <td>0</td>\n",
       "    </tr>\n",
       "    <tr>\n",
       "      <th>3</th>\n",
       "      <td>2020-07-22 05:10:50:062</td>\n",
       "      <td>-17.22</td>\n",
       "      <td>29.279999</td>\n",
       "      <td>-20.460000</td>\n",
       "      <td>27.815462</td>\n",
       "      <td>0</td>\n",
       "    </tr>\n",
       "    <tr>\n",
       "      <th>4</th>\n",
       "      <td>2020-07-22 05:10:50:082</td>\n",
       "      <td>-17.58</td>\n",
       "      <td>29.279999</td>\n",
       "      <td>-20.640000</td>\n",
       "      <td>28.171368</td>\n",
       "      <td>0</td>\n",
       "    </tr>\n",
       "    <tr>\n",
       "      <th>...</th>\n",
       "      <td>...</td>\n",
       "      <td>...</td>\n",
       "      <td>...</td>\n",
       "      <td>...</td>\n",
       "      <td>...</td>\n",
       "      <td>...</td>\n",
       "    </tr>\n",
       "    <tr>\n",
       "      <th>9995</th>\n",
       "      <td>2020-07-22 05:12:17:009</td>\n",
       "      <td>-16.14</td>\n",
       "      <td>29.880000</td>\n",
       "      <td>-22.920000</td>\n",
       "      <td>29.078961</td>\n",
       "      <td>10</td>\n",
       "    </tr>\n",
       "    <tr>\n",
       "      <th>9996</th>\n",
       "      <td>2020-07-22 05:12:17:028</td>\n",
       "      <td>-16.38</td>\n",
       "      <td>29.880000</td>\n",
       "      <td>-23.279999</td>\n",
       "      <td>29.496147</td>\n",
       "      <td>10</td>\n",
       "    </tr>\n",
       "    <tr>\n",
       "      <th>9997</th>\n",
       "      <td>2020-07-22 05:12:17:048</td>\n",
       "      <td>-17.10</td>\n",
       "      <td>30.000000</td>\n",
       "      <td>-23.640000</td>\n",
       "      <td>30.187075</td>\n",
       "      <td>10</td>\n",
       "    </tr>\n",
       "    <tr>\n",
       "      <th>9998</th>\n",
       "      <td>2020-07-22 05:12:17:068</td>\n",
       "      <td>-17.40</td>\n",
       "      <td>30.000000</td>\n",
       "      <td>-23.640000</td>\n",
       "      <td>30.358022</td>\n",
       "      <td>10</td>\n",
       "    </tr>\n",
       "    <tr>\n",
       "      <th>9999</th>\n",
       "      <td>2020-07-22 05:12:17:089</td>\n",
       "      <td>-17.82</td>\n",
       "      <td>29.939999</td>\n",
       "      <td>-23.699999</td>\n",
       "      <td>30.645103</td>\n",
       "      <td>10</td>\n",
       "    </tr>\n",
       "  </tbody>\n",
       "</table>\n",
       "<p>10000 rows × 6 columns</p>\n",
       "</div>"
      ],
      "text/plain": [
       "                    TimeStamp      X          Y          Z  Magnitude  \\\n",
       "0     2020-07-22 05:10:50:003 -17.34  29.519999 -20.520000  27.942548   \n",
       "1     2020-07-22 05:10:50:022 -17.40  29.279999 -20.220000  27.751907   \n",
       "2     2020-07-22 05:10:50:042 -17.22  29.699999 -20.160000  27.610759   \n",
       "3     2020-07-22 05:10:50:062 -17.22  29.279999 -20.460000  27.815462   \n",
       "4     2020-07-22 05:10:50:082 -17.58  29.279999 -20.640000  28.171368   \n",
       "...                       ...    ...        ...        ...        ...   \n",
       "9995  2020-07-22 05:12:17:009 -16.14  29.880000 -22.920000  29.078961   \n",
       "9996  2020-07-22 05:12:17:028 -16.38  29.880000 -23.279999  29.496147   \n",
       "9997  2020-07-22 05:12:17:048 -17.10  30.000000 -23.640000  30.187075   \n",
       "9998  2020-07-22 05:12:17:068 -17.40  30.000000 -23.640000  30.358022   \n",
       "9999  2020-07-22 05:12:17:089 -17.82  29.939999 -23.699999  30.645103   \n",
       "\n",
       "      CoordinateID  \n",
       "0                0  \n",
       "1                0  \n",
       "2                0  \n",
       "3                0  \n",
       "4                0  \n",
       "...            ...  \n",
       "9995            10  \n",
       "9996            10  \n",
       "9997            10  \n",
       "9998            10  \n",
       "9999            10  \n",
       "\n",
       "[10000 rows x 6 columns]"
      ]
     },
     "execution_count": 9,
     "metadata": {},
     "output_type": "execute_result"
    }
   ],
   "source": [
    "df.head(10000)"
   ]
  },
  {
   "cell_type": "code",
   "execution_count": 8,
   "metadata": {},
   "outputs": [
    {
     "data": {
      "text/plain": [
       "<matplotlib.axes._subplots.AxesSubplot at 0x20a537efd48>"
      ]
     },
     "execution_count": 8,
     "metadata": {},
     "output_type": "execute_result"
    },
    {
     "data": {
      "image/png": "[encoded data removed]",
      "text/plain": [
       "<Figure size 864x432 with 2 Axes>"
      ]
     },
     "metadata": {
      "needs_background": "light"
     },
     "output_type": "display_data"
    }
   ],
   "source": [
    "plt.figure(figsize = (12, 6))\n",
    "sns.heatmap(df.corr(), cmap = 'coolwarm', annot = True)"
   ]
  },
  {
   "cell_type": "code",
   "execution_count": 88,
   "metadata": {},
   "outputs": [
    {
     "data": {
      "image/png": "[encoded data removed]",
      "text/plain": [
       "<Figure size 432x288 with 1 Axes>"
      ]
     },
     "metadata": {
      "needs_background": "light"
     },
     "output_type": "display_data"
    }
   ],
   "source": [
    "ax = sns.countplot(df['CoordinateID'])\n",
    "plt.title('Bar plot - CoordinateID')\n",
    "plt.show()"
   ]
  },
  {
   "cell_type": "code",
   "execution_count": 13,
   "metadata": {},
   "outputs": [
    {
     "data": {
      "image/png": "[encoded data removed]",
      "text/plain": [
       "<Figure size 432x288 with 1 Axes>"
      ]
     },
     "metadata": {},
     "output_type": "display_data"
    }
   ],
   "source": [
    "counts = df.CoordinateID.value_counts()\n",
    "plt.pie(counts, autopct='%1.1f%%',\n",
    "        labels=counts.index, shadow=True)\n",
    "plt.title('Pie plot - Sex')\n",
    "plt.show()"
   ]
  },
  {
   "cell_type": "code",
   "execution_count": 14,
   "metadata": {},
   "outputs": [
    {
     "data": {
      "image/png": "[encoded data removed]",
      "text/plain": [
       "<Figure size 432x288 with 1 Axes>"
      ]
     },
     "metadata": {
      "needs_background": "light"
     },
     "output_type": "display_data"
    }
   ],
   "source": [
    "sns.distplot(df.CoordinateID)\n",
    "plt.title('Histogram - Fare')\n",
    "plt.show()"
   ]
  },
  {
   "cell_type": "code",
   "execution_count": 16,
   "metadata": {},
   "outputs": [
    {
     "data": {
      "image/png": "[encoded data removed]",
      "text/plain": [
       "<Figure size 432x288 with 1 Axes>"
      ]
     },
     "metadata": {
      "needs_background": "light"
     },
     "output_type": "display_data"
    }
   ],
   "source": [
    "sns.boxplot(df.CoordinateID)\n",
    "plt.title('Box-Whisker - Coordinates')\n",
    "plt.show()"
   ]
  },
  {
   "cell_type": "code",
   "execution_count": 17,
   "metadata": {},
   "outputs": [
    {
     "data": {
      "image/png": "[encoded data removed]",
      "text/plain": [
       "<Figure size 432x288 with 1 Axes>"
      ]
     },
     "metadata": {
      "needs_background": "light"
     },
     "output_type": "display_data"
    }
   ],
   "source": [
    "sns.lineplot(x=df.Magnitude, y=df.CoordinateID)\n",
    "plt.title('Magnitude vs CoordinateID')\n",
    "plt.show()"
   ]
  },
  {
   "cell_type": "code",
   "execution_count": 18,
   "metadata": {},
   "outputs": [
    {
     "name": "stdout",
     "output_type": "stream",
     "text": [
      "<class 'pandas.core.frame.DataFrame'>\n",
      "RangeIndex: 33938 entries, 0 to 33937\n",
      "Data columns (total 6 columns):\n",
      " #   Column        Non-Null Count  Dtype  \n",
      "---  ------        --------------  -----  \n",
      " 0   TimeStamp     33938 non-null  object \n",
      " 1   X             33938 non-null  float64\n",
      " 2   Y             33938 non-null  float64\n",
      " 3   Z             33938 non-null  float64\n",
      " 4   Magnitude     33938 non-null  float64\n",
      " 5   CoordinateID  33938 non-null  int64  \n",
      "dtypes: float64(4), int64(1), object(1)\n",
      "memory usage: 1.6+ MB\n"
     ]
    }
   ],
   "source": [
    "df.info()"
   ]
  },
  {
   "cell_type": "code",
   "execution_count": 19,
   "metadata": {},
   "outputs": [
    {
     "data": {
      "text/html": [
       "<div>\n",
       "<style scoped>\n",
       "    .dataframe tbody tr th:only-of-type {\n",
       "        vertical-align: middle;\n",
       "    }\n",
       "\n",
       "    .dataframe tbody tr th {\n",
       "        vertical-align: top;\n",
       "    }\n",
       "\n",
       "    .dataframe thead th {\n",
       "        text-align: right;\n",
       "    }\n",
       "</style>\n",
       "<table border=\"1\" class=\"dataframe\">\n",
       "  <thead>\n",
       "    <tr style=\"text-align: right;\">\n",
       "      <th></th>\n",
       "      <th>X</th>\n",
       "      <th>Y</th>\n",
       "      <th>Z</th>\n",
       "      <th>Magnitude</th>\n",
       "      <th>CoordinateID</th>\n",
       "    </tr>\n",
       "  </thead>\n",
       "  <tbody>\n",
       "    <tr>\n",
       "      <th>count</th>\n",
       "      <td>33938.000000</td>\n",
       "      <td>33938.000000</td>\n",
       "      <td>33938.000000</td>\n",
       "      <td>33938.000000</td>\n",
       "      <td>33938.000000</td>\n",
       "    </tr>\n",
       "    <tr>\n",
       "      <th>mean</th>\n",
       "      <td>-19.432219</td>\n",
       "      <td>28.383776</td>\n",
       "      <td>-21.285192</td>\n",
       "      <td>29.830513</td>\n",
       "      <td>12.825270</td>\n",
       "    </tr>\n",
       "    <tr>\n",
       "      <th>std</th>\n",
       "      <td>1.342536</td>\n",
       "      <td>1.098319</td>\n",
       "      <td>1.503288</td>\n",
       "      <td>1.280910</td>\n",
       "      <td>8.004043</td>\n",
       "    </tr>\n",
       "    <tr>\n",
       "      <th>min</th>\n",
       "      <td>-23.100000</td>\n",
       "      <td>25.019999</td>\n",
       "      <td>-25.320000</td>\n",
       "      <td>26.300540</td>\n",
       "      <td>0.000000</td>\n",
       "    </tr>\n",
       "    <tr>\n",
       "      <th>25%</th>\n",
       "      <td>-20.520000</td>\n",
       "      <td>27.660000</td>\n",
       "      <td>-22.560000</td>\n",
       "      <td>28.848355</td>\n",
       "      <td>10.000000</td>\n",
       "    </tr>\n",
       "    <tr>\n",
       "      <th>50%</th>\n",
       "      <td>-19.500000</td>\n",
       "      <td>28.260000</td>\n",
       "      <td>-21.060000</td>\n",
       "      <td>29.773443</td>\n",
       "      <td>12.000000</td>\n",
       "    </tr>\n",
       "    <tr>\n",
       "      <th>75%</th>\n",
       "      <td>-18.480000</td>\n",
       "      <td>29.160000</td>\n",
       "      <td>-20.160000</td>\n",
       "      <td>30.727302</td>\n",
       "      <td>21.000000</td>\n",
       "    </tr>\n",
       "    <tr>\n",
       "      <th>max</th>\n",
       "      <td>-15.360000</td>\n",
       "      <td>31.920000</td>\n",
       "      <td>-17.580000</td>\n",
       "      <td>33.433283</td>\n",
       "      <td>22.000000</td>\n",
       "    </tr>\n",
       "  </tbody>\n",
       "</table>\n",
       "</div>"
      ],
      "text/plain": [
       "                  X             Y             Z     Magnitude  CoordinateID\n",
       "count  33938.000000  33938.000000  33938.000000  33938.000000  33938.000000\n",
       "mean     -19.432219     28.383776    -21.285192     29.830513     12.825270\n",
       "std        1.342536      1.098319      1.503288      1.280910      8.004043\n",
       "min      -23.100000     25.019999    -25.320000     26.300540      0.000000\n",
       "25%      -20.520000     27.660000    -22.560000     28.848355     10.000000\n",
       "50%      -19.500000     28.260000    -21.060000     29.773443     12.000000\n",
       "75%      -18.480000     29.160000    -20.160000     30.727302     21.000000\n",
       "max      -15.360000     31.920000    -17.580000     33.433283     22.000000"
      ]
     },
     "execution_count": 19,
     "metadata": {},
     "output_type": "execute_result"
    }
   ],
   "source": [
    "df.describe()"
   ]
  },
  {
   "cell_type": "markdown",
   "metadata": {},
   "source": [
    "### As shown by the visualizations, the data is imbalanced. So to deal with imbalanced dataset we can try Resampling, Oversampling and many other methods"
   ]
  },
  {
   "cell_type": "code",
   "execution_count": 21,
   "metadata": {},
   "outputs": [
    {
     "data": {
      "image/png": "[encoded data removed]",
      "text/plain": [
       "<Figure size 1440x720 with 2 Axes>"
      ]
     },
     "metadata": {
      "needs_background": "light"
     },
     "output_type": "display_data"
    }
   ],
   "source": [
    "# Sample figsize in inches\n",
    "fig, ax = plt.subplots(figsize=(20,10))         \n",
    "# Imbalanced DataFrame Correlation\n",
    "corr = df.corr()\n",
    "sns.heatmap(corr, cmap='YlGnBu', annot_kws={'size':30}, ax=ax, annot = True)\n",
    "ax.set_title(\"Imbalanced Correlation Matrix\", fontsize=14)\n",
    "plt.show()"
   ]
  },
  {
   "cell_type": "code",
   "execution_count": 51,
   "metadata": {},
   "outputs": [],
   "source": [
    "shuffled_df = df.sample(frac=1,random_state=4)\n",
    "\n",
    "coord_df = shuffled_df.loc[shuffled_df['CoordinateID'] == 22]\n",
    "\n",
    "non_fraud_df = shuffled_df.loc[shuffled_df['CoordinateID'] == 0].sample(n=5000,random_state=42, replace=True)\n",
    "normalized_df = pd.concat([coord_df, non_fraud_df])"
   ]
  },
  {
   "cell_type": "code",
   "execution_count": 52,
   "metadata": {},
   "outputs": [
    {
     "data": {
      "image/png": "[encoded data removed]",
      "text/plain": [
       "<Figure size 432x288 with 1 Axes>"
      ]
     },
     "metadata": {
      "needs_background": "light"
     },
     "output_type": "display_data"
    }
   ],
   "source": [
    "ax = sns.countplot(normalized_df['CoordinateID'])\n",
    "plt.title('Bar plot - Survived')\n",
    "plt.show()"
   ]
  },
  {
   "cell_type": "code",
   "execution_count": 54,
   "metadata": {},
   "outputs": [
    {
     "data": {
      "image/png": "[encoded data removed]",
      "text/plain": [
       "<Figure size 1440x720 with 2 Axes>"
      ]
     },
     "metadata": {
      "needs_background": "light"
     },
     "output_type": "display_data"
    }
   ],
   "source": [
    "# Sample figsize in inches\n",
    "fig, ax = plt.subplots(figsize=(20,10))         \n",
    "# Imbalanced DataFrame Correlation\n",
    "corr = normalized_df.corr()\n",
    "sns.heatmap(corr, cmap='YlGnBu', annot_kws={'size':30}, ax=ax, annot = True)\n",
    "ax.set_title(\"Imbalanced Correlation Matrix\", fontsize=14)\n",
    "plt.show()"
   ]
  },
  {
   "cell_type": "code",
   "execution_count": 94,
   "metadata": {},
   "outputs": [
    {
     "data": {
      "text/html": [
       "<div>\n",
       "<style scoped>\n",
       "    .dataframe tbody tr th:only-of-type {\n",
       "        vertical-align: middle;\n",
       "    }\n",
       "\n",
       "    .dataframe tbody tr th {\n",
       "        vertical-align: top;\n",
       "    }\n",
       "\n",
       "    .dataframe thead th {\n",
       "        text-align: right;\n",
       "    }\n",
       "</style>\n",
       "<table border=\"1\" class=\"dataframe\">\n",
       "  <thead>\n",
       "    <tr style=\"text-align: right;\">\n",
       "      <th></th>\n",
       "      <th>TimeStamp</th>\n",
       "      <th>X</th>\n",
       "      <th>Y</th>\n",
       "      <th>Z</th>\n",
       "      <th>Magnitude</th>\n",
       "      <th>CoordinateID</th>\n",
       "    </tr>\n",
       "  </thead>\n",
       "  <tbody>\n",
       "    <tr>\n",
       "      <th>32641</th>\n",
       "      <td>2020-07-22 05:16:55:998</td>\n",
       "      <td>-16.740000</td>\n",
       "      <td>26.939999</td>\n",
       "      <td>-22.439999</td>\n",
       "      <td>28.942376</td>\n",
       "      <td>22</td>\n",
       "    </tr>\n",
       "    <tr>\n",
       "      <th>29551</th>\n",
       "      <td>2020-07-22 05:11:35:918</td>\n",
       "      <td>-21.600000</td>\n",
       "      <td>27.599998</td>\n",
       "      <td>-22.740000</td>\n",
       "      <td>32.231470</td>\n",
       "      <td>22</td>\n",
       "    </tr>\n",
       "    <tr>\n",
       "      <th>30152</th>\n",
       "      <td>2020-07-22 05:12:09:930</td>\n",
       "      <td>-20.279999</td>\n",
       "      <td>28.199999</td>\n",
       "      <td>-21.900000</td>\n",
       "      <td>30.778049</td>\n",
       "      <td>22</td>\n",
       "    </tr>\n",
       "    <tr>\n",
       "      <th>33286</th>\n",
       "      <td>2020-07-22 05:17:42:765</td>\n",
       "      <td>-19.439999</td>\n",
       "      <td>29.820000</td>\n",
       "      <td>-20.640000</td>\n",
       "      <td>29.386444</td>\n",
       "      <td>22</td>\n",
       "    </tr>\n",
       "    <tr>\n",
       "      <th>29884</th>\n",
       "      <td>2020-07-22 05:11:54:251</td>\n",
       "      <td>-19.619999</td>\n",
       "      <td>29.099998</td>\n",
       "      <td>-22.140000</td>\n",
       "      <td>30.550350</td>\n",
       "      <td>22</td>\n",
       "    </tr>\n",
       "  </tbody>\n",
       "</table>\n",
       "</div>"
      ],
      "text/plain": [
       "                     TimeStamp          X          Y          Z  Magnitude  \\\n",
       "32641  2020-07-22 05:16:55:998 -16.740000  26.939999 -22.439999  28.942376   \n",
       "29551  2020-07-22 05:11:35:918 -21.600000  27.599998 -22.740000  32.231470   \n",
       "30152  2020-07-22 05:12:09:930 -20.279999  28.199999 -21.900000  30.778049   \n",
       "33286  2020-07-22 05:17:42:765 -19.439999  29.820000 -20.640000  29.386444   \n",
       "29884  2020-07-22 05:11:54:251 -19.619999  29.099998 -22.140000  30.550350   \n",
       "\n",
       "       CoordinateID  \n",
       "32641            22  \n",
       "29551            22  \n",
       "30152            22  \n",
       "33286            22  \n",
       "29884            22  "
      ]
     },
     "execution_count": 94,
     "metadata": {},
     "output_type": "execute_result"
    }
   ],
   "source": [
    "normalized_df.head()"
   ]
  },
  {
   "cell_type": "code",
   "execution_count": 12,
   "metadata": {},
   "outputs": [
    {
     "data": {
      "text/html": [
       "<div>\n",
       "<style scoped>\n",
       "    .dataframe tbody tr th:only-of-type {\n",
       "        vertical-align: middle;\n",
       "    }\n",
       "\n",
       "    .dataframe tbody tr th {\n",
       "        vertical-align: top;\n",
       "    }\n",
       "\n",
       "    .dataframe thead th {\n",
       "        text-align: right;\n",
       "    }\n",
       "</style>\n",
       "<table border=\"1\" class=\"dataframe\">\n",
       "  <thead>\n",
       "    <tr style=\"text-align: right;\">\n",
       "      <th></th>\n",
       "      <th>TimeStamp</th>\n",
       "      <th>X</th>\n",
       "      <th>Y</th>\n",
       "      <th>Z</th>\n",
       "      <th>Magnitude</th>\n",
       "      <th>CoordinateID</th>\n",
       "    </tr>\n",
       "  </thead>\n",
       "  <tbody>\n",
       "    <tr>\n",
       "      <th>0</th>\n",
       "      <td>2020-07-22 05:10:50:003</td>\n",
       "      <td>-17.34</td>\n",
       "      <td>29.519999</td>\n",
       "      <td>-20.520000</td>\n",
       "      <td>27.942548</td>\n",
       "      <td>0</td>\n",
       "    </tr>\n",
       "    <tr>\n",
       "      <th>1</th>\n",
       "      <td>2020-07-22 05:10:50:022</td>\n",
       "      <td>-17.40</td>\n",
       "      <td>29.279999</td>\n",
       "      <td>-20.220000</td>\n",
       "      <td>27.751907</td>\n",
       "      <td>0</td>\n",
       "    </tr>\n",
       "    <tr>\n",
       "      <th>2</th>\n",
       "      <td>2020-07-22 05:10:50:042</td>\n",
       "      <td>-17.22</td>\n",
       "      <td>29.699999</td>\n",
       "      <td>-20.160000</td>\n",
       "      <td>27.610759</td>\n",
       "      <td>0</td>\n",
       "    </tr>\n",
       "    <tr>\n",
       "      <th>3</th>\n",
       "      <td>2020-07-22 05:10:50:062</td>\n",
       "      <td>-17.22</td>\n",
       "      <td>29.279999</td>\n",
       "      <td>-20.460000</td>\n",
       "      <td>27.815462</td>\n",
       "      <td>0</td>\n",
       "    </tr>\n",
       "    <tr>\n",
       "      <th>4</th>\n",
       "      <td>2020-07-22 05:10:50:082</td>\n",
       "      <td>-17.58</td>\n",
       "      <td>29.279999</td>\n",
       "      <td>-20.640000</td>\n",
       "      <td>28.171368</td>\n",
       "      <td>0</td>\n",
       "    </tr>\n",
       "    <tr>\n",
       "      <th>...</th>\n",
       "      <td>...</td>\n",
       "      <td>...</td>\n",
       "      <td>...</td>\n",
       "      <td>...</td>\n",
       "      <td>...</td>\n",
       "      <td>...</td>\n",
       "    </tr>\n",
       "    <tr>\n",
       "      <th>9995</th>\n",
       "      <td>2020-07-22 05:12:17:009</td>\n",
       "      <td>-16.14</td>\n",
       "      <td>29.880000</td>\n",
       "      <td>-22.920000</td>\n",
       "      <td>29.078961</td>\n",
       "      <td>10</td>\n",
       "    </tr>\n",
       "    <tr>\n",
       "      <th>9996</th>\n",
       "      <td>2020-07-22 05:12:17:028</td>\n",
       "      <td>-16.38</td>\n",
       "      <td>29.880000</td>\n",
       "      <td>-23.279999</td>\n",
       "      <td>29.496147</td>\n",
       "      <td>10</td>\n",
       "    </tr>\n",
       "    <tr>\n",
       "      <th>9997</th>\n",
       "      <td>2020-07-22 05:12:17:048</td>\n",
       "      <td>-17.10</td>\n",
       "      <td>30.000000</td>\n",
       "      <td>-23.640000</td>\n",
       "      <td>30.187075</td>\n",
       "      <td>10</td>\n",
       "    </tr>\n",
       "    <tr>\n",
       "      <th>9998</th>\n",
       "      <td>2020-07-22 05:12:17:068</td>\n",
       "      <td>-17.40</td>\n",
       "      <td>30.000000</td>\n",
       "      <td>-23.640000</td>\n",
       "      <td>30.358022</td>\n",
       "      <td>10</td>\n",
       "    </tr>\n",
       "    <tr>\n",
       "      <th>9999</th>\n",
       "      <td>2020-07-22 05:12:17:089</td>\n",
       "      <td>-17.82</td>\n",
       "      <td>29.939999</td>\n",
       "      <td>-23.699999</td>\n",
       "      <td>30.645103</td>\n",
       "      <td>10</td>\n",
       "    </tr>\n",
       "  </tbody>\n",
       "</table>\n",
       "<p>10000 rows × 6 columns</p>\n",
       "</div>"
      ],
      "text/plain": [
       "                    TimeStamp      X          Y          Z  Magnitude  \\\n",
       "0     2020-07-22 05:10:50:003 -17.34  29.519999 -20.520000  27.942548   \n",
       "1     2020-07-22 05:10:50:022 -17.40  29.279999 -20.220000  27.751907   \n",
       "2     2020-07-22 05:10:50:042 -17.22  29.699999 -20.160000  27.610759   \n",
       "3     2020-07-22 05:10:50:062 -17.22  29.279999 -20.460000  27.815462   \n",
       "4     2020-07-22 05:10:50:082 -17.58  29.279999 -20.640000  28.171368   \n",
       "...                       ...    ...        ...        ...        ...   \n",
       "9995  2020-07-22 05:12:17:009 -16.14  29.880000 -22.920000  29.078961   \n",
       "9996  2020-07-22 05:12:17:028 -16.38  29.880000 -23.279999  29.496147   \n",
       "9997  2020-07-22 05:12:17:048 -17.10  30.000000 -23.640000  30.187075   \n",
       "9998  2020-07-22 05:12:17:068 -17.40  30.000000 -23.640000  30.358022   \n",
       "9999  2020-07-22 05:12:17:089 -17.82  29.939999 -23.699999  30.645103   \n",
       "\n",
       "      CoordinateID  \n",
       "0                0  \n",
       "1                0  \n",
       "2                0  \n",
       "3                0  \n",
       "4                0  \n",
       "...            ...  \n",
       "9995            10  \n",
       "9996            10  \n",
       "9997            10  \n",
       "9998            10  \n",
       "9999            10  \n",
       "\n",
       "[10000 rows x 6 columns]"
      ]
     },
     "execution_count": 12,
     "metadata": {},
     "output_type": "execute_result"
    }
   ],
   "source": [
    "df.head(10000)"
   ]
  },
  {
   "cell_type": "code",
   "execution_count": 65,
   "metadata": {},
   "outputs": [
    {
     "data": {
      "image/png": "[encoded data removed]",
      "text/plain": [
       "<Figure size 432x288 with 1 Axes>"
      ]
     },
     "metadata": {
      "needs_background": "light"
     },
     "output_type": "display_data"
    }
   ],
   "source": [
    "import matplotlib.pyplot as plt \n",
    "from mpl_toolkits.mplot3d import Axes3D\n",
    "x, y, z = df['X'], df['Y'], df['Z']\n",
    "\n",
    "fig = plt.figure() \n",
    "ax = fig.add_subplot(111, projection='3d') \n",
    "ax.scatter(x,y,z,)\n",
    "plt.show()"
   ]
  },
  {
   "cell_type": "code",
   "execution_count": 14,
   "metadata": {},
   "outputs": [],
   "source": [
    "df['X_rolling_avg'] = df.X.rolling(100).mean() \n",
    "df['Y_rolling_avg'] = df.Y.rolling(100).mean() \n",
    "df['Magn_rolling_avg'] = df.Magnitude.rolling(100).mean() "
   ]
  },
  {
   "cell_type": "code",
   "execution_count": 35,
   "metadata": {},
   "outputs": [],
   "source": [
    "grouper = df.groupby(['CoordinateID',df.reset_index().index // 100])\n",
    "\n",
    "df['X_mean'] = grouper['X'].transform('mean')\n",
    "df['Y_mean'] = grouper['Y'].transform('mean')\n",
    "df['Z_mean'] = grouper['Z'].transform('mean')\n",
    "\n",
    "new_df = grouper.agg(X_mean = ('X', 'mean'), \n",
    "                     Y_mean = ('Y', 'mean'),\n",
    "                     Z_mean = ('Z', 'mean'),\n",
    "                     mag_mean = ('Magnitude', 'mean'))"
   ]
  },
  {
   "cell_type": "code",
   "execution_count": 36,
   "metadata": {},
   "outputs": [
    {
     "data": {
      "text/html": [
       "<div>\n",
       "<style scoped>\n",
       "    .dataframe tbody tr th:only-of-type {\n",
       "        vertical-align: middle;\n",
       "    }\n",
       "\n",
       "    .dataframe tbody tr th {\n",
       "        vertical-align: top;\n",
       "    }\n",
       "\n",
       "    .dataframe thead th {\n",
       "        text-align: right;\n",
       "    }\n",
       "</style>\n",
       "<table border=\"1\" class=\"dataframe\">\n",
       "  <thead>\n",
       "    <tr style=\"text-align: right;\">\n",
       "      <th></th>\n",
       "      <th></th>\n",
       "      <th>X_mean</th>\n",
       "      <th>Y_mean</th>\n",
       "      <th>Z_mean</th>\n",
       "      <th>mag_mean</th>\n",
       "    </tr>\n",
       "    <tr>\n",
       "      <th>CoordinateID</th>\n",
       "      <th></th>\n",
       "      <th></th>\n",
       "      <th></th>\n",
       "      <th></th>\n",
       "      <th></th>\n",
       "    </tr>\n",
       "  </thead>\n",
       "  <tbody>\n",
       "    <tr>\n",
       "      <th rowspan=\"5\" valign=\"top\">0</th>\n",
       "      <th>0</th>\n",
       "      <td>-18.087000</td>\n",
       "      <td>28.823400</td>\n",
       "      <td>-20.743800</td>\n",
       "      <td>28.555537</td>\n",
       "    </tr>\n",
       "    <tr>\n",
       "      <th>1</th>\n",
       "      <td>-18.370800</td>\n",
       "      <td>28.099800</td>\n",
       "      <td>-21.407400</td>\n",
       "      <td>29.220094</td>\n",
       "    </tr>\n",
       "    <tr>\n",
       "      <th>2</th>\n",
       "      <td>-18.867600</td>\n",
       "      <td>27.093000</td>\n",
       "      <td>-21.903600</td>\n",
       "      <td>29.847360</td>\n",
       "    </tr>\n",
       "    <tr>\n",
       "      <th>3</th>\n",
       "      <td>-19.766400</td>\n",
       "      <td>28.293000</td>\n",
       "      <td>-21.047400</td>\n",
       "      <td>29.852645</td>\n",
       "    </tr>\n",
       "    <tr>\n",
       "      <th>4</th>\n",
       "      <td>-19.542000</td>\n",
       "      <td>28.279800</td>\n",
       "      <td>-20.700000</td>\n",
       "      <td>29.466536</td>\n",
       "    </tr>\n",
       "    <tr>\n",
       "      <th>...</th>\n",
       "      <th>...</th>\n",
       "      <td>...</td>\n",
       "      <td>...</td>\n",
       "      <td>...</td>\n",
       "      <td>...</td>\n",
       "    </tr>\n",
       "    <tr>\n",
       "      <th rowspan=\"5\" valign=\"top\">22</th>\n",
       "      <th>335</th>\n",
       "      <td>-19.507200</td>\n",
       "      <td>29.747400</td>\n",
       "      <td>-19.830000</td>\n",
       "      <td>28.877100</td>\n",
       "    </tr>\n",
       "    <tr>\n",
       "      <th>336</th>\n",
       "      <td>-17.300400</td>\n",
       "      <td>30.107399</td>\n",
       "      <td>-21.124800</td>\n",
       "      <td>28.399242</td>\n",
       "    </tr>\n",
       "    <tr>\n",
       "      <th>337</th>\n",
       "      <td>-17.884800</td>\n",
       "      <td>30.389999</td>\n",
       "      <td>-20.970000</td>\n",
       "      <td>28.645303</td>\n",
       "    </tr>\n",
       "    <tr>\n",
       "      <th>338</th>\n",
       "      <td>-18.108600</td>\n",
       "      <td>30.191400</td>\n",
       "      <td>-20.847600</td>\n",
       "      <td>28.693820</td>\n",
       "    </tr>\n",
       "    <tr>\n",
       "      <th>339</th>\n",
       "      <td>-19.100526</td>\n",
       "      <td>30.584210</td>\n",
       "      <td>-19.998947</td>\n",
       "      <td>28.755571</td>\n",
       "    </tr>\n",
       "  </tbody>\n",
       "</table>\n",
       "<p>348 rows × 4 columns</p>\n",
       "</div>"
      ],
      "text/plain": [
       "                     X_mean     Y_mean     Z_mean   mag_mean\n",
       "CoordinateID                                                \n",
       "0            0   -18.087000  28.823400 -20.743800  28.555537\n",
       "             1   -18.370800  28.099800 -21.407400  29.220094\n",
       "             2   -18.867600  27.093000 -21.903600  29.847360\n",
       "             3   -19.766400  28.293000 -21.047400  29.852645\n",
       "             4   -19.542000  28.279800 -20.700000  29.466536\n",
       "...                     ...        ...        ...        ...\n",
       "22           335 -19.507200  29.747400 -19.830000  28.877100\n",
       "             336 -17.300400  30.107399 -21.124800  28.399242\n",
       "             337 -17.884800  30.389999 -20.970000  28.645303\n",
       "             338 -18.108600  30.191400 -20.847600  28.693820\n",
       "             339 -19.100526  30.584210 -19.998947  28.755571\n",
       "\n",
       "[348 rows x 4 columns]"
      ]
     },
     "execution_count": 36,
     "metadata": {},
     "output_type": "execute_result"
    }
   ],
   "source": [
    "new_df"
   ]
  },
  {
   "cell_type": "code",
   "execution_count": 45,
   "metadata": {},
   "outputs": [],
   "source": [
    "grouper = df.groupby(['CoordinateID',df.reset_index().index // 100])\n",
    "new_df1 = grouper.agg(X_mean = ('X', 'mean'), \n",
    "                     Y_mean = ('Y', 'mean'),\n",
    "                     Z_mean = ('Z', 'mean'),\n",
    "                     mag_mean = ('Magnitude', 'mean')).reset_index(level = 0)"
   ]
  },
  {
   "cell_type": "code",
   "execution_count": 50,
   "metadata": {},
   "outputs": [
    {
     "data": {
      "text/html": [
       "<div>\n",
       "<style scoped>\n",
       "    .dataframe tbody tr th:only-of-type {\n",
       "        vertical-align: middle;\n",
       "    }\n",
       "\n",
       "    .dataframe tbody tr th {\n",
       "        vertical-align: top;\n",
       "    }\n",
       "\n",
       "    .dataframe thead th {\n",
       "        text-align: right;\n",
       "    }\n",
       "</style>\n",
       "<table border=\"1\" class=\"dataframe\">\n",
       "  <thead>\n",
       "    <tr style=\"text-align: right;\">\n",
       "      <th></th>\n",
       "      <th>CoordinateID</th>\n",
       "      <th>X_mean</th>\n",
       "      <th>Y_mean</th>\n",
       "      <th>Z_mean</th>\n",
       "      <th>mag_mean</th>\n",
       "    </tr>\n",
       "  </thead>\n",
       "  <tbody>\n",
       "    <tr>\n",
       "      <th>0</th>\n",
       "      <td>0</td>\n",
       "      <td>-18.087000</td>\n",
       "      <td>28.823400</td>\n",
       "      <td>-20.743800</td>\n",
       "      <td>28.555537</td>\n",
       "    </tr>\n",
       "    <tr>\n",
       "      <th>1</th>\n",
       "      <td>0</td>\n",
       "      <td>-18.370800</td>\n",
       "      <td>28.099800</td>\n",
       "      <td>-21.407400</td>\n",
       "      <td>29.220094</td>\n",
       "    </tr>\n",
       "    <tr>\n",
       "      <th>2</th>\n",
       "      <td>0</td>\n",
       "      <td>-18.867600</td>\n",
       "      <td>27.093000</td>\n",
       "      <td>-21.903600</td>\n",
       "      <td>29.847360</td>\n",
       "    </tr>\n",
       "    <tr>\n",
       "      <th>3</th>\n",
       "      <td>0</td>\n",
       "      <td>-19.766400</td>\n",
       "      <td>28.293000</td>\n",
       "      <td>-21.047400</td>\n",
       "      <td>29.852645</td>\n",
       "    </tr>\n",
       "    <tr>\n",
       "      <th>4</th>\n",
       "      <td>0</td>\n",
       "      <td>-19.542000</td>\n",
       "      <td>28.279800</td>\n",
       "      <td>-20.700000</td>\n",
       "      <td>29.466536</td>\n",
       "    </tr>\n",
       "    <tr>\n",
       "      <th>...</th>\n",
       "      <td>...</td>\n",
       "      <td>...</td>\n",
       "      <td>...</td>\n",
       "      <td>...</td>\n",
       "      <td>...</td>\n",
       "    </tr>\n",
       "    <tr>\n",
       "      <th>335</th>\n",
       "      <td>22</td>\n",
       "      <td>-19.507200</td>\n",
       "      <td>29.747400</td>\n",
       "      <td>-19.830000</td>\n",
       "      <td>28.877100</td>\n",
       "    </tr>\n",
       "    <tr>\n",
       "      <th>336</th>\n",
       "      <td>22</td>\n",
       "      <td>-17.300400</td>\n",
       "      <td>30.107399</td>\n",
       "      <td>-21.124800</td>\n",
       "      <td>28.399242</td>\n",
       "    </tr>\n",
       "    <tr>\n",
       "      <th>337</th>\n",
       "      <td>22</td>\n",
       "      <td>-17.884800</td>\n",
       "      <td>30.389999</td>\n",
       "      <td>-20.970000</td>\n",
       "      <td>28.645303</td>\n",
       "    </tr>\n",
       "    <tr>\n",
       "      <th>338</th>\n",
       "      <td>22</td>\n",
       "      <td>-18.108600</td>\n",
       "      <td>30.191400</td>\n",
       "      <td>-20.847600</td>\n",
       "      <td>28.693820</td>\n",
       "    </tr>\n",
       "    <tr>\n",
       "      <th>339</th>\n",
       "      <td>22</td>\n",
       "      <td>-19.100526</td>\n",
       "      <td>30.584210</td>\n",
       "      <td>-19.998947</td>\n",
       "      <td>28.755571</td>\n",
       "    </tr>\n",
       "  </tbody>\n",
       "</table>\n",
       "<p>348 rows × 5 columns</p>\n",
       "</div>"
      ],
      "text/plain": [
       "     CoordinateID     X_mean     Y_mean     Z_mean   mag_mean\n",
       "0               0 -18.087000  28.823400 -20.743800  28.555537\n",
       "1               0 -18.370800  28.099800 -21.407400  29.220094\n",
       "2               0 -18.867600  27.093000 -21.903600  29.847360\n",
       "3               0 -19.766400  28.293000 -21.047400  29.852645\n",
       "4               0 -19.542000  28.279800 -20.700000  29.466536\n",
       "..            ...        ...        ...        ...        ...\n",
       "335            22 -19.507200  29.747400 -19.830000  28.877100\n",
       "336            22 -17.300400  30.107399 -21.124800  28.399242\n",
       "337            22 -17.884800  30.389999 -20.970000  28.645303\n",
       "338            22 -18.108600  30.191400 -20.847600  28.693820\n",
       "339            22 -19.100526  30.584210 -19.998947  28.755571\n",
       "\n",
       "[348 rows x 5 columns]"
      ]
     },
     "execution_count": 50,
     "metadata": {},
     "output_type": "execute_result"
    }
   ],
   "source": [
    "new_df1"
   ]
  },
  {
   "cell_type": "code",
   "execution_count": 62,
   "metadata": {},
   "outputs": [
    {
     "data": {
      "image/png": "[encoded data removed]",
      "text/plain": [
       "<Figure size 432x288 with 2 Axes>"
      ]
     },
     "metadata": {
      "needs_background": "light"
     },
     "output_type": "display_data"
    }
   ],
   "source": [
    "x, y, z = new_df1['X_mean'], new_df1['Y_mean'], new_df1['Z_mean']\n",
    "c = new_df1['CoordinateID']\n",
    "fig = plt.figure() \n",
    "ax = fig.add_subplot(111, projection='3d') \n",
    "c"
   ]
  },
  {
   "cell_type": "code",
   "execution_count": 56,
   "metadata": {},
   "outputs": [
    {
     "data": {
      "image/png": "[encoded data removed]",
      "text/plain": [
       "<Figure size 432x288 with 1 Axes>"
      ]
     },
     "metadata": {
      "needs_background": "light"
     },
     "output_type": "display_data"
    }
   ],
   "source": [
    "ax = sns.countplot(new_df1['CoordinateID'])\n",
    "plt.title('Bar plot - IDs')\n",
    "plt.show()"
   ]
  },
  {
   "cell_type": "code",
   "execution_count": null,
   "metadata": {},
   "outputs": [],
   "source": []
  },
  {
   "cell_type": "code",
   "execution_count": null,
   "metadata": {},
   "outputs": [],
   "source": []
  },
  {
   "cell_type": "code",
   "execution_count": null,
   "metadata": {},
   "outputs": [],
   "source": []
  },
  {
   "cell_type": "code",
   "execution_count": 80,
   "metadata": {},
   "outputs": [],
   "source": [
    "df = df.drop(['TimeStamp'], axis = 1) "
   ]
  },
  {
   "cell_type": "code",
   "execution_count": 81,
   "metadata": {},
   "outputs": [
    {
     "data": {
      "text/html": [
       "<div>\n",
       "<style scoped>\n",
       "    .dataframe tbody tr th:only-of-type {\n",
       "        vertical-align: middle;\n",
       "    }\n",
       "\n",
       "    .dataframe tbody tr th {\n",
       "        vertical-align: top;\n",
       "    }\n",
       "\n",
       "    .dataframe thead th {\n",
       "        text-align: right;\n",
       "    }\n",
       "</style>\n",
       "<table border=\"1\" class=\"dataframe\">\n",
       "  <thead>\n",
       "    <tr style=\"text-align: right;\">\n",
       "      <th></th>\n",
       "      <th>X</th>\n",
       "      <th>Y</th>\n",
       "      <th>Z</th>\n",
       "      <th>Magnitude</th>\n",
       "      <th>CoordinateID</th>\n",
       "      <th>X_rolling_avg</th>\n",
       "      <th>Y_rolling_avg</th>\n",
       "      <th>Magn_rolling_avg</th>\n",
       "      <th>X_mean</th>\n",
       "      <th>Y_mean</th>\n",
       "      <th>Z_mean</th>\n",
       "    </tr>\n",
       "  </thead>\n",
       "  <tbody>\n",
       "    <tr>\n",
       "      <th>0</th>\n",
       "      <td>-17.34</td>\n",
       "      <td>29.519999</td>\n",
       "      <td>-20.520000</td>\n",
       "      <td>27.942548</td>\n",
       "      <td>0</td>\n",
       "      <td>NaN</td>\n",
       "      <td>NaN</td>\n",
       "      <td>NaN</td>\n",
       "      <td>-18.087000</td>\n",
       "      <td>28.82340</td>\n",
       "      <td>-20.743800</td>\n",
       "    </tr>\n",
       "    <tr>\n",
       "      <th>1</th>\n",
       "      <td>-17.40</td>\n",
       "      <td>29.279999</td>\n",
       "      <td>-20.220000</td>\n",
       "      <td>27.751907</td>\n",
       "      <td>0</td>\n",
       "      <td>NaN</td>\n",
       "      <td>NaN</td>\n",
       "      <td>NaN</td>\n",
       "      <td>-18.087000</td>\n",
       "      <td>28.82340</td>\n",
       "      <td>-20.743800</td>\n",
       "    </tr>\n",
       "    <tr>\n",
       "      <th>2</th>\n",
       "      <td>-17.22</td>\n",
       "      <td>29.699999</td>\n",
       "      <td>-20.160000</td>\n",
       "      <td>27.610759</td>\n",
       "      <td>0</td>\n",
       "      <td>NaN</td>\n",
       "      <td>NaN</td>\n",
       "      <td>NaN</td>\n",
       "      <td>-18.087000</td>\n",
       "      <td>28.82340</td>\n",
       "      <td>-20.743800</td>\n",
       "    </tr>\n",
       "    <tr>\n",
       "      <th>3</th>\n",
       "      <td>-17.22</td>\n",
       "      <td>29.279999</td>\n",
       "      <td>-20.460000</td>\n",
       "      <td>27.815462</td>\n",
       "      <td>0</td>\n",
       "      <td>NaN</td>\n",
       "      <td>NaN</td>\n",
       "      <td>NaN</td>\n",
       "      <td>-18.087000</td>\n",
       "      <td>28.82340</td>\n",
       "      <td>-20.743800</td>\n",
       "    </tr>\n",
       "    <tr>\n",
       "      <th>4</th>\n",
       "      <td>-17.58</td>\n",
       "      <td>29.279999</td>\n",
       "      <td>-20.640000</td>\n",
       "      <td>28.171368</td>\n",
       "      <td>0</td>\n",
       "      <td>NaN</td>\n",
       "      <td>NaN</td>\n",
       "      <td>NaN</td>\n",
       "      <td>-18.087000</td>\n",
       "      <td>28.82340</td>\n",
       "      <td>-20.743800</td>\n",
       "    </tr>\n",
       "    <tr>\n",
       "      <th>...</th>\n",
       "      <td>...</td>\n",
       "      <td>...</td>\n",
       "      <td>...</td>\n",
       "      <td>...</td>\n",
       "      <td>...</td>\n",
       "      <td>...</td>\n",
       "      <td>...</td>\n",
       "      <td>...</td>\n",
       "      <td>...</td>\n",
       "      <td>...</td>\n",
       "      <td>...</td>\n",
       "    </tr>\n",
       "    <tr>\n",
       "      <th>33933</th>\n",
       "      <td>-19.32</td>\n",
       "      <td>30.300000</td>\n",
       "      <td>-20.340000</td>\n",
       "      <td>29.113193</td>\n",
       "      <td>22</td>\n",
       "      <td>-18.5604</td>\n",
       "      <td>30.3048</td>\n",
       "      <td>28.728140</td>\n",
       "      <td>-19.100526</td>\n",
       "      <td>30.58421</td>\n",
       "      <td>-19.998947</td>\n",
       "    </tr>\n",
       "    <tr>\n",
       "      <th>33934</th>\n",
       "      <td>-18.96</td>\n",
       "      <td>30.000000</td>\n",
       "      <td>-20.939999</td>\n",
       "      <td>29.291041</td>\n",
       "      <td>22</td>\n",
       "      <td>-18.5706</td>\n",
       "      <td>30.3000</td>\n",
       "      <td>28.737089</td>\n",
       "      <td>-19.100526</td>\n",
       "      <td>30.58421</td>\n",
       "      <td>-19.998947</td>\n",
       "    </tr>\n",
       "    <tr>\n",
       "      <th>33935</th>\n",
       "      <td>-19.26</td>\n",
       "      <td>29.820000</td>\n",
       "      <td>-20.939999</td>\n",
       "      <td>29.480013</td>\n",
       "      <td>22</td>\n",
       "      <td>-18.5820</td>\n",
       "      <td>30.2940</td>\n",
       "      <td>28.746375</td>\n",
       "      <td>-19.100526</td>\n",
       "      <td>30.58421</td>\n",
       "      <td>-19.998947</td>\n",
       "    </tr>\n",
       "    <tr>\n",
       "      <th>33936</th>\n",
       "      <td>-18.84</td>\n",
       "      <td>29.580000</td>\n",
       "      <td>-21.060000</td>\n",
       "      <td>29.285307</td>\n",
       "      <td>22</td>\n",
       "      <td>-18.5910</td>\n",
       "      <td>30.2826</td>\n",
       "      <td>28.753875</td>\n",
       "      <td>-19.100526</td>\n",
       "      <td>30.58421</td>\n",
       "      <td>-19.998947</td>\n",
       "    </tr>\n",
       "    <tr>\n",
       "      <th>33937</th>\n",
       "      <td>-17.94</td>\n",
       "      <td>30.179998</td>\n",
       "      <td>-21.180000</td>\n",
       "      <td>28.823532</td>\n",
       "      <td>22</td>\n",
       "      <td>-18.5922</td>\n",
       "      <td>30.2754</td>\n",
       "      <td>28.755253</td>\n",
       "      <td>-19.100526</td>\n",
       "      <td>30.58421</td>\n",
       "      <td>-19.998947</td>\n",
       "    </tr>\n",
       "  </tbody>\n",
       "</table>\n",
       "<p>33938 rows × 11 columns</p>\n",
       "</div>"
      ],
      "text/plain": [
       "           X          Y          Z  Magnitude  CoordinateID  X_rolling_avg  \\\n",
       "0     -17.34  29.519999 -20.520000  27.942548             0            NaN   \n",
       "1     -17.40  29.279999 -20.220000  27.751907             0            NaN   \n",
       "2     -17.22  29.699999 -20.160000  27.610759             0            NaN   \n",
       "3     -17.22  29.279999 -20.460000  27.815462             0            NaN   \n",
       "4     -17.58  29.279999 -20.640000  28.171368             0            NaN   \n",
       "...      ...        ...        ...        ...           ...            ...   \n",
       "33933 -19.32  30.300000 -20.340000  29.113193            22       -18.5604   \n",
       "33934 -18.96  30.000000 -20.939999  29.291041            22       -18.5706   \n",
       "33935 -19.26  29.820000 -20.939999  29.480013            22       -18.5820   \n",
       "33936 -18.84  29.580000 -21.060000  29.285307            22       -18.5910   \n",
       "33937 -17.94  30.179998 -21.180000  28.823532            22       -18.5922   \n",
       "\n",
       "       Y_rolling_avg  Magn_rolling_avg     X_mean    Y_mean     Z_mean  \n",
       "0                NaN               NaN -18.087000  28.82340 -20.743800  \n",
       "1                NaN               NaN -18.087000  28.82340 -20.743800  \n",
       "2                NaN               NaN -18.087000  28.82340 -20.743800  \n",
       "3                NaN               NaN -18.087000  28.82340 -20.743800  \n",
       "4                NaN               NaN -18.087000  28.82340 -20.743800  \n",
       "...              ...               ...        ...       ...        ...  \n",
       "33933        30.3048         28.728140 -19.100526  30.58421 -19.998947  \n",
       "33934        30.3000         28.737089 -19.100526  30.58421 -19.998947  \n",
       "33935        30.2940         28.746375 -19.100526  30.58421 -19.998947  \n",
       "33936        30.2826         28.753875 -19.100526  30.58421 -19.998947  \n",
       "33937        30.2754         28.755253 -19.100526  30.58421 -19.998947  \n",
       "\n",
       "[33938 rows x 11 columns]"
      ]
     },
     "execution_count": 81,
     "metadata": {},
     "output_type": "execute_result"
    }
   ],
   "source": [
    "df"
   ]
  },
  {
   "cell_type": "code",
   "execution_count": 84,
   "metadata": {},
   "outputs": [],
   "source": [
    "# Import train_test_split function\n",
    "from sklearn.model_selection import train_test_split\n",
    "\n",
    "X=df[['X', 'Y', 'Z']]  # Features\n",
    "y=df['CoordinateID']  # Labels\n",
    "\n",
    "# Split dataset into training set and test set\n",
    "X_train, X_test, y_train, y_test = train_test_split(X, y, test_size=0.3, random_state = 42) "
   ]
  },
  {
   "cell_type": "code",
   "execution_count": 85,
   "metadata": {},
   "outputs": [
    {
     "name": "stdout",
     "output_type": "stream",
     "text": [
      "(23756, 3) (10182, 3) (23756,) (10182,)\n"
     ]
    }
   ],
   "source": [
    "print(X_train.shape, X_test.shape, y_train.shape, y_test.shape)"
   ]
  },
  {
   "cell_type": "code",
   "execution_count": 86,
   "metadata": {},
   "outputs": [],
   "source": [
    "#Import Random Forest Model\n",
    "from sklearn.ensemble import RandomForestClassifier\n",
    "\n",
    "#Create a Gaussian Classifier\n",
    "clf=RandomForestClassifier(n_estimators=100, random_state = 42, class_weight=\"balanced\")\n",
    "\n",
    "#Train the model using the training sets y_pred=clf.predict(X_test)\n",
    "clf.fit(X_train,y_train)\n",
    "\n",
    "y_pred=clf.predict(X_test)"
   ]
  },
  {
   "cell_type": "code",
   "execution_count": 87,
   "metadata": {},
   "outputs": [
    {
     "data": {
      "text/plain": [
       "0.2089577369927597"
      ]
     },
     "execution_count": 87,
     "metadata": {},
     "output_type": "execute_result"
    }
   ],
   "source": [
    " clf.score(X_train,y_train)"
   ]
  },
  {
   "cell_type": "code",
   "execution_count": 78,
   "metadata": {},
   "outputs": [
    {
     "name": "stdout",
     "output_type": "stream",
     "text": [
      "Accuracy1: 0.07729579309215912\n"
     ]
    }
   ],
   "source": [
    "#Import scikit-learn metrics module for accuracy calculation\n",
    "from sklearn import metrics\n",
    "# Model Accuracy, how often is the classifier correct?\n",
    "print(\"Accuracy1:\",metrics.accuracy_score(y_test, y_pred))"
   ]
  },
  {
   "cell_type": "code",
   "execution_count": 62,
   "metadata": {},
   "outputs": [
    {
     "name": "stdout",
     "output_type": "stream",
     "text": [
      "Accuracy1: 0.013553329404832056\n"
     ]
    }
   ],
   "source": [
    "#Import scikit-learn metrics module for accuracy calculation\n",
    "from sklearn import metrics\n",
    "# Model Accuracy, how often is the classifier correct?\n",
    "print(\"Accuracy1:\",metrics.accuracy_score(y_test, y_pred))"
   ]
  },
  {
   "cell_type": "code",
   "execution_count": 20,
   "metadata": {},
   "outputs": [
    {
     "name": "stdout",
     "output_type": "stream",
     "text": [
      "Accuracy1: 0.01227656648988411\n"
     ]
    }
   ],
   "source": [
    "#Import scikit-learn metrics module for accuracy calculation\n",
    "from sklearn import metrics\n",
    "# Model Accuracy, how often is the classifier correct?\n",
    "print(\"Accuracy1:\",metrics.accuracy_score(y_test, y_pred))"
   ]
  },
  {
   "cell_type": "code",
   "execution_count": 70,
   "metadata": {},
   "outputs": [
    {
     "name": "stdout",
     "output_type": "stream",
     "text": [
      "Accuracy1: 0.013847967000589274\n"
     ]
    }
   ],
   "source": [
    "#Import scikit-learn metrics module for accuracy calculation\n",
    "from sklearn import metrics\n",
    "# Model Accuracy, how often is the classifier correct?\n",
    "print(\"Accuracy1:\",metrics.accuracy_score(y_test, y_pred))"
   ]
  },
  {
   "cell_type": "code",
   "execution_count": 21,
   "metadata": {},
   "outputs": [],
   "source": [
    "preds =  clf.predict(X_test)"
   ]
  },
  {
   "cell_type": "code",
   "execution_count": 22,
   "metadata": {},
   "outputs": [
    {
     "data": {
      "text/plain": [
       "(10182,)"
      ]
     },
     "execution_count": 22,
     "metadata": {},
     "output_type": "execute_result"
    }
   ],
   "source": [
    "preds.shape"
   ]
  },
  {
   "cell_type": "code",
   "execution_count": 23,
   "metadata": {},
   "outputs": [],
   "source": [
    "#df1 = pd.DataFrame({'Predictions': preds})"
   ]
  },
  {
   "cell_type": "code",
   "execution_count": 24,
   "metadata": {},
   "outputs": [],
   "source": [
    "#df = pd.concat([df, df1], axis=1)"
   ]
  },
  {
   "cell_type": "code",
   "execution_count": 25,
   "metadata": {},
   "outputs": [],
   "source": [
    "#df.tail(25000)"
   ]
  },
  {
   "cell_type": "markdown",
   "metadata": {},
   "source": [
    "## Neural "
   ]
  },
  {
   "cell_type": "code",
   "execution_count": 49,
   "metadata": {},
   "outputs": [],
   "source": [
    "import pandas as pd\n",
    "import tensorflow as tf\n",
    "import numpy as np\n",
    "from sklearn.preprocessing import scale\n",
    "from keras.models import Sequential\n",
    "from keras.layers import Dense, Dropout"
   ]
  },
  {
   "cell_type": "code",
   "execution_count": 67,
   "metadata": {},
   "outputs": [],
   "source": [
    "new_df1.columns = [['CoordinateID', 'X', 'Y', 'Z', 'Magnitude']]"
   ]
  },
  {
   "cell_type": "code",
   "execution_count": 68,
   "metadata": {},
   "outputs": [
    {
     "data": {
      "text/html": [
       "<div>\n",
       "<style scoped>\n",
       "    .dataframe tbody tr th:only-of-type {\n",
       "        vertical-align: middle;\n",
       "    }\n",
       "\n",
       "    .dataframe tbody tr th {\n",
       "        vertical-align: top;\n",
       "    }\n",
       "\n",
       "    .dataframe thead tr th {\n",
       "        text-align: left;\n",
       "    }\n",
       "</style>\n",
       "<table border=\"1\" class=\"dataframe\">\n",
       "  <thead>\n",
       "    <tr>\n",
       "      <th></th>\n",
       "      <th>CoordinateID</th>\n",
       "      <th>X</th>\n",
       "      <th>Y</th>\n",
       "      <th>Z</th>\n",
       "      <th>Magnitude</th>\n",
       "    </tr>\n",
       "  </thead>\n",
       "  <tbody>\n",
       "    <tr>\n",
       "      <th>0</th>\n",
       "      <td>0</td>\n",
       "      <td>-18.087000</td>\n",
       "      <td>28.823400</td>\n",
       "      <td>-20.743800</td>\n",
       "      <td>28.555537</td>\n",
       "    </tr>\n",
       "    <tr>\n",
       "      <th>1</th>\n",
       "      <td>0</td>\n",
       "      <td>-18.370800</td>\n",
       "      <td>28.099800</td>\n",
       "      <td>-21.407400</td>\n",
       "      <td>29.220094</td>\n",
       "    </tr>\n",
       "    <tr>\n",
       "      <th>2</th>\n",
       "      <td>0</td>\n",
       "      <td>-18.867600</td>\n",
       "      <td>27.093000</td>\n",
       "      <td>-21.903600</td>\n",
       "      <td>29.847360</td>\n",
       "    </tr>\n",
       "    <tr>\n",
       "      <th>3</th>\n",
       "      <td>0</td>\n",
       "      <td>-19.766400</td>\n",
       "      <td>28.293000</td>\n",
       "      <td>-21.047400</td>\n",
       "      <td>29.852645</td>\n",
       "    </tr>\n",
       "    <tr>\n",
       "      <th>4</th>\n",
       "      <td>0</td>\n",
       "      <td>-19.542000</td>\n",
       "      <td>28.279800</td>\n",
       "      <td>-20.700000</td>\n",
       "      <td>29.466536</td>\n",
       "    </tr>\n",
       "    <tr>\n",
       "      <th>...</th>\n",
       "      <td>...</td>\n",
       "      <td>...</td>\n",
       "      <td>...</td>\n",
       "      <td>...</td>\n",
       "      <td>...</td>\n",
       "    </tr>\n",
       "    <tr>\n",
       "      <th>335</th>\n",
       "      <td>22</td>\n",
       "      <td>-19.507200</td>\n",
       "      <td>29.747400</td>\n",
       "      <td>-19.830000</td>\n",
       "      <td>28.877100</td>\n",
       "    </tr>\n",
       "    <tr>\n",
       "      <th>336</th>\n",
       "      <td>22</td>\n",
       "      <td>-17.300400</td>\n",
       "      <td>30.107399</td>\n",
       "      <td>-21.124800</td>\n",
       "      <td>28.399242</td>\n",
       "    </tr>\n",
       "    <tr>\n",
       "      <th>337</th>\n",
       "      <td>22</td>\n",
       "      <td>-17.884800</td>\n",
       "      <td>30.389999</td>\n",
       "      <td>-20.970000</td>\n",
       "      <td>28.645303</td>\n",
       "    </tr>\n",
       "    <tr>\n",
       "      <th>338</th>\n",
       "      <td>22</td>\n",
       "      <td>-18.108600</td>\n",
       "      <td>30.191400</td>\n",
       "      <td>-20.847600</td>\n",
       "      <td>28.693820</td>\n",
       "    </tr>\n",
       "    <tr>\n",
       "      <th>339</th>\n",
       "      <td>22</td>\n",
       "      <td>-19.100526</td>\n",
       "      <td>30.584210</td>\n",
       "      <td>-19.998947</td>\n",
       "      <td>28.755571</td>\n",
       "    </tr>\n",
       "  </tbody>\n",
       "</table>\n",
       "<p>348 rows × 5 columns</p>\n",
       "</div>"
      ],
      "text/plain": [
       "    CoordinateID          X          Y          Z  Magnitude\n",
       "0              0 -18.087000  28.823400 -20.743800  28.555537\n",
       "1              0 -18.370800  28.099800 -21.407400  29.220094\n",
       "2              0 -18.867600  27.093000 -21.903600  29.847360\n",
       "3              0 -19.766400  28.293000 -21.047400  29.852645\n",
       "4              0 -19.542000  28.279800 -20.700000  29.466536\n",
       "..           ...        ...        ...        ...        ...\n",
       "335           22 -19.507200  29.747400 -19.830000  28.877100\n",
       "336           22 -17.300400  30.107399 -21.124800  28.399242\n",
       "337           22 -17.884800  30.389999 -20.970000  28.645303\n",
       "338           22 -18.108600  30.191400 -20.847600  28.693820\n",
       "339           22 -19.100526  30.584210 -19.998947  28.755571\n",
       "\n",
       "[348 rows x 5 columns]"
      ]
     },
     "execution_count": 68,
     "metadata": {},
     "output_type": "execute_result"
    }
   ],
   "source": [
    "new_df1"
   ]
  },
  {
   "cell_type": "code",
   "execution_count": 86,
   "metadata": {},
   "outputs": [
    {
     "name": "stdout",
     "output_type": "stream",
     "text": [
      "<class 'pandas.core.frame.DataFrame'>\n",
      "RangeIndex: 33938 entries, 0 to 33937\n",
      "Data columns (total 11 columns):\n",
      " #   Column            Non-Null Count  Dtype  \n",
      "---  ------            --------------  -----  \n",
      " 0   X                 33938 non-null  float64\n",
      " 1   Y                 33938 non-null  float64\n",
      " 2   Z                 33938 non-null  float64\n",
      " 3   Magnitude         33938 non-null  float64\n",
      " 4   CoordinateID      33938 non-null  int64  \n",
      " 5   X_rolling_avg     33839 non-null  float64\n",
      " 6   Y_rolling_avg     33839 non-null  float64\n",
      " 7   Magn_rolling_avg  33839 non-null  float64\n",
      " 8   X_mean            33938 non-null  float64\n",
      " 9   Y_mean            33938 non-null  float64\n",
      " 10  Z_mean            33938 non-null  float64\n",
      "dtypes: float64(10), int64(1)\n",
      "memory usage: 2.8 MB\n"
     ]
    }
   ],
   "source": [
    "df.info()"
   ]
  },
  {
   "cell_type": "code",
   "execution_count": 82,
   "metadata": {},
   "outputs": [
    {
     "data": {
      "text/html": [
       "<div>\n",
       "<style scoped>\n",
       "    .dataframe tbody tr th:only-of-type {\n",
       "        vertical-align: middle;\n",
       "    }\n",
       "\n",
       "    .dataframe tbody tr th {\n",
       "        vertical-align: top;\n",
       "    }\n",
       "\n",
       "    .dataframe thead th {\n",
       "        text-align: right;\n",
       "    }\n",
       "</style>\n",
       "<table border=\"1\" class=\"dataframe\">\n",
       "  <thead>\n",
       "    <tr style=\"text-align: right;\">\n",
       "      <th></th>\n",
       "      <th>X</th>\n",
       "      <th>Y</th>\n",
       "      <th>Z</th>\n",
       "      <th>Magnitude</th>\n",
       "      <th>CoordinateID</th>\n",
       "    </tr>\n",
       "  </thead>\n",
       "  <tbody>\n",
       "    <tr>\n",
       "      <th>0</th>\n",
       "      <td>-17.34</td>\n",
       "      <td>29.519999</td>\n",
       "      <td>-20.520000</td>\n",
       "      <td>27.942548</td>\n",
       "      <td>0</td>\n",
       "    </tr>\n",
       "    <tr>\n",
       "      <th>1</th>\n",
       "      <td>-17.40</td>\n",
       "      <td>29.279999</td>\n",
       "      <td>-20.220000</td>\n",
       "      <td>27.751907</td>\n",
       "      <td>0</td>\n",
       "    </tr>\n",
       "    <tr>\n",
       "      <th>2</th>\n",
       "      <td>-17.22</td>\n",
       "      <td>29.699999</td>\n",
       "      <td>-20.160000</td>\n",
       "      <td>27.610759</td>\n",
       "      <td>0</td>\n",
       "    </tr>\n",
       "    <tr>\n",
       "      <th>3</th>\n",
       "      <td>-17.22</td>\n",
       "      <td>29.279999</td>\n",
       "      <td>-20.460000</td>\n",
       "      <td>27.815462</td>\n",
       "      <td>0</td>\n",
       "    </tr>\n",
       "    <tr>\n",
       "      <th>4</th>\n",
       "      <td>-17.58</td>\n",
       "      <td>29.279999</td>\n",
       "      <td>-20.640000</td>\n",
       "      <td>28.171368</td>\n",
       "      <td>0</td>\n",
       "    </tr>\n",
       "    <tr>\n",
       "      <th>...</th>\n",
       "      <td>...</td>\n",
       "      <td>...</td>\n",
       "      <td>...</td>\n",
       "      <td>...</td>\n",
       "      <td>...</td>\n",
       "    </tr>\n",
       "    <tr>\n",
       "      <th>33933</th>\n",
       "      <td>-19.32</td>\n",
       "      <td>30.300000</td>\n",
       "      <td>-20.340000</td>\n",
       "      <td>29.113193</td>\n",
       "      <td>22</td>\n",
       "    </tr>\n",
       "    <tr>\n",
       "      <th>33934</th>\n",
       "      <td>-18.96</td>\n",
       "      <td>30.000000</td>\n",
       "      <td>-20.939999</td>\n",
       "      <td>29.291041</td>\n",
       "      <td>22</td>\n",
       "    </tr>\n",
       "    <tr>\n",
       "      <th>33935</th>\n",
       "      <td>-19.26</td>\n",
       "      <td>29.820000</td>\n",
       "      <td>-20.939999</td>\n",
       "      <td>29.480013</td>\n",
       "      <td>22</td>\n",
       "    </tr>\n",
       "    <tr>\n",
       "      <th>33936</th>\n",
       "      <td>-18.84</td>\n",
       "      <td>29.580000</td>\n",
       "      <td>-21.060000</td>\n",
       "      <td>29.285307</td>\n",
       "      <td>22</td>\n",
       "    </tr>\n",
       "    <tr>\n",
       "      <th>33937</th>\n",
       "      <td>-17.94</td>\n",
       "      <td>30.179998</td>\n",
       "      <td>-21.180000</td>\n",
       "      <td>28.823532</td>\n",
       "      <td>22</td>\n",
       "    </tr>\n",
       "  </tbody>\n",
       "</table>\n",
       "<p>33938 rows × 5 columns</p>\n",
       "</div>"
      ],
      "text/plain": [
       "           X          Y          Z  Magnitude  CoordinateID\n",
       "0     -17.34  29.519999 -20.520000  27.942548             0\n",
       "1     -17.40  29.279999 -20.220000  27.751907             0\n",
       "2     -17.22  29.699999 -20.160000  27.610759             0\n",
       "3     -17.22  29.279999 -20.460000  27.815462             0\n",
       "4     -17.58  29.279999 -20.640000  28.171368             0\n",
       "...      ...        ...        ...        ...           ...\n",
       "33933 -19.32  30.300000 -20.340000  29.113193            22\n",
       "33934 -18.96  30.000000 -20.939999  29.291041            22\n",
       "33935 -19.26  29.820000 -20.939999  29.480013            22\n",
       "33936 -18.84  29.580000 -21.060000  29.285307            22\n",
       "33937 -17.94  30.179998 -21.180000  28.823532            22\n",
       "\n",
       "[33938 rows x 5 columns]"
      ]
     },
     "execution_count": 82,
     "metadata": {},
     "output_type": "execute_result"
    }
   ],
   "source": [
    "# Select Features\n",
    "train_df = df.iloc[:,0:5]\n",
    "train_df"
   ]
  },
  {
   "cell_type": "code",
   "execution_count": 83,
   "metadata": {},
   "outputs": [
    {
     "data": {
      "text/html": [
       "<div>\n",
       "<style scoped>\n",
       "    .dataframe tbody tr th:only-of-type {\n",
       "        vertical-align: middle;\n",
       "    }\n",
       "\n",
       "    .dataframe tbody tr th {\n",
       "        vertical-align: top;\n",
       "    }\n",
       "\n",
       "    .dataframe thead th {\n",
       "        text-align: right;\n",
       "    }\n",
       "</style>\n",
       "<table border=\"1\" class=\"dataframe\">\n",
       "  <thead>\n",
       "    <tr style=\"text-align: right;\">\n",
       "      <th></th>\n",
       "      <th>X</th>\n",
       "      <th>Y</th>\n",
       "      <th>Z</th>\n",
       "      <th>Magnitude</th>\n",
       "    </tr>\n",
       "  </thead>\n",
       "  <tbody>\n",
       "    <tr>\n",
       "      <th>0</th>\n",
       "      <td>-17.34</td>\n",
       "      <td>29.519999</td>\n",
       "      <td>-20.520000</td>\n",
       "      <td>27.942548</td>\n",
       "    </tr>\n",
       "    <tr>\n",
       "      <th>1</th>\n",
       "      <td>-17.40</td>\n",
       "      <td>29.279999</td>\n",
       "      <td>-20.220000</td>\n",
       "      <td>27.751907</td>\n",
       "    </tr>\n",
       "    <tr>\n",
       "      <th>2</th>\n",
       "      <td>-17.22</td>\n",
       "      <td>29.699999</td>\n",
       "      <td>-20.160000</td>\n",
       "      <td>27.610759</td>\n",
       "    </tr>\n",
       "    <tr>\n",
       "      <th>3</th>\n",
       "      <td>-17.22</td>\n",
       "      <td>29.279999</td>\n",
       "      <td>-20.460000</td>\n",
       "      <td>27.815462</td>\n",
       "    </tr>\n",
       "    <tr>\n",
       "      <th>4</th>\n",
       "      <td>-17.58</td>\n",
       "      <td>29.279999</td>\n",
       "      <td>-20.640000</td>\n",
       "      <td>28.171368</td>\n",
       "    </tr>\n",
       "    <tr>\n",
       "      <th>...</th>\n",
       "      <td>...</td>\n",
       "      <td>...</td>\n",
       "      <td>...</td>\n",
       "      <td>...</td>\n",
       "    </tr>\n",
       "    <tr>\n",
       "      <th>33933</th>\n",
       "      <td>-19.32</td>\n",
       "      <td>30.300000</td>\n",
       "      <td>-20.340000</td>\n",
       "      <td>29.113193</td>\n",
       "    </tr>\n",
       "    <tr>\n",
       "      <th>33934</th>\n",
       "      <td>-18.96</td>\n",
       "      <td>30.000000</td>\n",
       "      <td>-20.939999</td>\n",
       "      <td>29.291041</td>\n",
       "    </tr>\n",
       "    <tr>\n",
       "      <th>33935</th>\n",
       "      <td>-19.26</td>\n",
       "      <td>29.820000</td>\n",
       "      <td>-20.939999</td>\n",
       "      <td>29.480013</td>\n",
       "    </tr>\n",
       "    <tr>\n",
       "      <th>33936</th>\n",
       "      <td>-18.84</td>\n",
       "      <td>29.580000</td>\n",
       "      <td>-21.060000</td>\n",
       "      <td>29.285307</td>\n",
       "    </tr>\n",
       "    <tr>\n",
       "      <th>33937</th>\n",
       "      <td>-17.94</td>\n",
       "      <td>30.179998</td>\n",
       "      <td>-21.180000</td>\n",
       "      <td>28.823532</td>\n",
       "    </tr>\n",
       "  </tbody>\n",
       "</table>\n",
       "<p>33938 rows × 4 columns</p>\n",
       "</div>"
      ],
      "text/plain": [
       "           X          Y          Z  Magnitude\n",
       "0     -17.34  29.519999 -20.520000  27.942548\n",
       "1     -17.40  29.279999 -20.220000  27.751907\n",
       "2     -17.22  29.699999 -20.160000  27.610759\n",
       "3     -17.22  29.279999 -20.460000  27.815462\n",
       "4     -17.58  29.279999 -20.640000  28.171368\n",
       "...      ...        ...        ...        ...\n",
       "33933 -19.32  30.300000 -20.340000  29.113193\n",
       "33934 -18.96  30.000000 -20.939999  29.291041\n",
       "33935 -19.26  29.820000 -20.939999  29.480013\n",
       "33936 -18.84  29.580000 -21.060000  29.285307\n",
       "33937 -17.94  30.179998 -21.180000  28.823532\n",
       "\n",
       "[33938 rows x 4 columns]"
      ]
     },
     "execution_count": 83,
     "metadata": {},
     "output_type": "execute_result"
    }
   ],
   "source": [
    "train_AP_strengths = train_df[['X', 'Y', 'Z', 'Magnitude']]\n",
    "train_AP_strengths"
   ]
  },
  {
   "cell_type": "code",
   "execution_count": 84,
   "metadata": {},
   "outputs": [],
   "source": [
    "#Scale transforms data to center to the mean and component wise scale to unit variance\n",
    "train_AP_features = scale(np.asarray(train_AP_strengths))"
   ]
  },
  {
   "cell_type": "code",
   "execution_count": 85,
   "metadata": {},
   "outputs": [],
   "source": [
    "#Convert coordinates to  a string\n",
    "coordinates = train_df['CoordinateID'].map(str)\n",
    "train_labels = np.asarray(coordinates)"
   ]
  },
  {
   "cell_type": "code",
   "execution_count": 74,
   "metadata": {},
   "outputs": [
    {
     "ename": "NameError",
     "evalue": "name 'train_labels' is not defined",
     "output_type": "error",
     "traceback": [
      "\u001b[1;31m---------------------------------------------------------------------------\u001b[0m",
      "\u001b[1;31mNameError\u001b[0m                                 Traceback (most recent call last)",
      "\u001b[1;32m<ipython-input-74-a2922456ae4f>\u001b[0m in \u001b[0;36m<module>\u001b[1;34m\u001b[0m\n\u001b[1;32m----> 1\u001b[1;33m \u001b[0mtrain_labels\u001b[0m\u001b[1;33m.\u001b[0m\u001b[0mshape\u001b[0m\u001b[1;33m\u001b[0m\u001b[1;33m\u001b[0m\u001b[0m\n\u001b[0m",
      "\u001b[1;31mNameError\u001b[0m: name 'train_labels' is not defined"
     ]
    }
   ],
   "source": [
    "train_labels.shape"
   ]
  },
  {
   "cell_type": "code",
   "execution_count": 85,
   "metadata": {},
   "outputs": [
    {
     "data": {
      "text/html": [
       "<div>\n",
       "<style scoped>\n",
       "    .dataframe tbody tr th:only-of-type {\n",
       "        vertical-align: middle;\n",
       "    }\n",
       "\n",
       "    .dataframe tbody tr th {\n",
       "        vertical-align: top;\n",
       "    }\n",
       "\n",
       "    .dataframe thead th {\n",
       "        text-align: right;\n",
       "    }\n",
       "</style>\n",
       "<table border=\"1\" class=\"dataframe\">\n",
       "  <thead>\n",
       "    <tr style=\"text-align: right;\">\n",
       "      <th></th>\n",
       "      <th>0</th>\n",
       "      <th>1</th>\n",
       "      <th>10</th>\n",
       "      <th>11</th>\n",
       "      <th>12</th>\n",
       "      <th>2</th>\n",
       "      <th>20</th>\n",
       "      <th>21</th>\n",
       "      <th>22</th>\n",
       "    </tr>\n",
       "  </thead>\n",
       "  <tbody>\n",
       "    <tr>\n",
       "      <th>0</th>\n",
       "      <td>1</td>\n",
       "      <td>0</td>\n",
       "      <td>0</td>\n",
       "      <td>0</td>\n",
       "      <td>0</td>\n",
       "      <td>0</td>\n",
       "      <td>0</td>\n",
       "      <td>0</td>\n",
       "      <td>0</td>\n",
       "    </tr>\n",
       "    <tr>\n",
       "      <th>1</th>\n",
       "      <td>1</td>\n",
       "      <td>0</td>\n",
       "      <td>0</td>\n",
       "      <td>0</td>\n",
       "      <td>0</td>\n",
       "      <td>0</td>\n",
       "      <td>0</td>\n",
       "      <td>0</td>\n",
       "      <td>0</td>\n",
       "    </tr>\n",
       "    <tr>\n",
       "      <th>2</th>\n",
       "      <td>1</td>\n",
       "      <td>0</td>\n",
       "      <td>0</td>\n",
       "      <td>0</td>\n",
       "      <td>0</td>\n",
       "      <td>0</td>\n",
       "      <td>0</td>\n",
       "      <td>0</td>\n",
       "      <td>0</td>\n",
       "    </tr>\n",
       "    <tr>\n",
       "      <th>3</th>\n",
       "      <td>1</td>\n",
       "      <td>0</td>\n",
       "      <td>0</td>\n",
       "      <td>0</td>\n",
       "      <td>0</td>\n",
       "      <td>0</td>\n",
       "      <td>0</td>\n",
       "      <td>0</td>\n",
       "      <td>0</td>\n",
       "    </tr>\n",
       "    <tr>\n",
       "      <th>4</th>\n",
       "      <td>1</td>\n",
       "      <td>0</td>\n",
       "      <td>0</td>\n",
       "      <td>0</td>\n",
       "      <td>0</td>\n",
       "      <td>0</td>\n",
       "      <td>0</td>\n",
       "      <td>0</td>\n",
       "      <td>0</td>\n",
       "    </tr>\n",
       "    <tr>\n",
       "      <th>...</th>\n",
       "      <td>...</td>\n",
       "      <td>...</td>\n",
       "      <td>...</td>\n",
       "      <td>...</td>\n",
       "      <td>...</td>\n",
       "      <td>...</td>\n",
       "      <td>...</td>\n",
       "      <td>...</td>\n",
       "      <td>...</td>\n",
       "    </tr>\n",
       "    <tr>\n",
       "      <th>33933</th>\n",
       "      <td>0</td>\n",
       "      <td>0</td>\n",
       "      <td>0</td>\n",
       "      <td>0</td>\n",
       "      <td>0</td>\n",
       "      <td>0</td>\n",
       "      <td>0</td>\n",
       "      <td>0</td>\n",
       "      <td>1</td>\n",
       "    </tr>\n",
       "    <tr>\n",
       "      <th>33934</th>\n",
       "      <td>0</td>\n",
       "      <td>0</td>\n",
       "      <td>0</td>\n",
       "      <td>0</td>\n",
       "      <td>0</td>\n",
       "      <td>0</td>\n",
       "      <td>0</td>\n",
       "      <td>0</td>\n",
       "      <td>1</td>\n",
       "    </tr>\n",
       "    <tr>\n",
       "      <th>33935</th>\n",
       "      <td>0</td>\n",
       "      <td>0</td>\n",
       "      <td>0</td>\n",
       "      <td>0</td>\n",
       "      <td>0</td>\n",
       "      <td>0</td>\n",
       "      <td>0</td>\n",
       "      <td>0</td>\n",
       "      <td>1</td>\n",
       "    </tr>\n",
       "    <tr>\n",
       "      <th>33936</th>\n",
       "      <td>0</td>\n",
       "      <td>0</td>\n",
       "      <td>0</td>\n",
       "      <td>0</td>\n",
       "      <td>0</td>\n",
       "      <td>0</td>\n",
       "      <td>0</td>\n",
       "      <td>0</td>\n",
       "      <td>1</td>\n",
       "    </tr>\n",
       "    <tr>\n",
       "      <th>33937</th>\n",
       "      <td>0</td>\n",
       "      <td>0</td>\n",
       "      <td>0</td>\n",
       "      <td>0</td>\n",
       "      <td>0</td>\n",
       "      <td>0</td>\n",
       "      <td>0</td>\n",
       "      <td>0</td>\n",
       "      <td>1</td>\n",
       "    </tr>\n",
       "  </tbody>\n",
       "</table>\n",
       "<p>33938 rows × 9 columns</p>\n",
       "</div>"
      ],
      "text/plain": [
       "       0  1  10  11  12  2  20  21  22\n",
       "0      1  0   0   0   0  0   0   0   0\n",
       "1      1  0   0   0   0  0   0   0   0\n",
       "2      1  0   0   0   0  0   0   0   0\n",
       "3      1  0   0   0   0  0   0   0   0\n",
       "4      1  0   0   0   0  0   0   0   0\n",
       "...   .. ..  ..  ..  .. ..  ..  ..  ..\n",
       "33933  0  0   0   0   0  0   0   0   1\n",
       "33934  0  0   0   0   0  0   0   0   1\n",
       "33935  0  0   0   0   0  0   0   0   1\n",
       "33936  0  0   0   0   0  0   0   0   1\n",
       "33937  0  0   0   0   0  0   0   0   1\n",
       "\n",
       "[33938 rows x 9 columns]"
      ]
     },
     "execution_count": 85,
     "metadata": {},
     "output_type": "execute_result"
    }
   ],
   "source": [
    "#convert labels to categorical variables, dummy_labels has type 'pandas.core.frame.DataFrame'\n",
    "dummy_labels = pd.get_dummies(train_labels)\n",
    "dummy_labels"
   ]
  },
  {
   "cell_type": "code",
   "execution_count": 89,
   "metadata": {},
   "outputs": [
    {
     "data": {
      "text/plain": [
       "array([[1, 0, 0, ..., 0, 0, 0],\n",
       "       [1, 0, 0, ..., 0, 0, 0],\n",
       "       [1, 0, 0, ..., 0, 0, 0],\n",
       "       ...,\n",
       "       [0, 0, 0, ..., 0, 0, 1],\n",
       "       [0, 0, 0, ..., 0, 0, 1],\n",
       "       [0, 0, 0, ..., 0, 0, 1]], dtype=uint8)"
      ]
     },
     "execution_count": 89,
     "metadata": {},
     "output_type": "execute_result"
    }
   ],
   "source": [
    "train_labels = np.asarray(dummy_labels) #labels is an array of shape 19937 x 13.\n",
    "train_labels"
   ]
  },
  {
   "cell_type": "code",
   "execution_count": 90,
   "metadata": {},
   "outputs": [],
   "source": [
    "#generate len(train_AP_features) of floats in between 0 and 1\n",
    "train_val_split = np.random.rand(len(train_AP_features))\n",
    "#convert train_val_split to an array of booleans: if elem < 0.7 = true, else: false\n",
    "train_val_split = train_val_split < 0.70 #should contain ~70% percent true"
   ]
  },
  {
   "cell_type": "code",
   "execution_count": null,
   "metadata": {},
   "outputs": [],
   "source": []
  },
  {
   "cell_type": "code",
   "execution_count": 91,
   "metadata": {},
   "outputs": [],
   "source": [
    "train_X = train_AP_features[train_val_split]\n",
    "train_y = train_labels[train_val_split]\n",
    "val_X = train_AP_features[~train_val_split]\n",
    "val_y = train_labels[~train_val_split]"
   ]
  },
  {
   "cell_type": "code",
   "execution_count": 92,
   "metadata": {},
   "outputs": [
    {
     "data": {
      "text/plain": [
       "(23787, 4)"
      ]
     },
     "execution_count": 92,
     "metadata": {},
     "output_type": "execute_result"
    }
   ],
   "source": [
    "train_X.shape"
   ]
  },
  {
   "cell_type": "code",
   "execution_count": 99,
   "metadata": {},
   "outputs": [],
   "source": [
    "nb_epochs = 30\n",
    "batch_size = 1024\n",
    "input_size = 4\n",
    "num_classes = 9 #Total nine coordinates"
   ]
  },
  {
   "cell_type": "code",
   "execution_count": 100,
   "metadata": {},
   "outputs": [],
   "source": [
    "def encoder():\n",
    "    model = Sequential()\n",
    "    model.add(Dense(256, input_dim=input_size, activation='tanh', bias=True))\n",
    "    model.add(Dense(128, activation='tanh', bias=True))\n",
    "    model.add(Dense(64, activation='tanh', bias=True))\n",
    "    return model"
   ]
  },
  {
   "cell_type": "code",
   "execution_count": 101,
   "metadata": {},
   "outputs": [],
   "source": [
    "def decoder(e):   \n",
    "    e.add(Dense(128, input_dim=64, activation='tanh', bias=True))\n",
    "    e.add(Dense(256, activation='tanh', bias=True))\n",
    "    e.add(Dense(input_size, activation='tanh', bias=True))\n",
    "    e.compile(optimizer='adam', loss='mse')\n",
    "    return e"
   ]
  },
  {
   "cell_type": "code",
   "execution_count": 102,
   "metadata": {},
   "outputs": [
    {
     "name": "stderr",
     "output_type": "stream",
     "text": [
      "C:\\Users\\Anuj\\Anaconda3\\lib\\site-packages\\ipykernel_launcher.py:3: UserWarning: Update your `Dense` call to the Keras 2 API: `Dense(256, input_dim=4, activation=\"tanh\", use_bias=True)`\n",
      "  This is separate from the ipykernel package so we can avoid doing imports until\n",
      "C:\\Users\\Anuj\\Anaconda3\\lib\\site-packages\\ipykernel_launcher.py:4: UserWarning: Update your `Dense` call to the Keras 2 API: `Dense(128, activation=\"tanh\", use_bias=True)`\n",
      "  after removing the cwd from sys.path.\n",
      "C:\\Users\\Anuj\\Anaconda3\\lib\\site-packages\\ipykernel_launcher.py:5: UserWarning: Update your `Dense` call to the Keras 2 API: `Dense(64, activation=\"tanh\", use_bias=True)`\n",
      "  \"\"\"\n"
     ]
    }
   ],
   "source": [
    "e = encoder()"
   ]
  },
  {
   "cell_type": "code",
   "execution_count": 103,
   "metadata": {},
   "outputs": [
    {
     "name": "stderr",
     "output_type": "stream",
     "text": [
      "C:\\Users\\Anuj\\Anaconda3\\lib\\site-packages\\ipykernel_launcher.py:2: UserWarning: Update your `Dense` call to the Keras 2 API: `Dense(128, input_dim=64, activation=\"tanh\", use_bias=True)`\n",
      "  \n",
      "C:\\Users\\Anuj\\Anaconda3\\lib\\site-packages\\ipykernel_launcher.py:3: UserWarning: Update your `Dense` call to the Keras 2 API: `Dense(256, activation=\"tanh\", use_bias=True)`\n",
      "  This is separate from the ipykernel package so we can avoid doing imports until\n",
      "C:\\Users\\Anuj\\Anaconda3\\lib\\site-packages\\ipykernel_launcher.py:4: UserWarning: Update your `Dense` call to the Keras 2 API: `Dense(4, activation=\"tanh\", use_bias=True)`\n",
      "  after removing the cwd from sys.path.\n"
     ]
    }
   ],
   "source": [
    "d = decoder(e)"
   ]
  },
  {
   "cell_type": "code",
   "execution_count": 104,
   "metadata": {},
   "outputs": [
    {
     "name": "stderr",
     "output_type": "stream",
     "text": [
      "C:\\Users\\Anuj\\Anaconda3\\lib\\site-packages\\ipykernel_launcher.py:1: UserWarning: The `nb_epoch` argument in `fit` has been renamed `epochs`.\n",
      "  \"\"\"Entry point for launching an IPython kernel.\n"
     ]
    },
    {
     "name": "stdout",
     "output_type": "stream",
     "text": [
      "Epoch 1/30\n",
      "23787/23787 [==============================] - 1s 49us/step - loss: 0.2365\n",
      "Epoch 2/30\n",
      "23787/23787 [==============================] - 1s 24us/step - loss: 0.1478\n",
      "Epoch 3/30\n",
      "23787/23787 [==============================] - 1s 27us/step - loss: 0.1414\n",
      "Epoch 4/30\n",
      "23787/23787 [==============================] - 1s 25us/step - loss: 0.1394\n",
      "Epoch 5/30\n",
      "23787/23787 [==============================] - 0s 20us/step - loss: 0.1383\n",
      "Epoch 6/30\n",
      "23787/23787 [==============================] - 1s 22us/step - loss: 0.1376\n",
      "Epoch 7/30\n",
      "23787/23787 [==============================] - 1s 21us/step - loss: 0.1371: 0s - loss: 0.136\n",
      "Epoch 8/30\n",
      "23787/23787 [==============================] - 1s 24us/step - loss: 0.1367\n",
      "Epoch 9/30\n",
      "23787/23787 [==============================] - 1s 29us/step - loss: 0.1364\n",
      "Epoch 10/30\n",
      "23787/23787 [==============================] - 1s 22us/step - loss: 0.1361: 0s - loss: 0.136\n",
      "Epoch 11/30\n",
      "23787/23787 [==============================] - 1s 30us/step - loss: 0.1358: 0s - loss: \n",
      "Epoch 12/30\n",
      "23787/23787 [==============================] - 1s 25us/step - loss: 0.1356\n",
      "Epoch 13/30\n",
      "23787/23787 [==============================] - 1s 29us/step - loss: 0.1354\n",
      "Epoch 14/30\n",
      "23787/23787 [==============================] - 1s 29us/step - loss: 0.1351\n",
      "Epoch 15/30\n",
      "23787/23787 [==============================] - 1s 22us/step - loss: 0.1349\n",
      "Epoch 16/30\n",
      "23787/23787 [==============================] - 0s 21us/step - loss: 0.1347\n",
      "Epoch 17/30\n",
      "23787/23787 [==============================] - 1s 29us/step - loss: 0.1336\n",
      "Epoch 18/30\n",
      "23787/23787 [==============================] - 1s 26us/step - loss: 0.1328\n",
      "Epoch 19/30\n",
      "23787/23787 [==============================] - 0s 20us/step - loss: 0.1329\n",
      "Epoch 20/30\n",
      "23787/23787 [==============================] - 1s 32us/step - loss: 0.1320\n",
      "Epoch 21/30\n",
      "23787/23787 [==============================] - 1s 25us/step - loss: 0.1316\n",
      "Epoch 22/30\n",
      "23787/23787 [==============================] - 1s 21us/step - loss: 0.1312\n",
      "Epoch 23/30\n",
      "23787/23787 [==============================] - 0s 20us/step - loss: 0.1307\n",
      "Epoch 24/30\n",
      "23787/23787 [==============================] - 1s 23us/step - loss: 0.1300\n",
      "Epoch 25/30\n",
      "23787/23787 [==============================] - 1s 28us/step - loss: 0.1293\n",
      "Epoch 26/30\n",
      "23787/23787 [==============================] - 1s 28us/step - loss: 0.1284\n",
      "Epoch 27/30\n",
      "23787/23787 [==============================] - 1s 26us/step - loss: 0.1285\n",
      "Epoch 28/30\n",
      "23787/23787 [==============================] - 1s 28us/step - loss: 0.1276\n",
      "Epoch 29/30\n",
      "23787/23787 [==============================] - 1s 21us/step - loss: 0.1274\n",
      "Epoch 30/30\n",
      "23787/23787 [==============================] - 1s 27us/step - loss: 0.1271\n"
     ]
    },
    {
     "data": {
      "text/plain": [
       "<keras.callbacks.callbacks.History at 0x230956c97c8>"
      ]
     },
     "execution_count": 104,
     "metadata": {},
     "output_type": "execute_result"
    }
   ],
   "source": [
    "d.fit(train_X, train_X, nb_epoch=nb_epochs, batch_size=batch_size)"
   ]
  },
  {
   "cell_type": "code",
   "execution_count": 44,
   "metadata": {},
   "outputs": [
    {
     "name": "stdout",
     "output_type": "stream",
     "text": [
      "None\n"
     ]
    }
   ],
   "source": []
  },
  {
   "cell_type": "code",
   "execution_count": 105,
   "metadata": {},
   "outputs": [],
   "source": [
    "def classifier(d):\n",
    "    num_to_remove = 3\n",
    "    for i in range(num_to_remove):\n",
    "        d.pop()\n",
    "    d.add(Dense(128, input_dim=64, activation='tanh', bias=True))\n",
    "    d.add(Dense(128, activation='tanh', bias=True))\n",
    "    d.add(Dense(num_classes, activation='softmax', bias=True))\n",
    "    d.compile(optimizer='adam', loss='categorical_crossentropy',metrics=['accuracy'])\n",
    "    return d"
   ]
  },
  {
   "cell_type": "code",
   "execution_count": 106,
   "metadata": {},
   "outputs": [
    {
     "name": "stderr",
     "output_type": "stream",
     "text": [
      "C:\\Users\\Anuj\\Anaconda3\\lib\\site-packages\\ipykernel_launcher.py:5: UserWarning: Update your `Dense` call to the Keras 2 API: `Dense(128, input_dim=64, activation=\"tanh\", use_bias=True)`\n",
      "  \"\"\"\n",
      "C:\\Users\\Anuj\\Anaconda3\\lib\\site-packages\\ipykernel_launcher.py:6: UserWarning: Update your `Dense` call to the Keras 2 API: `Dense(128, activation=\"tanh\", use_bias=True)`\n",
      "  \n",
      "C:\\Users\\Anuj\\Anaconda3\\lib\\site-packages\\ipykernel_launcher.py:7: UserWarning: Update your `Dense` call to the Keras 2 API: `Dense(9, activation=\"softmax\", use_bias=True)`\n",
      "  import sys\n"
     ]
    }
   ],
   "source": [
    "c = classifier(d)"
   ]
  },
  {
   "cell_type": "code",
   "execution_count": 107,
   "metadata": {},
   "outputs": [
    {
     "name": "stderr",
     "output_type": "stream",
     "text": [
      "C:\\Users\\Anuj\\Anaconda3\\lib\\site-packages\\ipykernel_launcher.py:1: UserWarning: The `nb_epoch` argument in `fit` has been renamed `epochs`.\n",
      "  \"\"\"Entry point for launching an IPython kernel.\n"
     ]
    },
    {
     "name": "stdout",
     "output_type": "stream",
     "text": [
      "Train on 23787 samples, validate on 10151 samples\n",
      "Epoch 1/30\n",
      "23787/23787 [==============================] - 2s 72us/step - loss: 2.1605 - accuracy: 0.1437 - val_loss: 2.1478 - val_accuracy: 0.1451\n",
      "Epoch 2/30\n",
      "23787/23787 [==============================] - 1s 31us/step - loss: 2.1433 - accuracy: 0.1512 - val_loss: 2.1439 - val_accuracy: 0.1449\n",
      "Epoch 3/30\n",
      "23787/23787 [==============================] - 1s 27us/step - loss: 2.1365 - accuracy: 0.1475 - val_loss: 2.1409 - val_accuracy: 0.1452\n",
      "Epoch 4/30\n",
      "23787/23787 [==============================] - 1s 23us/step - loss: 2.1329 - accuracy: 0.1495 - val_loss: 2.1354 - val_accuracy: 0.1442\n",
      "Epoch 5/30\n",
      "23787/23787 [==============================] - 1s 26us/step - loss: 2.1299 - accuracy: 0.1495 - val_loss: 2.1391 - val_accuracy: 0.1468\n",
      "Epoch 6/30\n",
      "23787/23787 [==============================] - 1s 23us/step - loss: 2.1270 - accuracy: 0.1494 - val_loss: 2.1338 - val_accuracy: 0.1424\n",
      "Epoch 7/30\n",
      "23787/23787 [==============================] - 1s 25us/step - loss: 2.1268 - accuracy: 0.1495 - val_loss: 2.1307 - val_accuracy: 0.1463\n",
      "Epoch 8/30\n",
      "23787/23787 [==============================] - 1s 26us/step - loss: 2.1253 - accuracy: 0.1519 - val_loss: 2.1302 - val_accuracy: 0.1466\n",
      "Epoch 9/30\n",
      "23787/23787 [==============================] - 1s 24us/step - loss: 2.1217 - accuracy: 0.1470 - val_loss: 2.1297 - val_accuracy: 0.1436\n",
      "Epoch 10/30\n",
      "23787/23787 [==============================] - 1s 30us/step - loss: 2.1196 - accuracy: 0.1494 - val_loss: 2.1313 - val_accuracy: 0.1423\n",
      "Epoch 11/30\n",
      "23787/23787 [==============================] - 1s 24us/step - loss: 2.1175 - accuracy: 0.1491 - val_loss: 2.1305 - val_accuracy: 0.1418\n",
      "Epoch 12/30\n",
      "23787/23787 [==============================] - 1s 30us/step - loss: 2.1209 - accuracy: 0.1489 - val_loss: 2.1313 - val_accuracy: 0.1467\n",
      "Epoch 13/30\n",
      "23787/23787 [==============================] - 1s 26us/step - loss: 2.1205 - accuracy: 0.1498 - val_loss: 2.1278 - val_accuracy: 0.1458\n",
      "Epoch 14/30\n",
      "23787/23787 [==============================] - 1s 28us/step - loss: 2.1152 - accuracy: 0.1511 - val_loss: 2.1245 - val_accuracy: 0.1386\n",
      "Epoch 15/30\n",
      "23787/23787 [==============================] - 1s 22us/step - loss: 2.1138 - accuracy: 0.1510 - val_loss: 2.1249 - val_accuracy: 0.1433\n",
      "Epoch 16/30\n",
      "23787/23787 [==============================] - 1s 22us/step - loss: 2.1155 - accuracy: 0.1493 - val_loss: 2.1266 - val_accuracy: 0.1470\n",
      "Epoch 17/30\n",
      "23787/23787 [==============================] - 1s 23us/step - loss: 2.1154 - accuracy: 0.1489 - val_loss: 2.1269 - val_accuracy: 0.1427\n",
      "Epoch 18/30\n",
      "23787/23787 [==============================] - 1s 22us/step - loss: 2.1145 - accuracy: 0.1484 - val_loss: 2.1218 - val_accuracy: 0.1409\n",
      "Epoch 19/30\n",
      "23787/23787 [==============================] - 1s 23us/step - loss: 2.1126 - accuracy: 0.1549 - val_loss: 2.1238 - val_accuracy: 0.1358\n",
      "Epoch 20/30\n",
      "23787/23787 [==============================] - 1s 21us/step - loss: 2.1135 - accuracy: 0.1484 - val_loss: 2.1240 - val_accuracy: 0.1390\n",
      "Epoch 21/30\n",
      "23787/23787 [==============================] - 1s 26us/step - loss: 2.1105 - accuracy: 0.1519 - val_loss: 2.1243 - val_accuracy: 0.1412\n",
      "Epoch 22/30\n",
      "23787/23787 [==============================] - 0s 20us/step - loss: 2.1104 - accuracy: 0.1496 - val_loss: 2.1250 - val_accuracy: 0.1399\n",
      "Epoch 23/30\n",
      "23787/23787 [==============================] - 1s 21us/step - loss: 2.1105 - accuracy: 0.1516 - val_loss: 2.1241 - val_accuracy: 0.1406\n",
      "Epoch 24/30\n",
      "23787/23787 [==============================] - 1s 21us/step - loss: 2.1097 - accuracy: 0.1531 - val_loss: 2.1257 - val_accuracy: 0.1434\n",
      "Epoch 25/30\n",
      "23787/23787 [==============================] - 0s 20us/step - loss: 2.1077 - accuracy: 0.1519 - val_loss: 2.1209 - val_accuracy: 0.1390\n",
      "Epoch 26/30\n",
      "23787/23787 [==============================] - 0s 20us/step - loss: 2.1078 - accuracy: 0.1491 - val_loss: 2.1255 - val_accuracy: 0.1391\n",
      "Epoch 27/30\n",
      "23787/23787 [==============================] - 0s 21us/step - loss: 2.1094 - accuracy: 0.1479 - val_loss: 2.1231 - val_accuracy: 0.1372\n",
      "Epoch 28/30\n",
      "23787/23787 [==============================] - 1s 21us/step - loss: 2.1096 - accuracy: 0.1521 - val_loss: 2.1249 - val_accuracy: 0.1386\n",
      "Epoch 29/30\n",
      "23787/23787 [==============================] - 1s 28us/step - loss: 2.1097 - accuracy: 0.1510 - val_loss: 2.1264 - val_accuracy: 0.1472\n",
      "Epoch 30/30\n",
      "23787/23787 [==============================] - 1s 21us/step - loss: 2.1064 - accuracy: 0.1544 - val_loss: 2.1270 - val_accuracy: 0.1446\n"
     ]
    },
    {
     "data": {
      "text/plain": [
       "<keras.callbacks.callbacks.History at 0x230979ff088>"
      ]
     },
     "execution_count": 107,
     "metadata": {},
     "output_type": "execute_result"
    }
   ],
   "source": [
    "c.fit(train_X, train_y, validation_data=(val_X, val_y), nb_epoch=nb_epochs, batch_size=batch_size , shuffle = True)"
   ]
  },
  {
   "cell_type": "code",
   "execution_count": 108,
   "metadata": {},
   "outputs": [
    {
     "name": "stdout",
     "output_type": "stream",
     "text": [
      "33938/33938 [==============================] - 2s 53us/step\n",
      "2.114992056027686 0.14944899082183838\n"
     ]
    }
   ],
   "source": [
    "loss, acc = c.evaluate(train_AP_features, train_labels)\n",
    "print(loss, acc)"
   ]
  },
  {
   "cell_type": "code",
   "execution_count": null,
   "metadata": {},
   "outputs": [],
   "source": []
  }
 ],
 "metadata": {
  "kernelspec": {
   "display_name": "Python 3",
   "language": "python",
   "name": "python3"
  },
  "language_info": {
   "codemirror_mode": {
    "name": "ipython",
    "version": 3
   },
   "file_extension": ".py",
   "mimetype": "text/x-python",
   "name": "python",
   "nbconvert_exporter": "python",
   "pygments_lexer": "ipython3",
   "version": "3.7.6"
  }
 },
 "nbformat": 4,
 "nbformat_minor": 4
}
