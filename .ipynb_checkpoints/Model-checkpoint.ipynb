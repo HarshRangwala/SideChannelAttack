{
 "cells": [
  {
   "cell_type": "code",
   "execution_count": 1,
   "metadata": {},
   "outputs": [
    {
     "name": "stderr",
     "output_type": "stream",
     "text": [
      "Using TensorFlow backend.\n"
     ]
    }
   ],
   "source": [
    "import pandas as pd\n",
    "import numpy as np\n",
    "import tensorflow as tf\n",
    "import keras\n",
    "from scipy import stats\n",
    "from sklearn import metrics\n",
    "from sklearn.model_selection import train_test_split\n",
    "from sklearn.preprocessing import RobustScaler\n",
    "from sklearn.preprocessing import OneHotEncoder\n",
    "import seaborn as sns\n",
    "from pylab import rcParams\n",
    "import matplotlib.pyplot as plt\n",
    "from matplotlib import rc\n",
    "from pandas.plotting import register_matplotlib_converters\n",
    "from keras.models import model_from_json"
   ]
  },
  {
   "cell_type": "code",
   "execution_count": 2,
   "metadata": {},
   "outputs": [
    {
     "name": "stdout",
     "output_type": "stream",
     "text": [
      "--- 1.15.0\n"
     ]
    }
   ],
   "source": [
    "print(\"---\", tf.__version__)"
   ]
  },
  {
   "cell_type": "code",
   "execution_count": 4,
   "metadata": {},
   "outputs": [],
   "source": [
    "sdata = pd.read_csv(r\"D:\\BSC IT DOCX\\Research Papers\\Research Internship-Columbia\\Indoor localization\\DatasetV2\\magneticcenterHall02.csv\")\n",
    "sdata1 = pd.read_csv(r\"D:\\BSC IT DOCX\\Research Papers\\Research Internship-Columbia\\Indoor localization\\DatasetV2\\magneticcenterKitchen02.csv\")\n",
    "sdata2 = pd.read_csv(r\"D:\\BSC IT DOCX\\Research Papers\\Research Internship-Columbia\\Indoor localization\\DatasetV2\\magneticcenterRoom03.csv\")\n",
    "\n",
    "sdata.columns = ['TimeStamp', 'X', 'Y', 'Z', 'Magnitude', 'CoordinateID']\n",
    "sdata1.columns = ['TimeStamp', 'X', 'Y', 'Z', 'Magnitude', 'CoordinateID']\n",
    "sdata2.columns = ['TimeStamp', 'X', 'Y', 'Z', 'Magnitude', 'CoordinateID']"
   ]
  },
  {
   "cell_type": "code",
   "execution_count": 8,
   "metadata": {},
   "outputs": [
    {
     "name": "stdout",
     "output_type": "stream",
     "text": [
      "(1914, 6) (1669, 6) (1385, 6)\n"
     ]
    },
    {
     "data": {
      "text/html": [
       "<div>\n",
       "<style scoped>\n",
       "    .dataframe tbody tr th:only-of-type {\n",
       "        vertical-align: middle;\n",
       "    }\n",
       "\n",
       "    .dataframe tbody tr th {\n",
       "        vertical-align: top;\n",
       "    }\n",
       "\n",
       "    .dataframe thead th {\n",
       "        text-align: right;\n",
       "    }\n",
       "</style>\n",
       "<table border=\"1\" class=\"dataframe\">\n",
       "  <thead>\n",
       "    <tr style=\"text-align: right;\">\n",
       "      <th></th>\n",
       "      <th>TimeStamp</th>\n",
       "      <th>X</th>\n",
       "      <th>Y</th>\n",
       "      <th>Z</th>\n",
       "      <th>Magnitude</th>\n",
       "      <th>CoordinateID</th>\n",
       "    </tr>\n",
       "  </thead>\n",
       "  <tbody>\n",
       "    <tr>\n",
       "      <th>0</th>\n",
       "      <td>2020-08-17 05:25:08:174</td>\n",
       "      <td>51.780000</td>\n",
       "      <td>-91.020000</td>\n",
       "      <td>30.599998</td>\n",
       "      <td>58.613036</td>\n",
       "      <td>1</td>\n",
       "    </tr>\n",
       "    <tr>\n",
       "      <th>1</th>\n",
       "      <td>2020-08-17 05:25:08:194</td>\n",
       "      <td>52.020000</td>\n",
       "      <td>-91.619995</td>\n",
       "      <td>30.539999</td>\n",
       "      <td>58.783775</td>\n",
       "      <td>1</td>\n",
       "    </tr>\n",
       "    <tr>\n",
       "      <th>2</th>\n",
       "      <td>2020-08-17 05:25:08:214</td>\n",
       "      <td>52.199997</td>\n",
       "      <td>-92.100000</td>\n",
       "      <td>30.119999</td>\n",
       "      <td>58.718430</td>\n",
       "      <td>1</td>\n",
       "    </tr>\n",
       "    <tr>\n",
       "      <th>3</th>\n",
       "      <td>2020-08-17 05:25:08:234</td>\n",
       "      <td>52.800000</td>\n",
       "      <td>-92.159996</td>\n",
       "      <td>30.119999</td>\n",
       "      <td>59.251448</td>\n",
       "      <td>1</td>\n",
       "    </tr>\n",
       "    <tr>\n",
       "      <th>4</th>\n",
       "      <td>2020-08-17 05:25:08:254</td>\n",
       "      <td>52.739998</td>\n",
       "      <td>-92.220000</td>\n",
       "      <td>30.420000</td>\n",
       "      <td>59.350180</td>\n",
       "      <td>1</td>\n",
       "    </tr>\n",
       "    <tr>\n",
       "      <th>...</th>\n",
       "      <td>...</td>\n",
       "      <td>...</td>\n",
       "      <td>...</td>\n",
       "      <td>...</td>\n",
       "      <td>...</td>\n",
       "      <td>...</td>\n",
       "    </tr>\n",
       "    <tr>\n",
       "      <th>995</th>\n",
       "      <td>2020-08-17 05:28:06:306</td>\n",
       "      <td>21.779999</td>\n",
       "      <td>-35.940000</td>\n",
       "      <td>-12.240000</td>\n",
       "      <td>23.501190</td>\n",
       "      <td>1</td>\n",
       "    </tr>\n",
       "    <tr>\n",
       "      <th>996</th>\n",
       "      <td>2020-08-17 05:28:06:326</td>\n",
       "      <td>21.480000</td>\n",
       "      <td>-35.700000</td>\n",
       "      <td>-12.179999</td>\n",
       "      <td>23.202215</td>\n",
       "      <td>1</td>\n",
       "    </tr>\n",
       "    <tr>\n",
       "      <th>997</th>\n",
       "      <td>2020-08-17 05:28:06:346</td>\n",
       "      <td>21.960000</td>\n",
       "      <td>-35.760000</td>\n",
       "      <td>-12.540000</td>\n",
       "      <td>23.832187</td>\n",
       "      <td>1</td>\n",
       "    </tr>\n",
       "    <tr>\n",
       "      <th>998</th>\n",
       "      <td>2020-08-17 05:28:06:366</td>\n",
       "      <td>21.900000</td>\n",
       "      <td>-35.579998</td>\n",
       "      <td>-12.719999</td>\n",
       "      <td>23.879873</td>\n",
       "      <td>1</td>\n",
       "    </tr>\n",
       "    <tr>\n",
       "      <th>999</th>\n",
       "      <td>2020-08-17 05:28:06:386</td>\n",
       "      <td>22.199999</td>\n",
       "      <td>-35.219997</td>\n",
       "      <td>-12.480000</td>\n",
       "      <td>24.044757</td>\n",
       "      <td>1</td>\n",
       "    </tr>\n",
       "  </tbody>\n",
       "</table>\n",
       "<p>1000 rows × 6 columns</p>\n",
       "</div>"
      ],
      "text/plain": [
       "                   TimeStamp          X          Y          Z  Magnitude  \\\n",
       "0    2020-08-17 05:25:08:174  51.780000 -91.020000  30.599998  58.613036   \n",
       "1    2020-08-17 05:25:08:194  52.020000 -91.619995  30.539999  58.783775   \n",
       "2    2020-08-17 05:25:08:214  52.199997 -92.100000  30.119999  58.718430   \n",
       "3    2020-08-17 05:25:08:234  52.800000 -92.159996  30.119999  59.251448   \n",
       "4    2020-08-17 05:25:08:254  52.739998 -92.220000  30.420000  59.350180   \n",
       "..                       ...        ...        ...        ...        ...   \n",
       "995  2020-08-17 05:28:06:306  21.779999 -35.940000 -12.240000  23.501190   \n",
       "996  2020-08-17 05:28:06:326  21.480000 -35.700000 -12.179999  23.202215   \n",
       "997  2020-08-17 05:28:06:346  21.960000 -35.760000 -12.540000  23.832187   \n",
       "998  2020-08-17 05:28:06:366  21.900000 -35.579998 -12.719999  23.879873   \n",
       "999  2020-08-17 05:28:06:386  22.199999 -35.219997 -12.480000  24.044757   \n",
       "\n",
       "     CoordinateID  \n",
       "0               1  \n",
       "1               1  \n",
       "2               1  \n",
       "3               1  \n",
       "4               1  \n",
       "..            ...  \n",
       "995             1  \n",
       "996             1  \n",
       "997             1  \n",
       "998             1  \n",
       "999             1  \n",
       "\n",
       "[1000 rows x 6 columns]"
      ]
     },
     "execution_count": 8,
     "metadata": {},
     "output_type": "execute_result"
    }
   ],
   "source": [
    "# Check the shape of the data\n",
    "\n",
    "print(sdata.shape,\n",
    "sdata1.shape,\n",
    "sdata2.shape)\n",
    "\n",
    "\n",
    "#Exploratory Data Analysis\n",
    "\n",
    "df = pd.concat([sdata, sdata1, sdata2], axis=0)\n",
    "\n",
    "df = df.reset_index(drop=True)\n",
    "\n",
    "df.head(1000)"
   ]
  },
  {
   "cell_type": "code",
   "execution_count": 7,
   "metadata": {},
   "outputs": [
    {
     "name": "stdout",
     "output_type": "stream",
     "text": [
      "1    1914\n",
      "2    1669\n",
      "3    1385\n",
      "Name: CoordinateID, dtype: int64\n"
     ]
    },
    {
     "data": {
      "text/plain": [
       "<matplotlib.axes._subplots.AxesSubplot at 0x203155d6408>"
      ]
     },
     "execution_count": 7,
     "metadata": {},
     "output_type": "execute_result"
    },
    {
     "data": {
      "image/png": "[encoded data removed]",
      "text/plain": [
       "<Figure size 936x648 with 1 Axes>"
      ]
     },
     "metadata": {
      "needs_background": "light"
     },
     "output_type": "display_data"
    }
   ],
   "source": [
    "InsData = df['CoordinateID'].value_counts()\n",
    "print(InsData)\n",
    "InsData.plot(kind = 'bar', title = 'Magnetometer Data', figsize = (13, 9))"
   ]
  },
  {
   "cell_type": "code",
   "execution_count": 9,
   "metadata": {},
   "outputs": [],
   "source": [
    "def plot_activity(activity, df):\n",
    "    rowActivity = (df['CoordinateID'] == activity)\n",
    "    data = df[rowActivity]\n",
    "    data = data[['X','Y','Z']]\n",
    "    data = data[:2000]\n",
    "    axis = data.plot(subplots=True, figsize=(16,12), title=activity)"
   ]
  },
  {
   "cell_type": "code",
   "execution_count": 10,
   "metadata": {},
   "outputs": [
    {
     "data": {
      "image/png": "[encoded data removed]",
      "text/plain": [
       "<Figure size 1152x864 with 3 Axes>"
      ]
     },
     "metadata": {
      "needs_background": "light"
     },
     "output_type": "display_data"
    }
   ],
   "source": [
    "plot_activity(1, df)"
   ]
  },
  {
   "cell_type": "code",
   "execution_count": 15,
   "metadata": {},
   "outputs": [],
   "source": [
    "df = df.drop(['TimeStamp'], axis = 1) "
   ]
  },
  {
   "cell_type": "code",
   "execution_count": 59,
   "metadata": {},
   "outputs": [
    {
     "name": "stdout",
     "output_type": "stream",
     "text": [
      "(4471, 5)\n"
     ]
    },
    {
     "data": {
      "text/html": [
       "<div>\n",
       "<style scoped>\n",
       "    .dataframe tbody tr th:only-of-type {\n",
       "        vertical-align: middle;\n",
       "    }\n",
       "\n",
       "    .dataframe tbody tr th {\n",
       "        vertical-align: top;\n",
       "    }\n",
       "\n",
       "    .dataframe thead th {\n",
       "        text-align: right;\n",
       "    }\n",
       "</style>\n",
       "<table border=\"1\" class=\"dataframe\">\n",
       "  <thead>\n",
       "    <tr style=\"text-align: right;\">\n",
       "      <th></th>\n",
       "      <th>X</th>\n",
       "      <th>Y</th>\n",
       "      <th>Z</th>\n",
       "      <th>Magnitude</th>\n",
       "      <th>CoordinateID</th>\n",
       "    </tr>\n",
       "  </thead>\n",
       "  <tbody>\n",
       "    <tr>\n",
       "      <th>3977</th>\n",
       "      <td>51.420000</td>\n",
       "      <td>-91.740000</td>\n",
       "      <td>31.260000</td>\n",
       "      <td>58.632104</td>\n",
       "      <td>3</td>\n",
       "    </tr>\n",
       "    <tr>\n",
       "      <th>1583</th>\n",
       "      <td>25.500000</td>\n",
       "      <td>-35.940000</td>\n",
       "      <td>-15.120000</td>\n",
       "      <td>28.407470</td>\n",
       "      <td>1</td>\n",
       "    </tr>\n",
       "    <tr>\n",
       "      <th>4901</th>\n",
       "      <td>22.680000</td>\n",
       "      <td>-33.180000</td>\n",
       "      <td>-14.460000</td>\n",
       "      <td>25.634235</td>\n",
       "      <td>3</td>\n",
       "    </tr>\n",
       "    <tr>\n",
       "      <th>4851</th>\n",
       "      <td>22.199999</td>\n",
       "      <td>-33.540000</td>\n",
       "      <td>-14.400000</td>\n",
       "      <td>25.161875</td>\n",
       "      <td>3</td>\n",
       "    </tr>\n",
       "    <tr>\n",
       "      <th>3120</th>\n",
       "      <td>23.400000</td>\n",
       "      <td>-35.100000</td>\n",
       "      <td>-14.340000</td>\n",
       "      <td>26.134185</td>\n",
       "      <td>2</td>\n",
       "    </tr>\n",
       "    <tr>\n",
       "      <th>...</th>\n",
       "      <td>...</td>\n",
       "      <td>...</td>\n",
       "      <td>...</td>\n",
       "      <td>...</td>\n",
       "      <td>...</td>\n",
       "    </tr>\n",
       "    <tr>\n",
       "      <th>1795</th>\n",
       "      <td>20.460000</td>\n",
       "      <td>-35.579998</td>\n",
       "      <td>-12.900000</td>\n",
       "      <td>22.668515</td>\n",
       "      <td>1</td>\n",
       "    </tr>\n",
       "    <tr>\n",
       "      <th>4278</th>\n",
       "      <td>23.279999</td>\n",
       "      <td>-36.899998</td>\n",
       "      <td>-16.440000</td>\n",
       "      <td>27.174104</td>\n",
       "      <td>3</td>\n",
       "    </tr>\n",
       "    <tr>\n",
       "      <th>2207</th>\n",
       "      <td>51.420000</td>\n",
       "      <td>-90.780000</td>\n",
       "      <td>30.539999</td>\n",
       "      <td>58.267894</td>\n",
       "      <td>2</td>\n",
       "    </tr>\n",
       "    <tr>\n",
       "      <th>1615</th>\n",
       "      <td>25.320000</td>\n",
       "      <td>-35.460000</td>\n",
       "      <td>-15.000000</td>\n",
       "      <td>28.198978</td>\n",
       "      <td>1</td>\n",
       "    </tr>\n",
       "    <tr>\n",
       "      <th>4937</th>\n",
       "      <td>22.140000</td>\n",
       "      <td>-33.120000</td>\n",
       "      <td>-13.980000</td>\n",
       "      <td>24.887345</td>\n",
       "      <td>3</td>\n",
       "    </tr>\n",
       "  </tbody>\n",
       "</table>\n",
       "<p>4000 rows × 5 columns</p>\n",
       "</div>"
      ],
      "text/plain": [
       "              X          Y          Z  Magnitude  CoordinateID\n",
       "3977  51.420000 -91.740000  31.260000  58.632104             3\n",
       "1583  25.500000 -35.940000 -15.120000  28.407470             1\n",
       "4901  22.680000 -33.180000 -14.460000  25.634235             3\n",
       "4851  22.199999 -33.540000 -14.400000  25.161875             3\n",
       "3120  23.400000 -35.100000 -14.340000  26.134185             2\n",
       "...         ...        ...        ...        ...           ...\n",
       "1795  20.460000 -35.579998 -12.900000  22.668515             1\n",
       "4278  23.279999 -36.899998 -16.440000  27.174104             3\n",
       "2207  51.420000 -90.780000  30.539999  58.267894             2\n",
       "1615  25.320000 -35.460000 -15.000000  28.198978             1\n",
       "4937  22.140000 -33.120000 -13.980000  24.887345             3\n",
       "\n",
       "[4000 rows x 5 columns]"
      ]
     },
     "execution_count": 59,
     "metadata": {},
     "output_type": "execute_result"
    }
   ],
   "source": [
    "df_train, df_test = train_test_split(df, test_size = 0.1, shuffle = True)\n",
    "print(df_train.shape)\n",
    "df_train.head(4000)"
   ]
  },
  {
   "cell_type": "code",
   "execution_count": 60,
   "metadata": {},
   "outputs": [
    {
     "data": {
      "text/html": [
       "<div>\n",
       "<style scoped>\n",
       "    .dataframe tbody tr th:only-of-type {\n",
       "        vertical-align: middle;\n",
       "    }\n",
       "\n",
       "    .dataframe tbody tr th {\n",
       "        vertical-align: top;\n",
       "    }\n",
       "\n",
       "    .dataframe thead th {\n",
       "        text-align: right;\n",
       "    }\n",
       "</style>\n",
       "<table border=\"1\" class=\"dataframe\">\n",
       "  <thead>\n",
       "    <tr style=\"text-align: right;\">\n",
       "      <th></th>\n",
       "      <th>X</th>\n",
       "      <th>Y</th>\n",
       "      <th>Z</th>\n",
       "      <th>Magnitude</th>\n",
       "      <th>CoordinateID</th>\n",
       "    </tr>\n",
       "  </thead>\n",
       "  <tbody>\n",
       "    <tr>\n",
       "      <th>2695</th>\n",
       "      <td>22.980000</td>\n",
       "      <td>-35.700000</td>\n",
       "      <td>-14.460000</td>\n",
       "      <td>25.802557</td>\n",
       "      <td>2</td>\n",
       "    </tr>\n",
       "    <tr>\n",
       "      <th>3059</th>\n",
       "      <td>21.779999</td>\n",
       "      <td>-33.960000</td>\n",
       "      <td>-15.599999</td>\n",
       "      <td>25.491339</td>\n",
       "      <td>2</td>\n",
       "    </tr>\n",
       "    <tr>\n",
       "      <th>749</th>\n",
       "      <td>23.699999</td>\n",
       "      <td>-36.239998</td>\n",
       "      <td>-16.500000</td>\n",
       "      <td>27.594564</td>\n",
       "      <td>1</td>\n",
       "    </tr>\n",
       "    <tr>\n",
       "      <th>4181</th>\n",
       "      <td>22.920000</td>\n",
       "      <td>-38.640000</td>\n",
       "      <td>-15.599999</td>\n",
       "      <td>26.294607</td>\n",
       "      <td>3</td>\n",
       "    </tr>\n",
       "    <tr>\n",
       "      <th>2697</th>\n",
       "      <td>23.400000</td>\n",
       "      <td>-35.880000</td>\n",
       "      <td>-14.880000</td>\n",
       "      <td>26.404817</td>\n",
       "      <td>2</td>\n",
       "    </tr>\n",
       "    <tr>\n",
       "      <th>3872</th>\n",
       "      <td>51.000000</td>\n",
       "      <td>-90.659996</td>\n",
       "      <td>30.000000</td>\n",
       "      <td>57.616664</td>\n",
       "      <td>3</td>\n",
       "    </tr>\n",
       "    <tr>\n",
       "      <th>627</th>\n",
       "      <td>23.880000</td>\n",
       "      <td>-37.380000</td>\n",
       "      <td>-16.320000</td>\n",
       "      <td>27.601389</td>\n",
       "      <td>1</td>\n",
       "    </tr>\n",
       "    <tr>\n",
       "      <th>4030</th>\n",
       "      <td>51.840000</td>\n",
       "      <td>-91.500000</td>\n",
       "      <td>32.640000</td>\n",
       "      <td>59.747426</td>\n",
       "      <td>3</td>\n",
       "    </tr>\n",
       "    <tr>\n",
       "      <th>2002</th>\n",
       "      <td>51.539997</td>\n",
       "      <td>-90.960000</td>\n",
       "      <td>30.359999</td>\n",
       "      <td>58.276761</td>\n",
       "      <td>2</td>\n",
       "    </tr>\n",
       "    <tr>\n",
       "      <th>2370</th>\n",
       "      <td>52.860000</td>\n",
       "      <td>-92.159996</td>\n",
       "      <td>33.239998</td>\n",
       "      <td>60.948807</td>\n",
       "      <td>2</td>\n",
       "    </tr>\n",
       "    <tr>\n",
       "      <th>2964</th>\n",
       "      <td>21.960000</td>\n",
       "      <td>-35.399998</td>\n",
       "      <td>-12.420000</td>\n",
       "      <td>23.784407</td>\n",
       "      <td>2</td>\n",
       "    </tr>\n",
       "    <tr>\n",
       "      <th>3504</th>\n",
       "      <td>25.680000</td>\n",
       "      <td>-35.520000</td>\n",
       "      <td>-15.059999</td>\n",
       "      <td>28.552163</td>\n",
       "      <td>2</td>\n",
       "    </tr>\n",
       "    <tr>\n",
       "      <th>1234</th>\n",
       "      <td>22.920000</td>\n",
       "      <td>-34.800000</td>\n",
       "      <td>-14.400000</td>\n",
       "      <td>25.750465</td>\n",
       "      <td>1</td>\n",
       "    </tr>\n",
       "    <tr>\n",
       "      <th>1522</th>\n",
       "      <td>25.199999</td>\n",
       "      <td>-36.719997</td>\n",
       "      <td>-15.480000</td>\n",
       "      <td>28.306011</td>\n",
       "      <td>1</td>\n",
       "    </tr>\n",
       "    <tr>\n",
       "      <th>3307</th>\n",
       "      <td>24.900000</td>\n",
       "      <td>-36.180000</td>\n",
       "      <td>-14.519999</td>\n",
       "      <td>27.540523</td>\n",
       "      <td>2</td>\n",
       "    </tr>\n",
       "    <tr>\n",
       "      <th>989</th>\n",
       "      <td>21.420000</td>\n",
       "      <td>-35.940000</td>\n",
       "      <td>-12.719999</td>\n",
       "      <td>23.425089</td>\n",
       "      <td>1</td>\n",
       "    </tr>\n",
       "    <tr>\n",
       "      <th>1733</th>\n",
       "      <td>19.980000</td>\n",
       "      <td>-36.059998</td>\n",
       "      <td>-12.719999</td>\n",
       "      <td>22.110603</td>\n",
       "      <td>1</td>\n",
       "    </tr>\n",
       "    <tr>\n",
       "      <th>778</th>\n",
       "      <td>22.380000</td>\n",
       "      <td>-35.280000</td>\n",
       "      <td>-15.059999</td>\n",
       "      <td>25.634116</td>\n",
       "      <td>1</td>\n",
       "    </tr>\n",
       "    <tr>\n",
       "      <th>4000</th>\n",
       "      <td>53.699997</td>\n",
       "      <td>-92.280000</td>\n",
       "      <td>33.360000</td>\n",
       "      <td>61.741552</td>\n",
       "      <td>3</td>\n",
       "    </tr>\n",
       "    <tr>\n",
       "      <th>3771</th>\n",
       "      <td>51.360000</td>\n",
       "      <td>-90.659996</td>\n",
       "      <td>30.900000</td>\n",
       "      <td>58.406674</td>\n",
       "      <td>3</td>\n",
       "    </tr>\n",
       "    <tr>\n",
       "      <th>2980</th>\n",
       "      <td>21.180000</td>\n",
       "      <td>-36.719997</td>\n",
       "      <td>-12.540000</td>\n",
       "      <td>23.073881</td>\n",
       "      <td>2</td>\n",
       "    </tr>\n",
       "    <tr>\n",
       "      <th>4012</th>\n",
       "      <td>52.980000</td>\n",
       "      <td>-92.159996</td>\n",
       "      <td>34.680000</td>\n",
       "      <td>61.848708</td>\n",
       "      <td>3</td>\n",
       "    </tr>\n",
       "    <tr>\n",
       "      <th>1391</th>\n",
       "      <td>24.420000</td>\n",
       "      <td>-35.940000</td>\n",
       "      <td>-14.340000</td>\n",
       "      <td>27.020215</td>\n",
       "      <td>1</td>\n",
       "    </tr>\n",
       "    <tr>\n",
       "      <th>2694</th>\n",
       "      <td>22.740000</td>\n",
       "      <td>-35.579998</td>\n",
       "      <td>-14.639999</td>\n",
       "      <td>25.695859</td>\n",
       "      <td>2</td>\n",
       "    </tr>\n",
       "    <tr>\n",
       "      <th>4230</th>\n",
       "      <td>22.740000</td>\n",
       "      <td>-37.140000</td>\n",
       "      <td>-15.900000</td>\n",
       "      <td>26.374942</td>\n",
       "      <td>3</td>\n",
       "    </tr>\n",
       "    <tr>\n",
       "      <th>2828</th>\n",
       "      <td>21.060000</td>\n",
       "      <td>-36.059998</td>\n",
       "      <td>-12.660000</td>\n",
       "      <td>23.058170</td>\n",
       "      <td>2</td>\n",
       "    </tr>\n",
       "    <tr>\n",
       "      <th>3417</th>\n",
       "      <td>25.320000</td>\n",
       "      <td>-37.140000</td>\n",
       "      <td>-14.340000</td>\n",
       "      <td>27.793129</td>\n",
       "      <td>2</td>\n",
       "    </tr>\n",
       "    <tr>\n",
       "      <th>618</th>\n",
       "      <td>23.699999</td>\n",
       "      <td>-36.960000</td>\n",
       "      <td>-16.380000</td>\n",
       "      <td>27.496806</td>\n",
       "      <td>1</td>\n",
       "    </tr>\n",
       "    <tr>\n",
       "      <th>2404</th>\n",
       "      <td>52.199997</td>\n",
       "      <td>-92.040000</td>\n",
       "      <td>33.300000</td>\n",
       "      <td>60.412328</td>\n",
       "      <td>2</td>\n",
       "    </tr>\n",
       "    <tr>\n",
       "      <th>2500</th>\n",
       "      <td>24.660000</td>\n",
       "      <td>-37.980000</td>\n",
       "      <td>-16.619999</td>\n",
       "      <td>28.432023</td>\n",
       "      <td>2</td>\n",
       "    </tr>\n",
       "    <tr>\n",
       "      <th>4698</th>\n",
       "      <td>22.020000</td>\n",
       "      <td>-33.960000</td>\n",
       "      <td>-14.460000</td>\n",
       "      <td>25.021032</td>\n",
       "      <td>3</td>\n",
       "    </tr>\n",
       "    <tr>\n",
       "      <th>4193</th>\n",
       "      <td>23.220000</td>\n",
       "      <td>-36.360000</td>\n",
       "      <td>-16.619999</td>\n",
       "      <td>27.252022</td>\n",
       "      <td>3</td>\n",
       "    </tr>\n",
       "    <tr>\n",
       "      <th>541</th>\n",
       "      <td>53.039997</td>\n",
       "      <td>-92.640000</td>\n",
       "      <td>33.420000</td>\n",
       "      <td>61.195240</td>\n",
       "      <td>1</td>\n",
       "    </tr>\n",
       "    <tr>\n",
       "      <th>1471</th>\n",
       "      <td>25.019999</td>\n",
       "      <td>-36.420000</td>\n",
       "      <td>-15.120000</td>\n",
       "      <td>27.960234</td>\n",
       "      <td>1</td>\n",
       "    </tr>\n",
       "    <tr>\n",
       "      <th>4125</th>\n",
       "      <td>52.980000</td>\n",
       "      <td>-92.820000</td>\n",
       "      <td>33.239998</td>\n",
       "      <td>61.042100</td>\n",
       "      <td>3</td>\n",
       "    </tr>\n",
       "    <tr>\n",
       "      <th>2132</th>\n",
       "      <td>51.600000</td>\n",
       "      <td>-91.020000</td>\n",
       "      <td>31.679998</td>\n",
       "      <td>59.026622</td>\n",
       "      <td>2</td>\n",
       "    </tr>\n",
       "    <tr>\n",
       "      <th>3280</th>\n",
       "      <td>23.580000</td>\n",
       "      <td>-33.899998</td>\n",
       "      <td>-14.340000</td>\n",
       "      <td>26.341072</td>\n",
       "      <td>2</td>\n",
       "    </tr>\n",
       "    <tr>\n",
       "      <th>2431</th>\n",
       "      <td>52.440000</td>\n",
       "      <td>-91.920000</td>\n",
       "      <td>33.120000</td>\n",
       "      <td>60.523116</td>\n",
       "      <td>2</td>\n",
       "    </tr>\n",
       "    <tr>\n",
       "      <th>4121</th>\n",
       "      <td>52.980000</td>\n",
       "      <td>-92.340000</td>\n",
       "      <td>33.239998</td>\n",
       "      <td>61.049962</td>\n",
       "      <td>3</td>\n",
       "    </tr>\n",
       "    <tr>\n",
       "      <th>669</th>\n",
       "      <td>23.340000</td>\n",
       "      <td>-36.480000</td>\n",
       "      <td>-16.020000</td>\n",
       "      <td>26.989554</td>\n",
       "      <td>1</td>\n",
       "    </tr>\n",
       "    <tr>\n",
       "      <th>3518</th>\n",
       "      <td>25.920000</td>\n",
       "      <td>-36.239998</td>\n",
       "      <td>-15.000000</td>\n",
       "      <td>28.711781</td>\n",
       "      <td>2</td>\n",
       "    </tr>\n",
       "    <tr>\n",
       "      <th>4410</th>\n",
       "      <td>20.520000</td>\n",
       "      <td>-35.219997</td>\n",
       "      <td>-13.740000</td>\n",
       "      <td>23.225373</td>\n",
       "      <td>3</td>\n",
       "    </tr>\n",
       "    <tr>\n",
       "      <th>738</th>\n",
       "      <td>23.939999</td>\n",
       "      <td>-36.719997</td>\n",
       "      <td>-15.960000</td>\n",
       "      <td>27.466437</td>\n",
       "      <td>1</td>\n",
       "    </tr>\n",
       "    <tr>\n",
       "      <th>1659</th>\n",
       "      <td>24.779999</td>\n",
       "      <td>-35.640000</td>\n",
       "      <td>-14.880000</td>\n",
       "      <td>27.643855</td>\n",
       "      <td>1</td>\n",
       "    </tr>\n",
       "    <tr>\n",
       "      <th>1044</th>\n",
       "      <td>22.619999</td>\n",
       "      <td>-35.160000</td>\n",
       "      <td>-12.059999</td>\n",
       "      <td>24.223705</td>\n",
       "      <td>1</td>\n",
       "    </tr>\n",
       "    <tr>\n",
       "      <th>2393</th>\n",
       "      <td>53.399998</td>\n",
       "      <td>-91.860000</td>\n",
       "      <td>32.640000</td>\n",
       "      <td>61.099996</td>\n",
       "      <td>2</td>\n",
       "    </tr>\n",
       "    <tr>\n",
       "      <th>4376</th>\n",
       "      <td>22.680000</td>\n",
       "      <td>-35.520000</td>\n",
       "      <td>-14.820000</td>\n",
       "      <td>25.748296</td>\n",
       "      <td>3</td>\n",
       "    </tr>\n",
       "    <tr>\n",
       "      <th>4746</th>\n",
       "      <td>21.240000</td>\n",
       "      <td>-33.960000</td>\n",
       "      <td>-15.719999</td>\n",
       "      <td>25.106492</td>\n",
       "      <td>3</td>\n",
       "    </tr>\n",
       "    <tr>\n",
       "      <th>4476</th>\n",
       "      <td>21.119999</td>\n",
       "      <td>-35.100000</td>\n",
       "      <td>-14.759999</td>\n",
       "      <td>24.366204</td>\n",
       "      <td>3</td>\n",
       "    </tr>\n",
       "    <tr>\n",
       "      <th>1012</th>\n",
       "      <td>21.600000</td>\n",
       "      <td>-35.399998</td>\n",
       "      <td>-12.300000</td>\n",
       "      <td>23.389101</td>\n",
       "      <td>1</td>\n",
       "    </tr>\n",
       "  </tbody>\n",
       "</table>\n",
       "</div>"
      ],
      "text/plain": [
       "              X          Y          Z  Magnitude  CoordinateID\n",
       "2695  22.980000 -35.700000 -14.460000  25.802557             2\n",
       "3059  21.779999 -33.960000 -15.599999  25.491339             2\n",
       "749   23.699999 -36.239998 -16.500000  27.594564             1\n",
       "4181  22.920000 -38.640000 -15.599999  26.294607             3\n",
       "2697  23.400000 -35.880000 -14.880000  26.404817             2\n",
       "3872  51.000000 -90.659996  30.000000  57.616664             3\n",
       "627   23.880000 -37.380000 -16.320000  27.601389             1\n",
       "4030  51.840000 -91.500000  32.640000  59.747426             3\n",
       "2002  51.539997 -90.960000  30.359999  58.276761             2\n",
       "2370  52.860000 -92.159996  33.239998  60.948807             2\n",
       "2964  21.960000 -35.399998 -12.420000  23.784407             2\n",
       "3504  25.680000 -35.520000 -15.059999  28.552163             2\n",
       "1234  22.920000 -34.800000 -14.400000  25.750465             1\n",
       "1522  25.199999 -36.719997 -15.480000  28.306011             1\n",
       "3307  24.900000 -36.180000 -14.519999  27.540523             2\n",
       "989   21.420000 -35.940000 -12.719999  23.425089             1\n",
       "1733  19.980000 -36.059998 -12.719999  22.110603             1\n",
       "778   22.380000 -35.280000 -15.059999  25.634116             1\n",
       "4000  53.699997 -92.280000  33.360000  61.741552             3\n",
       "3771  51.360000 -90.659996  30.900000  58.406674             3\n",
       "2980  21.180000 -36.719997 -12.540000  23.073881             2\n",
       "4012  52.980000 -92.159996  34.680000  61.848708             3\n",
       "1391  24.420000 -35.940000 -14.340000  27.020215             1\n",
       "2694  22.740000 -35.579998 -14.639999  25.695859             2\n",
       "4230  22.740000 -37.140000 -15.900000  26.374942             3\n",
       "2828  21.060000 -36.059998 -12.660000  23.058170             2\n",
       "3417  25.320000 -37.140000 -14.340000  27.793129             2\n",
       "618   23.699999 -36.960000 -16.380000  27.496806             1\n",
       "2404  52.199997 -92.040000  33.300000  60.412328             2\n",
       "2500  24.660000 -37.980000 -16.619999  28.432023             2\n",
       "4698  22.020000 -33.960000 -14.460000  25.021032             3\n",
       "4193  23.220000 -36.360000 -16.619999  27.252022             3\n",
       "541   53.039997 -92.640000  33.420000  61.195240             1\n",
       "1471  25.019999 -36.420000 -15.120000  27.960234             1\n",
       "4125  52.980000 -92.820000  33.239998  61.042100             3\n",
       "2132  51.600000 -91.020000  31.679998  59.026622             2\n",
       "3280  23.580000 -33.899998 -14.340000  26.341072             2\n",
       "2431  52.440000 -91.920000  33.120000  60.523116             2\n",
       "4121  52.980000 -92.340000  33.239998  61.049962             3\n",
       "669   23.340000 -36.480000 -16.020000  26.989554             1\n",
       "3518  25.920000 -36.239998 -15.000000  28.711781             2\n",
       "4410  20.520000 -35.219997 -13.740000  23.225373             3\n",
       "738   23.939999 -36.719997 -15.960000  27.466437             1\n",
       "1659  24.779999 -35.640000 -14.880000  27.643855             1\n",
       "1044  22.619999 -35.160000 -12.059999  24.223705             1\n",
       "2393  53.399998 -91.860000  32.640000  61.099996             2\n",
       "4376  22.680000 -35.520000 -14.820000  25.748296             3\n",
       "4746  21.240000 -33.960000 -15.719999  25.106492             3\n",
       "4476  21.119999 -35.100000 -14.759999  24.366204             3\n",
       "1012  21.600000 -35.399998 -12.300000  23.389101             1"
      ]
     },
     "execution_count": 60,
     "metadata": {},
     "output_type": "execute_result"
    }
   ],
   "source": [
    "df_test.tail(50)"
   ]
  },
  {
   "cell_type": "code",
   "execution_count": 61,
   "metadata": {},
   "outputs": [
    {
     "name": "stderr",
     "output_type": "stream",
     "text": [
      "C:\\Users\\Anuj\\Anaconda3\\lib\\site-packages\\pandas\\core\\indexing.py:966: SettingWithCopyWarning: \n",
      "A value is trying to be set on a copy of a slice from a DataFrame.\n",
      "Try using .loc[row_indexer,col_indexer] = value instead\n",
      "\n",
      "See the caveats in the documentation: https://pandas.pydata.org/pandas-docs/stable/user_guide/indexing.html#returning-a-view-versus-a-copy\n",
      "  self.obj[item] = s\n",
      "C:\\Users\\Anuj\\Anaconda3\\lib\\site-packages\\pandas\\core\\indexing.py:966: SettingWithCopyWarning: \n",
      "A value is trying to be set on a copy of a slice from a DataFrame.\n",
      "Try using .loc[row_indexer,col_indexer] = value instead\n",
      "\n",
      "See the caveats in the documentation: https://pandas.pydata.org/pandas-docs/stable/user_guide/indexing.html#returning-a-view-versus-a-copy\n",
      "  self.obj[item] = s\n"
     ]
    }
   ],
   "source": [
    "scale_columns = ['X', 'Y', 'Z']\n",
    "scaler = RobustScaler()\n",
    "scaler = scaler.fit(df_train[scale_columns])\n",
    "\n",
    "df_train.loc[:, scale_columns] = scaler.transform(\n",
    "   df_train[scale_columns].to_numpy()\n",
    ")\n",
    "\n",
    "df_test.loc[:, scale_columns] = scaler.transform(\n",
    "    df_test[scale_columns].to_numpy()\n",
    ")"
   ]
  },
  {
   "cell_type": "code",
   "execution_count": 62,
   "metadata": {},
   "outputs": [],
   "source": [
    "def create_dataset(X, y, time_steps = 1, step = 1):\n",
    "    Xs, ys = [], []\n",
    "    for index in range(0, len(X) - time_steps, step):\n",
    "        v = X.iloc[index:(index + time_steps)].values\n",
    "        labels = y.iloc[index:index + time_steps]\n",
    "        Xs.append(v)\n",
    "        ys.append(stats.mode(labels)[0][0])\n",
    "    return np.array(Xs), np.array(ys).reshape(-1, 1)"
   ]
  },
  {
   "cell_type": "code",
   "execution_count": 63,
   "metadata": {},
   "outputs": [
    {
     "name": "stdout",
     "output_type": "stream",
     "text": [
      "(4447, 24, 3) (4447, 1)\n"
     ]
    }
   ],
   "source": [
    "TIME_STEPS = 24\n",
    "STEP = 1\n",
    "X_train, y_train = create_dataset(\n",
    "    df_train[['X', 'Y', 'Z']],\n",
    "    df_train.CoordinateID,\n",
    "    TIME_STEPS,\n",
    "    STEP\n",
    ")\n",
    "X_test, y_test = create_dataset(\n",
    "    df_test[['X', 'Y', 'Z']],\n",
    "    df_test.CoordinateID,\n",
    "    TIME_STEPS,\n",
    "    STEP\n",
    ")\n",
    "print(X_train.shape, y_train.shape)"
   ]
  },
  {
   "cell_type": "code",
   "execution_count": 64,
   "metadata": {},
   "outputs": [
    {
     "data": {
      "text/plain": [
       "(473, 3)"
      ]
     },
     "execution_count": 64,
     "metadata": {},
     "output_type": "execute_result"
    }
   ],
   "source": [
    "encoder = OneHotEncoder(handle_unknown = 'ignore', sparse = False)\n",
    "encoder = encoder.fit(y_train)\n",
    "y_train = encoder.transform(y_train)\n",
    "y_test = encoder.transform(y_test)\n",
    "y_test.shape"
   ]
  },
  {
   "cell_type": "code",
   "execution_count": 90,
   "metadata": {},
   "outputs": [
    {
     "name": "stdout",
     "output_type": "stream",
     "text": [
      "(4447, 24, 3) (4447, 3) (473, 24, 3) (473, 3)\n"
     ]
    }
   ],
   "source": [
    "print(X_train.shape, y_train.shape, X_test.shape, y_test.shape)"
   ]
  },
  {
   "cell_type": "code",
   "execution_count": 36,
   "metadata": {},
   "outputs": [
    {
     "data": {
      "text/plain": [
       "dtype('float64')"
      ]
     },
     "execution_count": 36,
     "metadata": {},
     "output_type": "execute_result"
    }
   ],
   "source": [
    "y_train.dtype"
   ]
  },
  {
   "cell_type": "markdown",
   "metadata": {},
   "source": [
    "Model"
   ]
  },
  {
   "cell_type": "code",
   "execution_count": 65,
   "metadata": {},
   "outputs": [],
   "source": [
    "model = keras.Sequential()\n",
    "model.add(\n",
    "    keras.layers.Bidirectional(\n",
    "    keras.layers.LSTM(\n",
    "    units = 128,\n",
    "    input_shape = [X_train.shape[1], X_train.shape[2]]\n",
    "    )\n",
    ")\n",
    ")\n",
    "model.add(keras.layers.Dropout(rate = 0.2))\n",
    "model.add(keras.layers.Dense(units = 128, activation = 'relu'))\n",
    "model.add(keras.layers.Dense(y_train.shape[1], activation = 'softmax'))\n",
    "model.compile(\n",
    "loss = 'categorical_crossentropy',\n",
    "optimizer = 'adam',\n",
    "metrics = ['acc']\n",
    ")"
   ]
  },
  {
   "cell_type": "code",
   "execution_count": 53,
   "metadata": {
    "scrolled": true
   },
   "outputs": [
    {
     "name": "stdout",
     "output_type": "stream",
     "text": [
      "Train on 4002 samples, validate on 445 samples\n",
      "Epoch 1/20\n",
      "4002/4002 [==============================] - 16s 4ms/step - loss: 0.4820 - acc: 0.7914 - val_loss: 3.5928 - val_acc: 0.2876\n",
      "Epoch 2/20\n",
      "4002/4002 [==============================] - 14s 3ms/step - loss: 0.6476 - acc: 0.8761 - val_loss: 0.0064 - val_acc: 1.0000\n",
      "Epoch 3/20\n",
      "4002/4002 [==============================] - 13s 3ms/step - loss: 0.5786 - acc: 0.8506 - val_loss: 0.0114 - val_acc: 1.0000\n",
      "Epoch 4/20\n",
      "4002/4002 [==============================] - 13s 3ms/step - loss: 0.4967 - acc: 0.8616 - val_loss: 4.5451e-05 - val_acc: 1.0000\n",
      "Epoch 5/20\n",
      "4002/4002 [==============================] - 13s 3ms/step - loss: 0.5832 - acc: 0.8183 - val_loss: 0.8315 - val_acc: 1.0000\n",
      "Epoch 6/20\n",
      "4002/4002 [==============================] - 13s 3ms/step - loss: 0.5404 - acc: 0.7911 - val_loss: 2.8560 - val_acc: 0.0000e+00\n",
      "Epoch 7/20\n",
      "4002/4002 [==============================] - 14s 3ms/step - loss: 0.5096 - acc: 0.8501 - val_loss: 0.1240 - val_acc: 1.0000\n",
      "Epoch 8/20\n",
      "4002/4002 [==============================] - 15s 4ms/step - loss: 0.6569 - acc: 0.6622 - val_loss: 4.4647 - val_acc: 0.0000e+00\n",
      "Epoch 9/20\n",
      "4002/4002 [==============================] - 16s 4ms/step - loss: 0.6804 - acc: 0.6637 - val_loss: 3.5155 - val_acc: 0.2472\n",
      "Epoch 10/20\n",
      "4002/4002 [==============================] - 18s 5ms/step - loss: 0.6802 - acc: 0.6997 - val_loss: 2.7102 - val_acc: 0.0000e+00\n",
      "Epoch 11/20\n",
      "4002/4002 [==============================] - 16s 4ms/step - loss: 0.6367 - acc: 0.6967 - val_loss: 5.1697 - val_acc: 0.2629\n",
      "Epoch 12/20\n",
      "4002/4002 [==============================] - 14s 3ms/step - loss: 0.5268 - acc: 0.7989 - val_loss: 2.6893 - val_acc: 0.0000e+00\n",
      "Epoch 13/20\n",
      "4002/4002 [==============================] - 12s 3ms/step - loss: 0.6234 - acc: 0.6317 - val_loss: 2.2104 - val_acc: 0.2404\n",
      "Epoch 14/20\n",
      "4002/4002 [==============================] - 12s 3ms/step - loss: 0.5811 - acc: 0.7334 - val_loss: 2.9471 - val_acc: 0.2831\n",
      "Epoch 15/20\n",
      "4002/4002 [==============================] - 13s 3ms/step - loss: 0.5690 - acc: 0.8108 - val_loss: 1.8658 - val_acc: 0.2404\n",
      "Epoch 16/20\n",
      "4002/4002 [==============================] - 12s 3ms/step - loss: 0.6066 - acc: 0.6652 - val_loss: 4.2627 - val_acc: 0.0000e+00\n",
      "Epoch 17/20\n",
      "4002/4002 [==============================] - 12s 3ms/step - loss: 0.6234 - acc: 0.5905 - val_loss: 2.1572 - val_acc: 0.2382\n",
      "Epoch 18/20\n",
      "4002/4002 [==============================] - 12s 3ms/step - loss: 0.7338 - acc: 0.5882 - val_loss: 4.1084 - val_acc: 0.2427\n",
      "Epoch 19/20\n",
      "4002/4002 [==============================] - 12s 3ms/step - loss: 0.7490 - acc: 0.6302 - val_loss: 4.2320 - val_acc: 0.0000e+00\n",
      "Epoch 20/20\n",
      "4002/4002 [==============================] - 12s 3ms/step - loss: 0.8340 - acc: 0.4693 - val_loss: 4.6410 - val_acc: 0.2427\n"
     ]
    }
   ],
   "source": [
    "history = model.fit(\n",
    "    X_train, y_train,\n",
    "    epochs=20,\n",
    "    batch_size=10,\n",
    "    validation_split=0.1,\n",
    "    shuffle=False\n",
    ")"
   ]
  },
  {
   "cell_type": "code",
   "execution_count": 66,
   "metadata": {},
   "outputs": [
    {
     "name": "stdout",
     "output_type": "stream",
     "text": [
      "Train on 4002 samples, validate on 445 samples\n",
      "Epoch 1/20\n",
      "4002/4002 [==============================] - 16s 4ms/step - loss: 0.9959 - acc: 0.5842 - val_loss: 0.9426 - val_acc: 0.5865\n",
      "Epoch 2/20\n",
      "4002/4002 [==============================] - 13s 3ms/step - loss: 0.9662 - acc: 0.5855 - val_loss: 0.9248 - val_acc: 0.5865\n",
      "Epoch 3/20\n",
      "4002/4002 [==============================] - 12s 3ms/step - loss: 0.9563 - acc: 0.5855 - val_loss: 0.9163 - val_acc: 0.5865\n",
      "Epoch 4/20\n",
      "4002/4002 [==============================] - 13s 3ms/step - loss: 0.9519 - acc: 0.5855 - val_loss: 0.9122 - val_acc: 0.5865\n",
      "Epoch 5/20\n",
      "4002/4002 [==============================] - 14s 3ms/step - loss: 0.9488 - acc: 0.5855 - val_loss: 0.9100 - val_acc: 0.5865\n",
      "Epoch 6/20\n",
      "4002/4002 [==============================] - 12s 3ms/step - loss: 0.9484 - acc: 0.5855 - val_loss: 0.9097 - val_acc: 0.5865\n",
      "Epoch 7/20\n",
      "4002/4002 [==============================] - 12s 3ms/step - loss: 0.9470 - acc: 0.5850 - val_loss: 0.9093 - val_acc: 0.5865\n",
      "Epoch 8/20\n",
      "4002/4002 [==============================] - 12s 3ms/step - loss: 0.9455 - acc: 0.5855 - val_loss: 0.9089 - val_acc: 0.5865\n",
      "Epoch 9/20\n",
      "4002/4002 [==============================] - 12s 3ms/step - loss: 0.9461 - acc: 0.5852 - val_loss: 0.9091 - val_acc: 0.5865\n",
      "Epoch 10/20\n",
      "4002/4002 [==============================] - 13s 3ms/step - loss: 0.9439 - acc: 0.5852 - val_loss: 0.9088 - val_acc: 0.5865 loss: 0.9\n",
      "Epoch 11/20\n",
      "4002/4002 [==============================] - 14s 4ms/step - loss: 0.9437 - acc: 0.5852 - val_loss: 0.9083 - val_acc: 0.5865\n",
      "Epoch 12/20\n",
      "4002/4002 [==============================] - 14s 4ms/step - loss: 0.9440 - acc: 0.5852 - val_loss: 0.9096 - val_acc: 0.5865\n",
      "Epoch 13/20\n",
      "4002/4002 [==============================] - 16s 4ms/step - loss: 0.9421 - acc: 0.5847 - val_loss: 0.9096 - val_acc: 0.5865\n",
      "Epoch 14/20\n",
      "4002/4002 [==============================] - 15s 4ms/step - loss: 0.9421 - acc: 0.5837 - val_loss: 0.9097 - val_acc: 0.5865\n",
      "Epoch 15/20\n",
      "4002/4002 [==============================] - 13s 3ms/step - loss: 0.9401 - acc: 0.5840 - val_loss: 0.9094 - val_acc: 0.5865\n",
      "Epoch 16/20\n",
      "4002/4002 [==============================] - 15s 4ms/step - loss: 0.9394 - acc: 0.5832 - val_loss: 0.9104 - val_acc: 0.5820\n",
      "Epoch 17/20\n",
      "4002/4002 [==============================] - 15s 4ms/step - loss: 0.9378 - acc: 0.5827 - val_loss: 0.9105 - val_acc: 0.5798\n",
      "Epoch 18/20\n",
      "4002/4002 [==============================] - 15s 4ms/step - loss: 0.9362 - acc: 0.5830 - val_loss: 0.9087 - val_acc: 0.5798\n",
      "Epoch 19/20\n",
      "4002/4002 [==============================] - 14s 3ms/step - loss: 0.9363 - acc: 0.5820 - val_loss: 0.9119 - val_acc: 0.5775\n",
      "Epoch 20/20\n",
      "4002/4002 [==============================] - 15s 4ms/step - loss: 0.9365 - acc: 0.5835 - val_loss: 0.9053 - val_acc: 0.5730\n"
     ]
    }
   ],
   "source": [
    "history1 = model.fit(\n",
    "    X_train, y_train,\n",
    "    epochs=20,\n",
    "    batch_size=32,\n",
    "    validation_split=0.1,\n",
    "    shuffle=False\n",
    ")"
   ]
  },
  {
   "cell_type": "code",
   "execution_count": 68,
   "metadata": {},
   "outputs": [
    {
     "name": "stdout",
     "output_type": "stream",
     "text": [
      "Train on 4002 samples, validate on 445 samples\n",
      "Epoch 1/20\n",
      "4002/4002 [==============================] - 8s 2ms/step - loss: 0.9142 - acc: 0.5875 - val_loss: 0.8992 - val_acc: 0.5843\n",
      "Epoch 2/20\n",
      "4002/4002 [==============================] - 5s 1ms/step - loss: 0.9078 - acc: 0.5872 - val_loss: 0.9003 - val_acc: 0.5865\n",
      "Epoch 3/20\n",
      "4002/4002 [==============================] - 5s 1ms/step - loss: 0.9097 - acc: 0.5855 - val_loss: 0.9107 - val_acc: 0.5865\n",
      "Epoch 4/20\n",
      "4002/4002 [==============================] - 5s 1ms/step - loss: 0.9050 - acc: 0.5875 - val_loss: 0.9118 - val_acc: 0.5685\n",
      "Epoch 5/20\n",
      "4002/4002 [==============================] - 6s 1ms/step - loss: 0.9015 - acc: 0.5875 - val_loss: 0.9106 - val_acc: 0.5910\n",
      "Epoch 6/20\n",
      "4002/4002 [==============================] - 5s 1ms/step - loss: 0.8963 - acc: 0.5905 - val_loss: 0.9050 - val_acc: 0.5865\n",
      "Epoch 7/20\n",
      "4002/4002 [==============================] - 5s 1ms/step - loss: 0.8907 - acc: 0.5872 - val_loss: 0.9443 - val_acc: 0.5820\n",
      "Epoch 8/20\n",
      "4002/4002 [==============================] - 5s 1ms/step - loss: 0.8932 - acc: 0.5845 - val_loss: 0.9346 - val_acc: 0.5753\n",
      "Epoch 9/20\n",
      "4002/4002 [==============================] - 5s 1ms/step - loss: 0.8838 - acc: 0.5877 - val_loss: 0.9705 - val_acc: 0.5820\n",
      "Epoch 10/20\n",
      "4002/4002 [==============================] - 6s 1ms/step - loss: 0.8797 - acc: 0.5870 - val_loss: 0.9528 - val_acc: 0.5551\n",
      "Epoch 11/20\n",
      "4002/4002 [==============================] - 5s 1ms/step - loss: 0.8737 - acc: 0.5930 - val_loss: 0.9425 - val_acc: 0.5146\n",
      "Epoch 12/20\n",
      "4002/4002 [==============================] - 6s 1ms/step - loss: 0.8672 - acc: 0.5882 - val_loss: 0.9698 - val_acc: 0.5461\n",
      "Epoch 13/20\n",
      "4002/4002 [==============================] - 5s 1ms/step - loss: 0.8577 - acc: 0.5942 - val_loss: 0.9955 - val_acc: 0.5303\n",
      "Epoch 14/20\n",
      "4002/4002 [==============================] - 5s 1ms/step - loss: 0.8497 - acc: 0.5965 - val_loss: 0.9720 - val_acc: 0.5303\n",
      "Epoch 15/20\n",
      "4002/4002 [==============================] - 6s 1ms/step - loss: 0.8429 - acc: 0.6002 - val_loss: 1.0267 - val_acc: 0.5236\n",
      "Epoch 16/20\n",
      "4002/4002 [==============================] - 6s 2ms/step - loss: 0.8353 - acc: 0.5997 - val_loss: 1.0142 - val_acc: 0.5551\n",
      "Epoch 17/20\n",
      "4002/4002 [==============================] - 6s 1ms/step - loss: 0.8236 - acc: 0.6062 - val_loss: 1.0176 - val_acc: 0.5326\n",
      "Epoch 18/20\n",
      "4002/4002 [==============================] - 6s 1ms/step - loss: 0.8021 - acc: 0.6177 - val_loss: 1.0739 - val_acc: 0.5101\n",
      "Epoch 19/20\n",
      "4002/4002 [==============================] - 11s 3ms/step - loss: 0.7847 - acc: 0.6259 - val_loss: 1.0518 - val_acc: 0.5034\n",
      "Epoch 20/20\n",
      "4002/4002 [==============================] - 10s 3ms/step - loss: 0.7752 - acc: 0.6339 - val_loss: 1.0100 - val_acc: 0.5146\n"
     ]
    }
   ],
   "source": [
    "history1 = model.fit(\n",
    "    X_train, y_train,\n",
    "    epochs=20,\n",
    "    batch_size=32,\n",
    "    validation_split=0.1,\n",
    "    shuffle=True\n",
    ")"
   ]
  },
  {
   "cell_type": "code",
   "execution_count": 72,
   "metadata": {},
   "outputs": [
    {
     "name": "stdout",
     "output_type": "stream",
     "text": [
      "Train on 4002 samples, validate on 445 samples\n",
      "Epoch 1/30\n",
      "4002/4002 [==============================] - 7s 2ms/step - loss: 0.7355 - acc: 0.6544 - val_loss: 1.0718 - val_acc: 0.4989\n",
      "Epoch 2/30\n",
      "4002/4002 [==============================] - 4s 1ms/step - loss: 0.7054 - acc: 0.6659 - val_loss: 1.2152 - val_acc: 0.4697\n",
      "Epoch 3/30\n",
      "4002/4002 [==============================] - 4s 1ms/step - loss: 0.6817 - acc: 0.6824 - val_loss: 1.1766 - val_acc: 0.5034\n",
      "Epoch 4/30\n",
      "4002/4002 [==============================] - 4s 1ms/step - loss: 0.6945 - acc: 0.6789 - val_loss: 1.1603 - val_acc: 0.5101\n",
      "Epoch 5/30\n",
      "4002/4002 [==============================] - 4s 1ms/step - loss: 0.6584 - acc: 0.6999 - val_loss: 1.2000 - val_acc: 0.5101\n",
      "Epoch 6/30\n",
      "4002/4002 [==============================] - 4s 1ms/step - loss: 0.6566 - acc: 0.7021 - val_loss: 1.1840 - val_acc: 0.4809\n",
      "Epoch 7/30\n",
      "4002/4002 [==============================] - 4s 1ms/step - loss: 0.6255 - acc: 0.7171 - val_loss: 1.3171 - val_acc: 0.4742\n",
      "Epoch 8/30\n",
      "4002/4002 [==============================] - 4s 1ms/step - loss: 0.5959 - acc: 0.7351 - val_loss: 1.3952 - val_acc: 0.5146\n",
      "Epoch 9/30\n",
      "4002/4002 [==============================] - 4s 1ms/step - loss: 0.5850 - acc: 0.7411 - val_loss: 1.3902 - val_acc: 0.4674\n",
      "Epoch 10/30\n",
      "4002/4002 [==============================] - 4s 1ms/step - loss: 0.5761 - acc: 0.7489 - val_loss: 1.5091 - val_acc: 0.5101\n",
      "Epoch 11/30\n",
      "4002/4002 [==============================] - 4s 1ms/step - loss: 0.5295 - acc: 0.7699 - val_loss: 1.5589 - val_acc: 0.4876\n",
      "Epoch 12/30\n",
      "4002/4002 [==============================] - 4s 1ms/step - loss: 0.5175 - acc: 0.7711 - val_loss: 1.5544 - val_acc: 0.4921\n",
      "Epoch 13/30\n",
      "4002/4002 [==============================] - 4s 1ms/step - loss: 0.4909 - acc: 0.7826 - val_loss: 1.6657 - val_acc: 0.5056\n",
      "Epoch 14/30\n",
      "4002/4002 [==============================] - 4s 1ms/step - loss: 0.4515 - acc: 0.8038 - val_loss: 1.7165 - val_acc: 0.4494\n",
      "Epoch 15/30\n",
      "4002/4002 [==============================] - 4s 1ms/step - loss: 0.4579 - acc: 0.8006 - val_loss: 1.7852 - val_acc: 0.4944\n",
      "Epoch 16/30\n",
      "4002/4002 [==============================] - 4s 1ms/step - loss: 0.4278 - acc: 0.8161 - val_loss: 1.7650 - val_acc: 0.4989\n",
      "Epoch 17/30\n",
      "4002/4002 [==============================] - 4s 1ms/step - loss: 0.4208 - acc: 0.8196 - val_loss: 1.7479 - val_acc: 0.5034\n",
      "Epoch 18/30\n",
      "4002/4002 [==============================] - 4s 1ms/step - loss: 0.3768 - acc: 0.8441 - val_loss: 1.8287 - val_acc: 0.5303\n",
      "Epoch 19/30\n",
      "4002/4002 [==============================] - 4s 1ms/step - loss: 0.3647 - acc: 0.8523 - val_loss: 1.9697 - val_acc: 0.4719\n",
      "Epoch 20/30\n",
      "4002/4002 [==============================] - 4s 1ms/step - loss: 0.3475 - acc: 0.8563 - val_loss: 1.8566 - val_acc: 0.4697\n",
      "Epoch 21/30\n",
      "4002/4002 [==============================] - 5s 1ms/step - loss: 0.3262 - acc: 0.8648 - val_loss: 2.0339 - val_acc: 0.5011\n",
      "Epoch 22/30\n",
      "4002/4002 [==============================] - 5s 1ms/step - loss: 0.3181 - acc: 0.8741 - val_loss: 2.1071 - val_acc: 0.4876\n",
      "Epoch 23/30\n",
      "4002/4002 [==============================] - 5s 1ms/step - loss: 0.2940 - acc: 0.8801 - val_loss: 1.9778 - val_acc: 0.4674\n",
      "Epoch 24/30\n",
      "4002/4002 [==============================] - 4s 1ms/step - loss: 0.2977 - acc: 0.8813 - val_loss: 2.0548 - val_acc: 0.4966\n",
      "Epoch 25/30\n",
      "4002/4002 [==============================] - 5s 1ms/step - loss: 0.2818 - acc: 0.8856 - val_loss: 2.2456 - val_acc: 0.5079\n",
      "Epoch 26/30\n",
      "4002/4002 [==============================] - 4s 1ms/step - loss: 0.2377 - acc: 0.9025 - val_loss: 2.3084 - val_acc: 0.4899\n",
      "Epoch 27/30\n",
      "4002/4002 [==============================] - 4s 1ms/step - loss: 0.2288 - acc: 0.9078 - val_loss: 2.5150 - val_acc: 0.4742\n",
      "Epoch 28/30\n",
      "4002/4002 [==============================] - 4s 1ms/step - loss: 0.2179 - acc: 0.9150 - val_loss: 2.5290 - val_acc: 0.4989\n",
      "Epoch 29/30\n",
      "4002/4002 [==============================] - 4s 1ms/step - loss: 0.2155 - acc: 0.9160 - val_loss: 2.5155 - val_acc: 0.5169\n",
      "Epoch 30/30\n",
      "4002/4002 [==============================] - 4s 1ms/step - loss: 0.1941 - acc: 0.9263 - val_loss: 2.4731 - val_acc: 0.4921\n"
     ]
    }
   ],
   "source": [
    "history1 = model.fit(\n",
    "    X_train, y_train,\n",
    "    epochs=30,\n",
    "    batch_size=60,\n",
    "    validation_split=0.1,\n",
    "    shuffle=True\n",
    ")"
   ]
  },
  {
   "cell_type": "code",
   "execution_count": 69,
   "metadata": {},
   "outputs": [
    {
     "name": "stdout",
     "output_type": "stream",
     "text": [
      "473/473 [==============================] - 1s 2ms/step\n"
     ]
    },
    {
     "data": {
      "text/plain": [
       "[1.2646524893557043, 0.47991544008255005]"
      ]
     },
     "execution_count": 69,
     "metadata": {},
     "output_type": "execute_result"
    }
   ],
   "source": [
    "model.evaluate(X_test, y_test)"
   ]
  },
  {
   "cell_type": "code",
   "execution_count": 76,
   "metadata": {},
   "outputs": [
    {
     "name": "stdout",
     "output_type": "stream",
     "text": [
      "Epoch 1/30\n",
      "4447/4447 [==============================] - 7s 2ms/step - loss: 0.5595 - acc: 0.8055\n",
      "Epoch 2/30\n",
      "4447/4447 [==============================] - 5s 1ms/step - loss: 0.7477 - acc: 0.6778A: 1s - loss: 0.7721 - acc - ETA: 1s - loss:\n",
      "Epoch 3/30\n",
      "4447/4447 [==============================] - 5s 1ms/step - loss: 0.5222 - acc: 0.7886A: - ETA: 0s - loss: 0.4556 - ac\n",
      "Epoch 4/30\n",
      "4447/4447 [==============================] - 5s 1ms/step - loss: 0.4050 - acc: 0.8417\n",
      "Epoch 5/30\n",
      "4447/4447 [==============================] - 5s 1ms/step - loss: 0.3346 - acc: 0.8754A: 0s - loss: 0.3183 - acc: 0.\n",
      "Epoch 6/30\n",
      "4447/4447 [==============================] - 5s 1ms/step - loss: 0.2840 - acc: 0.8939\n",
      "Epoch 7/30\n",
      "4447/4447 [==============================] - 5s 1ms/step - loss: 0.2689 - acc: 0.8966A: 1s - loss: 0.\n",
      "Epoch 8/30\n",
      "4447/4447 [==============================] - 5s 1ms/step - loss: 0.2503 - acc: 0.9049\n",
      "Epoch 9/30\n",
      "4447/4447 [==============================] - 5s 1ms/step - loss: 0.2828 - acc: 0.8898\n",
      "Epoch 10/30\n",
      "4447/4447 [==============================] - 5s 1ms/step - loss: 0.2629 - acc: 0.8993\n",
      "Epoch 11/30\n",
      "4447/4447 [==============================] - 5s 1ms/step - loss: 0.2287 - acc: 0.9130\n",
      "Epoch 12/30\n",
      "4447/4447 [==============================] - 5s 1ms/step - loss: 0.2149 - acc: 0.9202\n",
      "Epoch 13/30\n",
      "4447/4447 [==============================] - 5s 1ms/step - loss: 0.2006 - acc: 0.9226\n",
      "Epoch 14/30\n",
      "4447/4447 [==============================] - 5s 1ms/step - loss: 0.1753 - acc: 0.9337\n",
      "Epoch 15/30\n",
      "4447/4447 [==============================] - 5s 1ms/step - loss: 0.1812 - acc: 0.9359\n",
      "Epoch 16/30\n",
      "4447/4447 [==============================] - 5s 1ms/step - loss: 0.2021 - acc: 0.9242\n",
      "Epoch 17/30\n",
      "4447/4447 [==============================] - 5s 1ms/step - loss: 0.1966 - acc: 0.9190\n",
      "Epoch 18/30\n",
      "4447/4447 [==============================] - 5s 1ms/step - loss: 0.1596 - acc: 0.9411\n",
      "Epoch 19/30\n",
      "4447/4447 [==============================] - 5s 1ms/step - loss: 0.1644 - acc: 0.9377\n",
      "Epoch 20/30\n",
      "4447/4447 [==============================] - 5s 1ms/step - loss: 0.1446 - acc: 0.9460\n",
      "Epoch 21/30\n",
      "4447/4447 [==============================] - 5s 1ms/step - loss: 0.1287 - acc: 0.9535A: \n",
      "Epoch 22/30\n",
      "4447/4447 [==============================] - 5s 1ms/step - loss: 0.1230 - acc: 0.9566\n",
      "Epoch 23/30\n",
      "4447/4447 [==============================] - 5s 1ms/step - loss: 0.1184 - acc: 0.9566A: 0s - loss: 0.1185 - acc: 0.95\n",
      "Epoch 24/30\n",
      "4447/4447 [==============================] - 5s 1ms/step - loss: 0.1130 - acc: 0.9620\n",
      "Epoch 25/30\n",
      "4447/4447 [==============================] - 5s 1ms/step - loss: 0.1215 - acc: 0.9579A: 0s - loss: 0.1210 - acc: 0.95\n",
      "Epoch 26/30\n",
      "4447/4447 [==============================] - 5s 1ms/step - loss: 0.1431 - acc: 0.9454\n",
      "Epoch 27/30\n",
      "4447/4447 [==============================] - 5s 1ms/step - loss: 0.1622 - acc: 0.9427\n",
      "Epoch 28/30\n",
      "4447/4447 [==============================] - 5s 1ms/step - loss: 0.1421 - acc: 0.9463\n",
      "Epoch 29/30\n",
      "4447/4447 [==============================] - 5s 1ms/step - loss: 0.0980 - acc: 0.9642\n",
      "Epoch 30/30\n",
      "4447/4447 [==============================] - 5s 1ms/step - loss: 0.0924 - acc: 0.9660\n"
     ]
    }
   ],
   "source": [
    "history3 = model.fit(\n",
    "    X_train, y_train,\n",
    "    epochs=30,\n",
    "    batch_size=60,\n",
    "    shuffle=False\n",
    ")"
   ]
  },
  {
   "cell_type": "code",
   "execution_count": 81,
   "metadata": {},
   "outputs": [
    {
     "name": "stdout",
     "output_type": "stream",
     "text": [
      "Train on 4002 samples, validate on 445 samples\n",
      "Epoch 1/35\n",
      "4002/4002 [==============================] - 6s 2ms/step - loss: 0.0694 - acc: 0.9778 - val_loss: 0.0926 - val_acc: 0.9730\n",
      "Epoch 2/35\n",
      "4002/4002 [==============================] - 3s 846us/step - loss: 0.1302 - acc: 0.9573 - val_loss: 0.1221 - val_acc: 0.9640\n",
      "Epoch 3/35\n",
      "4002/4002 [==============================] - 4s 875us/step - loss: 0.0914 - acc: 0.9698 - val_loss: 0.1062 - val_acc: 0.9596\n",
      "Epoch 4/35\n",
      "4002/4002 [==============================] - 3s 842us/step - loss: 0.0655 - acc: 0.9813 - val_loss: 0.1210 - val_acc: 0.9438\n",
      "Epoch 5/35\n",
      "4002/4002 [==============================] - 3s 834us/step - loss: 0.0598 - acc: 0.9808 - val_loss: 0.1090 - val_acc: 0.9640\n",
      "Epoch 6/35\n",
      "4002/4002 [==============================] - 3s 833us/step - loss: 0.0550 - acc: 0.9823 - val_loss: 0.1400 - val_acc: 0.9506\n",
      "Epoch 7/35\n",
      "4002/4002 [==============================] - 3s 846us/step - loss: 0.0551 - acc: 0.9810 - val_loss: 0.1268 - val_acc: 0.9506\n",
      "Epoch 8/35\n",
      "4002/4002 [==============================] - 3s 848us/step - loss: 0.0502 - acc: 0.9860 - val_loss: 0.1058 - val_acc: 0.9596\n",
      "Epoch 9/35\n",
      "4002/4002 [==============================] - 3s 842us/step - loss: 0.0403 - acc: 0.9893 - val_loss: 0.1203 - val_acc: 0.9528\n",
      "Epoch 10/35\n",
      "4002/4002 [==============================] - 4s 889us/step - loss: 0.0301 - acc: 0.9935 - val_loss: 0.1102 - val_acc: 0.9663\n",
      "Epoch 11/35\n",
      "4002/4002 [==============================] - 3s 862us/step - loss: 0.0278 - acc: 0.9948 - val_loss: 0.1128 - val_acc: 0.9506\n",
      "Epoch 12/35\n",
      "4002/4002 [==============================] - 3s 842us/step - loss: 0.0283 - acc: 0.9920 - val_loss: 0.1261 - val_acc: 0.9528\n",
      "Epoch 13/35\n",
      "4002/4002 [==============================] - 3s 863us/step - loss: 0.0217 - acc: 0.9958 - val_loss: 0.1256 - val_acc: 0.9483\n",
      "Epoch 14/35\n",
      "4002/4002 [==============================] - 4s 971us/step - loss: 0.0244 - acc: 0.9945 - val_loss: 0.1420 - val_acc: 0.9461\n",
      "Epoch 15/35\n",
      "4002/4002 [==============================] - 4s 900us/step - loss: 0.0266 - acc: 0.9940 - val_loss: 0.1438 - val_acc: 0.9461\n",
      "Epoch 16/35\n",
      "4002/4002 [==============================] - 4s 953us/step - loss: 0.0303 - acc: 0.9915 - val_loss: 0.1360 - val_acc: 0.9483\n",
      "Epoch 17/35\n",
      "4002/4002 [==============================] - 3s 845us/step - loss: 0.0372 - acc: 0.9898 - val_loss: 0.1984 - val_acc: 0.9371\n",
      "Epoch 18/35\n",
      "4002/4002 [==============================] - 3s 854us/step - loss: 0.0498 - acc: 0.9863 - val_loss: 0.2367 - val_acc: 0.9169\n",
      "Epoch 19/35\n",
      "4002/4002 [==============================] - 4s 920us/step - loss: 0.0723 - acc: 0.9753 - val_loss: 0.2696 - val_acc: 0.8989\n",
      "Epoch 20/35\n",
      "4002/4002 [==============================] - 4s 887us/step - loss: 0.0554 - acc: 0.9798 - val_loss: 0.2112 - val_acc: 0.9348\n",
      "Epoch 21/35\n",
      "4002/4002 [==============================] - 4s 942us/step - loss: 0.0430 - acc: 0.9840 - val_loss: 0.2121 - val_acc: 0.9213\n",
      "Epoch 22/35\n",
      "4002/4002 [==============================] - 3s 874us/step - loss: 0.0312 - acc: 0.9908 - val_loss: 0.2079 - val_acc: 0.9303\n",
      "Epoch 23/35\n",
      "4002/4002 [==============================] - 3s 853us/step - loss: 0.0348 - acc: 0.9905 - val_loss: 0.2246 - val_acc: 0.9191\n",
      "Epoch 24/35\n",
      "4002/4002 [==============================] - 3s 853us/step - loss: 0.0299 - acc: 0.9913 - val_loss: 0.2619 - val_acc: 0.9011\n",
      "Epoch 25/35\n",
      "4002/4002 [==============================] - 4s 884us/step - loss: 0.0256 - acc: 0.9930 - val_loss: 0.2058 - val_acc: 0.9146\n",
      "Epoch 26/35\n",
      "4002/4002 [==============================] - 3s 855us/step - loss: 0.0315 - acc: 0.9910 - val_loss: 0.2658 - val_acc: 0.9101\n",
      "Epoch 27/35\n",
      "4002/4002 [==============================] - 3s 871us/step - loss: 0.0294 - acc: 0.9913 - val_loss: 0.2843 - val_acc: 0.9124\n",
      "Epoch 28/35\n",
      "4002/4002 [==============================] - 3s 853us/step - loss: 0.0411 - acc: 0.9873 - val_loss: 0.3231 - val_acc: 0.9011\n",
      "Epoch 29/35\n",
      "4002/4002 [==============================] - 3s 848us/step - loss: 0.0556 - acc: 0.9843 - val_loss: 0.3793 - val_acc: 0.8831\n",
      "Epoch 30/35\n",
      "4002/4002 [==============================] - 3s 855us/step - loss: 0.0397 - acc: 0.9868 - val_loss: 0.4019 - val_acc: 0.8652\n",
      "Epoch 31/35\n",
      "4002/4002 [==============================] - 4s 894us/step - loss: 0.0261 - acc: 0.9930 - val_loss: 0.3335 - val_acc: 0.8854\n",
      "Epoch 32/35\n",
      "4002/4002 [==============================] - 4s 964us/step - loss: 0.0237 - acc: 0.9933 - val_loss: 0.3293 - val_acc: 0.9011\n",
      "Epoch 33/35\n",
      "4002/4002 [==============================] - 4s 985us/step - loss: 0.0205 - acc: 0.9943 - val_loss: 0.3884 - val_acc: 0.8742\n",
      "Epoch 34/35\n",
      "4002/4002 [==============================] - 3s 856us/step - loss: 0.0224 - acc: 0.9943 - val_loss: 0.3075 - val_acc: 0.8966\n",
      "Epoch 35/35\n",
      "4002/4002 [==============================] - 3s 858us/step - loss: 0.0216 - acc: 0.9948 - val_loss: 0.3026 - val_acc: 0.9056\n"
     ]
    }
   ],
   "source": [
    "history3 = model.fit(\n",
    "    X_train, y_train,\n",
    "    epochs=35,\n",
    "    batch_size=100,\n",
    "    validation_split = 0.1,\n",
    "    shuffle=False\n",
    ")"
   ]
  },
  {
   "cell_type": "code",
   "execution_count": 91,
   "metadata": {
    "scrolled": true
   },
   "outputs": [
    {
     "name": "stdout",
     "output_type": "stream",
     "text": [
      "Train on 4002 samples, validate on 445 samples\n",
      "Epoch 1/20\n",
      "4002/4002 [==============================] - 6s 2ms/step - loss: 0.0230 - acc: 0.9935 - val_loss: 0.3932 - val_acc: 0.8831\n",
      "Epoch 2/20\n",
      "4002/4002 [==============================] - 3s 859us/step - loss: 0.0235 - acc: 0.9928 - val_loss: 0.3335 - val_acc: 0.9011\n",
      "Epoch 3/20\n",
      "4002/4002 [==============================] - 3s 854us/step - loss: 0.0283 - acc: 0.9913 - val_loss: 0.3636 - val_acc: 0.8899\n",
      "Epoch 4/20\n",
      "4002/4002 [==============================] - 4s 884us/step - loss: 0.0170 - acc: 0.9953 - val_loss: 0.3246 - val_acc: 0.8966\n",
      "Epoch 5/20\n",
      "4002/4002 [==============================] - 4s 934us/step - loss: 0.0657 - acc: 0.9845 - val_loss: 0.4559 - val_acc: 0.8742\n",
      "Epoch 6/20\n",
      "4002/4002 [==============================] - 3s 852us/step - loss: 0.0778 - acc: 0.9733 - val_loss: 0.4144 - val_acc: 0.8764\n",
      "Epoch 7/20\n",
      "4002/4002 [==============================] - 3s 852us/step - loss: 0.0606 - acc: 0.9793 - val_loss: 0.5330 - val_acc: 0.8449\n",
      "Epoch 8/20\n",
      "4002/4002 [==============================] - 4s 880us/step - loss: 0.0578 - acc: 0.9838 - val_loss: 0.4491 - val_acc: 0.8494\n",
      "Epoch 9/20\n",
      "4002/4002 [==============================] - 3s 860us/step - loss: 0.0483 - acc: 0.9850 - val_loss: 0.4761 - val_acc: 0.8652\n",
      "Epoch 10/20\n",
      "4002/4002 [==============================] - 3s 866us/step - loss: 0.0854 - acc: 0.9708 - val_loss: 0.5293 - val_acc: 0.8270\n",
      "Epoch 11/20\n",
      "4002/4002 [==============================] - 3s 855us/step - loss: 0.1052 - acc: 0.9643 - val_loss: 0.5425 - val_acc: 0.8202\n",
      "Epoch 12/20\n",
      "4002/4002 [==============================] - 3s 871us/step - loss: 0.0831 - acc: 0.9715 - val_loss: 0.5511 - val_acc: 0.8584\n",
      "Epoch 13/20\n",
      "4002/4002 [==============================] - 4s 906us/step - loss: 0.0581 - acc: 0.9818 - val_loss: 0.6565 - val_acc: 0.8292\n",
      "Epoch 14/20\n",
      "4002/4002 [==============================] - 4s 982us/step - loss: 0.0411 - acc: 0.9850 - val_loss: 0.5428 - val_acc: 0.8315\n",
      "Epoch 15/20\n",
      "4002/4002 [==============================] - 4s 952us/step - loss: 0.0306 - acc: 0.9895 - val_loss: 0.5377 - val_acc: 0.8382: 2s - loss: 0.0335 - acc: 0.98 - ETA: 2s - los\n",
      "Epoch 16/20\n",
      "4002/4002 [==============================] - 4s 993us/step - loss: 0.0285 - acc: 0.9918 - val_loss: 0.4932 - val_acc: 0.8472\n",
      "Epoch 17/20\n",
      "4002/4002 [==============================] - 4s 933us/step - loss: 0.0243 - acc: 0.9938 - val_loss: 0.4052 - val_acc: 0.8562\n",
      "Epoch 18/20\n",
      "4002/4002 [==============================] - 4s 935us/step - loss: 0.0308 - acc: 0.9903 - val_loss: 0.4794 - val_acc: 0.8382\n",
      "Epoch 19/20\n",
      "4002/4002 [==============================] - 4s 910us/step - loss: 0.0289 - acc: 0.9880 - val_loss: 0.4961 - val_acc: 0.8539\n",
      "Epoch 20/20\n",
      "4002/4002 [==============================] - 4s 949us/step - loss: 0.0343 - acc: 0.9898 - val_loss: 0.6359 - val_acc: 0.8360\n"
     ]
    }
   ],
   "source": [
    "history4 = model.fit(\n",
    "    X_train, y_train,\n",
    "    epochs=20,\n",
    "    batch_size=100,\n",
    "    validation_split = 0.1,\n",
    "    shuffle=False\n",
    ")"
   ]
  },
  {
   "cell_type": "code",
   "execution_count": 93,
   "metadata": {},
   "outputs": [
    {
     "name": "stdout",
     "output_type": "stream",
     "text": [
      "Train on 4002 samples, validate on 445 samples\n",
      "Epoch 1/10\n",
      "4002/4002 [==============================] - 6s 2ms/step - loss: 0.0351 - acc: 0.9898 - val_loss: 0.4687 - val_acc: 0.8584\n",
      "Epoch 2/10\n",
      "4002/4002 [==============================] - 4s 938us/step - loss: 0.0349 - acc: 0.9875 - val_loss: 0.5762 - val_acc: 0.8382\n",
      "Epoch 3/10\n",
      "4002/4002 [==============================] - 4s 891us/step - loss: 0.0257 - acc: 0.9923 - val_loss: 0.5269 - val_acc: 0.8382\n",
      "Epoch 4/10\n",
      "4002/4002 [==============================] - 4s 1ms/step - loss: 0.0206 - acc: 0.9938 - val_loss: 0.4995 - val_acc: 0.8472\n",
      "Epoch 5/10\n",
      "4002/4002 [==============================] - 6s 2ms/step - loss: 0.0164 - acc: 0.9953 - val_loss: 0.4704 - val_acc: 0.8494\n",
      "Epoch 6/10\n",
      "4002/4002 [==============================] - 3s 858us/step - loss: 0.0136 - acc: 0.9975 - val_loss: 0.5271 - val_acc: 0.8449\n",
      "Epoch 7/10\n",
      "4002/4002 [==============================] - 4s 899us/step - loss: 0.0126 - acc: 0.9968 - val_loss: 0.5421 - val_acc: 0.8472\n",
      "Epoch 8/10\n",
      "4002/4002 [==============================] - 4s 887us/step - loss: 0.0086 - acc: 0.9988 - val_loss: 0.5771 - val_acc: 0.8517\n",
      "Epoch 9/10\n",
      "4002/4002 [==============================] - 3s 868us/step - loss: 0.0082 - acc: 0.9988 - val_loss: 0.5450 - val_acc: 0.8539\n",
      "Epoch 10/10\n",
      "4002/4002 [==============================] - 3s 852us/step - loss: 0.0086 - acc: 0.9980 - val_loss: 0.5515 - val_acc: 0.8539\n"
     ]
    }
   ],
   "source": [
    "history5 = model.fit(\n",
    "    X_train, y_train,\n",
    "    epochs=10,\n",
    "    batch_size=100,\n",
    "    validation_split = 0.1,\n",
    "    shuffle=False\n",
    ")"
   ]
  },
  {
   "cell_type": "code",
   "execution_count": 94,
   "metadata": {},
   "outputs": [
    {
     "name": "stdout",
     "output_type": "stream",
     "text": [
      "473/473 [==============================] - 1s 2ms/step\n"
     ]
    },
    {
     "data": {
      "text/plain": [
       "[5.639184803589706, 0.43763214349746704]"
      ]
     },
     "execution_count": 94,
     "metadata": {},
     "output_type": "execute_result"
    }
   ],
   "source": [
    "model.evaluate(X_test, y_test)"
   ]
  },
  {
   "cell_type": "code",
   "execution_count": 95,
   "metadata": {},
   "outputs": [
    {
     "data": {
      "text/plain": [
       "array([[[-0.02049177,  0.0510038 , -0.02631578],\n",
       "        [ 1.00204921, -0.99945741,  1.00263158],\n",
       "        [-0.125     ,  0.        ,  0.01447368],\n",
       "        ...,\n",
       "        [ 0.01844266,  0.00108522, -0.06052632],\n",
       "        [ 1.01639337, -1.02333152,  1.05131584],\n",
       "        [-0.08811475,  0.00759631,  0.02500002]],\n",
       "\n",
       "       [[ 1.00204921, -0.99945741,  1.00263158],\n",
       "        [-0.125     ,  0.        ,  0.01447368],\n",
       "        [-0.14344259,  0.0086815 , -0.00921053],\n",
       "        ...,\n",
       "        [ 1.01639337, -1.02333152,  1.05131584],\n",
       "        [-0.08811475,  0.00759631,  0.02500002],\n",
       "        [ 0.94262288, -0.97992396,  0.97763162]],\n",
       "\n",
       "       [[-0.125     ,  0.        ,  0.01447368],\n",
       "        [-0.14344259,  0.0086815 , -0.00921053],\n",
       "        [-0.06762292,  0.00542594,  0.00394739],\n",
       "        ...,\n",
       "        [-0.08811475,  0.00759631,  0.02500002],\n",
       "        [ 0.94262288, -0.97992396,  0.97763162],\n",
       "        [-0.04303275,  0.03906674, -0.0131579 ]],\n",
       "\n",
       "       ...,\n",
       "\n",
       "       [[-0.04098357,  0.01302228, -0.02894735],\n",
       "        [-0.04098357, -0.01519262, -0.05657895],\n",
       "        [-0.09836062,  0.00434078,  0.01447368],\n",
       "        ...,\n",
       "        [-0.04508197,  0.02061856,  0.0276316 ],\n",
       "        [ 1.00614751, -1.00488334,  1.00789478],\n",
       "        [-0.04303275,  0.01410743, -0.03289474]],\n",
       "\n",
       "       [[-0.04098357, -0.01519262, -0.05657895],\n",
       "        [-0.09836062,  0.00434078,  0.01447368],\n",
       "        [ 0.04713118, -0.01519262, -0.02236842],\n",
       "        ...,\n",
       "        [ 1.00614751, -1.00488334,  1.00789478],\n",
       "        [-0.04303275,  0.01410743, -0.03289474],\n",
       "        [-0.09221308,  0.0423223 , -0.05263156]],\n",
       "\n",
       "       [[-0.09836062,  0.00434078,  0.01447368],\n",
       "        [ 0.04713118, -0.01519262, -0.02236842],\n",
       "        [-0.00819672, -0.01193706, -0.06710527],\n",
       "        ...,\n",
       "        [-0.04303275,  0.01410743, -0.03289474],\n",
       "        [-0.09221308,  0.0423223 , -0.05263156],\n",
       "        [-0.09631148,  0.02170374, -0.03157893]]])"
      ]
     },
     "execution_count": 95,
     "metadata": {},
     "output_type": "execute_result"
    }
   ],
   "source": [
    "X_test"
   ]
  },
  {
   "cell_type": "code",
   "execution_count": 96,
   "metadata": {},
   "outputs": [
    {
     "data": {
      "text/plain": [
       "(473, 3)"
      ]
     },
     "execution_count": 96,
     "metadata": {},
     "output_type": "execute_result"
    }
   ],
   "source": [
    "y_pred = model.predict(X_test)\n",
    "y_test.shape"
   ]
  },
  {
   "cell_type": "code",
   "execution_count": 70,
   "metadata": {},
   "outputs": [
    {
     "data": {
      "text/plain": [
       "[0.9141980829327062,\n",
       " 0.907750957849799,\n",
       " 0.9097317630561932,\n",
       " 0.905002228800265,\n",
       " 0.9015053611347402,\n",
       " 0.8962539502348321,\n",
       " 0.8907088796416859,\n",
       " 0.8932486957219289,\n",
       " 0.8837857172526102,\n",
       " 0.8796706377179071,\n",
       " 0.8736947010243791,\n",
       " 0.8672293848183559,\n",
       " 0.8577196943587151,\n",
       " 0.8496847873565735,\n",
       " 0.8429407067801701,\n",
       " 0.8352916228181418,\n",
       " 0.8236341443376384,\n",
       " 0.8020595073521226,\n",
       " 0.7846938320423947,\n",
       " 0.7752226623876401]"
      ]
     },
     "execution_count": 70,
     "metadata": {},
     "output_type": "execute_result"
    }
   ],
   "source": [
    "history1.history['loss']"
   ]
  },
  {
   "cell_type": "code",
   "execution_count": 45,
   "metadata": {},
   "outputs": [
    {
     "data": {
      "text/plain": [
       "<matplotlib.legend.Legend at 0x2031b63ccc8>"
      ]
     },
     "execution_count": 45,
     "metadata": {},
     "output_type": "execute_result"
    },
    {
     "data": {
      "image/png": "[encoded data removed]",
      "text/plain": [
       "<Figure size 432x288 with 1 Axes>"
      ]
     },
     "metadata": {
      "needs_background": "light"
     },
     "output_type": "display_data"
    }
   ],
   "source": [
    "import matplotlib.pyplot as plt\n",
    "plt.plot(history.history['loss'],label='train')\n",
    "plt.plot(history.history['val_loss'],label='Validation')\n",
    "plt.legend()"
   ]
  },
  {
   "cell_type": "code",
   "execution_count": 71,
   "metadata": {},
   "outputs": [
    {
     "data": {
      "text/plain": [
       "<matplotlib.legend.Legend at 0x2031de343c8>"
      ]
     },
     "execution_count": 71,
     "metadata": {},
     "output_type": "execute_result"
    },
    {
     "data": {
      "image/png": "[encoded data removed]",
      "text/plain": [
       "<Figure size 432x288 with 1 Axes>"
      ]
     },
     "metadata": {
      "needs_background": "light"
     },
     "output_type": "display_data"
    }
   ],
   "source": [
    "import matplotlib.pyplot as plt\n",
    "plt.plot(history1.history['loss'],label='train')\n",
    "plt.plot(history1.history['val_loss'],label='Validation')\n",
    "plt.legend()"
   ]
  },
  {
   "cell_type": "code",
   "execution_count": 83,
   "metadata": {},
   "outputs": [
    {
     "data": {
      "text/plain": [
       "<matplotlib.legend.Legend at 0x2031e4dbc48>"
      ]
     },
     "execution_count": 83,
     "metadata": {},
     "output_type": "execute_result"
    },
    {
     "data": {
      "image/png": "[encoded data removed]",
      "text/plain": [
       "<Figure size 432x288 with 1 Axes>"
      ]
     },
     "metadata": {
      "needs_background": "light"
     },
     "output_type": "display_data"
    }
   ],
   "source": [
    "import matplotlib.pyplot as plt\n",
    "plt.plot(history3.history['loss'],label='train')\n",
    "plt.plot(history3.history['val_loss'],label='Validation')\n",
    "plt.legend()"
   ]
  },
  {
   "cell_type": "code",
   "execution_count": 87,
   "metadata": {},
   "outputs": [
    {
     "data": {
      "text/plain": [
       "{'val_loss': [0.09259278310483761,\n",
       "  0.12205446670564372,\n",
       "  0.10616633296012878,\n",
       "  0.12098253769486138,\n",
       "  0.10896331013253566,\n",
       "  0.14000127975190624,\n",
       "  0.12679713047789723,\n",
       "  0.10584566846824764,\n",
       "  0.12028096850668446,\n",
       "  0.11015319941418894,\n",
       "  0.11280853468715475,\n",
       "  0.12611670884188642,\n",
       "  0.12563098046217072,\n",
       "  0.14198584310459286,\n",
       "  0.14375778689478222,\n",
       "  0.1359973265213913,\n",
       "  0.19839942488777504,\n",
       "  0.23672544654835476,\n",
       "  0.269635159313009,\n",
       "  0.21117509097865458,\n",
       "  0.21210043776905937,\n",
       "  0.2079137387905228,\n",
       "  0.22459841067536493,\n",
       "  0.2619229464718465,\n",
       "  0.20584378651018892,\n",
       "  0.26580189168453217,\n",
       "  0.2842598833729712,\n",
       "  0.3231431217340941,\n",
       "  0.37933323348171255,\n",
       "  0.40187843336483065,\n",
       "  0.33351932884602065,\n",
       "  0.329312557584784,\n",
       "  0.38835818965113567,\n",
       "  0.3074711023756627,\n",
       "  0.30257276872570593],\n",
       " 'val_acc': [0.9730337262153625,\n",
       "  0.9640449285507202,\n",
       "  0.9595505595207214,\n",
       "  0.9438202381134033,\n",
       "  0.9640449285507202,\n",
       "  0.9505618214607239,\n",
       "  0.9505618214607239,\n",
       "  0.9595505595207214,\n",
       "  0.9528089761734009,\n",
       "  0.966292142868042,\n",
       "  0.9505618214607239,\n",
       "  0.9528089761734009,\n",
       "  0.9483146071434021,\n",
       "  0.9460673928260803,\n",
       "  0.9460673928260803,\n",
       "  0.9483146071434021,\n",
       "  0.9370786547660828,\n",
       "  0.9168539047241211,\n",
       "  0.898876428604126,\n",
       "  0.934831440448761,\n",
       "  0.9213483333587646,\n",
       "  0.9303370714187622,\n",
       "  0.9191011190414429,\n",
       "  0.901123583316803,\n",
       "  0.9146067500114441,\n",
       "  0.9101123809814453,\n",
       "  0.9123595356941223,\n",
       "  0.901123583316803,\n",
       "  0.8831460475921631,\n",
       "  0.8651685118675232,\n",
       "  0.8853932619094849,\n",
       "  0.901123583316803,\n",
       "  0.8741573095321655,\n",
       "  0.8966292142868042,\n",
       "  0.9056179523468018],\n",
       " 'loss': [0.06939105487529604,\n",
       "  0.13024920666265,\n",
       "  0.09138838593023775,\n",
       "  0.06554060838911785,\n",
       "  0.05978058281068135,\n",
       "  0.054989207660513365,\n",
       "  0.05512156358513719,\n",
       "  0.050155701934649,\n",
       "  0.04026411547271329,\n",
       "  0.030063454622355313,\n",
       "  0.027835136852173627,\n",
       "  0.028284348568432024,\n",
       "  0.021707015277385926,\n",
       "  0.024429061561552508,\n",
       "  0.026611426361190828,\n",
       "  0.030283821801860247,\n",
       "  0.03715149218147655,\n",
       "  0.04984033611625815,\n",
       "  0.0723010928612094,\n",
       "  0.05539079866534832,\n",
       "  0.042961441740944704,\n",
       "  0.031236768519753415,\n",
       "  0.03477353836758353,\n",
       "  0.029902861809267475,\n",
       "  0.025594399398876245,\n",
       "  0.031524165125069455,\n",
       "  0.029413743579092336,\n",
       "  0.041130394169841565,\n",
       "  0.05555694030922421,\n",
       "  0.039686244611963226,\n",
       "  0.026064109279648348,\n",
       "  0.023719935904084586,\n",
       "  0.02054785321225031,\n",
       "  0.022390562624587718,\n",
       "  0.021598467684281326],\n",
       " 'acc': [0.9777611,\n",
       "  0.95727134,\n",
       "  0.9697651,\n",
       "  0.98125935,\n",
       "  0.9807596,\n",
       "  0.98225886,\n",
       "  0.9810095,\n",
       "  0.986007,\n",
       "  0.98925537,\n",
       "  0.9935033,\n",
       "  0.99475265,\n",
       "  0.992004,\n",
       "  0.9957521,\n",
       "  0.9945027,\n",
       "  0.994003,\n",
       "  0.99150425,\n",
       "  0.9897551,\n",
       "  0.9862569,\n",
       "  0.97526234,\n",
       "  0.9797601,\n",
       "  0.984008,\n",
       "  0.9907546,\n",
       "  0.99050474,\n",
       "  0.9912544,\n",
       "  0.9930035,\n",
       "  0.9910045,\n",
       "  0.9912544,\n",
       "  0.98725635,\n",
       "  0.9842579,\n",
       "  0.9867566,\n",
       "  0.9930035,\n",
       "  0.99325335,\n",
       "  0.99425286,\n",
       "  0.99425286,\n",
       "  0.99475265]}"
      ]
     },
     "execution_count": 87,
     "metadata": {},
     "output_type": "execute_result"
    }
   ],
   "source": [
    "history3.history[]"
   ]
  },
  {
   "cell_type": "code",
   "execution_count": 88,
   "metadata": {},
   "outputs": [
    {
     "data": {
      "text/plain": [
       "<matplotlib.legend.Legend at 0x2031f5bf508>"
      ]
     },
     "execution_count": 88,
     "metadata": {},
     "output_type": "execute_result"
    },
    {
     "data": {
      "image/png": "[encoded data removed]",
      "text/plain": [
       "<Figure size 432x288 with 1 Axes>"
      ]
     },
     "metadata": {
      "needs_background": "light"
     },
     "output_type": "display_data"
    }
   ],
   "source": [
    "import matplotlib.pyplot as plt\n",
    "plt.plot(history3.history['acc'],label='train')\n",
    "plt.plot(history3.history['val_acc'],label='Validation')\n",
    "plt.legend()"
   ]
  },
  {
   "cell_type": "code",
   "execution_count": 46,
   "metadata": {},
   "outputs": [
    {
     "name": "stdout",
     "output_type": "stream",
     "text": [
      "Model: \"sequential_1\"\n",
      "_________________________________________________________________\n",
      "Layer (type)                 Output Shape              Param #   \n",
      "=================================================================\n",
      "bidirectional_1 (Bidirection (None, 256)               135168    \n",
      "_________________________________________________________________\n",
      "dropout_1 (Dropout)          (None, 256)               0         \n",
      "_________________________________________________________________\n",
      "dense_1 (Dense)              (None, 128)               32896     \n",
      "_________________________________________________________________\n",
      "dense_2 (Dense)              (None, 3)                 387       \n",
      "=================================================================\n",
      "Total params: 168,451\n",
      "Trainable params: 168,451\n",
      "Non-trainable params: 0\n",
      "_________________________________________________________________\n"
     ]
    }
   ],
   "source": [
    "model.summary()"
   ]
  },
  {
   "cell_type": "code",
   "execution_count": 74,
   "metadata": {},
   "outputs": [],
   "source": [
    "from sklearn.metrics import confusion_matrix\n",
    "\n",
    "def plot_cm(y_true, y_pred, class_names):\n",
    "  cm = confusion_matrix(y_true, y_pred)\n",
    "  fig, ax = plt.subplots(figsize=(19, 8)) \n",
    "  ax = sns.heatmap(\n",
    "      cm, \n",
    "      annot=True, \n",
    "      fmt=\"d\", \n",
    "      cmap=sns.diverging_palette(220, 20, n=7),\n",
    "      ax=ax\n",
    "  )\n",
    "\n",
    "  plt.ylabel('Actual')\n",
    "  plt.xlabel('Predicted')\n",
    "  ax.set_xticklabels(class_names)\n",
    "  ax.set_yticklabels(class_names)\n",
    "  b, t = plt.ylim() # discover the values for bottom and top\n",
    "  b += 0.5 # Add 0.5 to the bottom\n",
    "  t -= 0.5 # Subtract 0.5 from the top\n",
    "  plt.ylim(b, t) # update the ylim(bottom, top) values\n",
    "  plt.show() # ta-da!"
   ]
  },
  {
   "cell_type": "code",
   "execution_count": 75,
   "metadata": {},
   "outputs": [
    {
     "data": {
      "image/png": "[encoded data removed]",
      "text/plain": [
       "<Figure size 1368x576 with 2 Axes>"
      ]
     },
     "metadata": {
      "needs_background": "light"
     },
     "output_type": "display_data"
    }
   ],
   "source": [
    "plot_cm(\n",
    "  encoder.inverse_transform(y_test),\n",
    "  encoder.inverse_transform(y_pred),\n",
    "  encoder.categories_[0]\n",
    ")"
   ]
  },
  {
   "cell_type": "code",
   "execution_count": 78,
   "metadata": {},
   "outputs": [
    {
     "data": {
      "image/png": "[encoded data removed]",
      "text/plain": [
       "<Figure size 1368x576 with 2 Axes>"
      ]
     },
     "metadata": {
      "needs_background": "light"
     },
     "output_type": "display_data"
    }
   ],
   "source": [
    "plot_cm(\n",
    "  encoder.inverse_transform(y_test),\n",
    "  encoder.inverse_transform(y_pred),\n",
    "  encoder.categories_[0]\n",
    ")"
   ]
  },
  {
   "cell_type": "code",
   "execution_count": 85,
   "metadata": {},
   "outputs": [
    {
     "data": {
      "image/png": "[encoded data removed]",
      "text/plain": [
       "<Figure size 1368x576 with 2 Axes>"
      ]
     },
     "metadata": {
      "needs_background": "light"
     },
     "output_type": "display_data"
    }
   ],
   "source": [
    "plot_cm(\n",
    "  encoder.inverse_transform(y_test),\n",
    "  encoder.inverse_transform(y_pred),\n",
    "  encoder.categories_[0]\n",
    ")"
   ]
  },
  {
   "cell_type": "code",
   "execution_count": null,
   "metadata": {},
   "outputs": [],
   "source": []
  }
 ],
 "metadata": {
  "kernelspec": {
   "display_name": "Python 3",
   "language": "python",
   "name": "python3"
  },
  "language_info": {
   "codemirror_mode": {
    "name": "ipython",
    "version": 3
   },
   "file_extension": ".py",
   "mimetype": "text/x-python",
   "name": "python",
   "nbconvert_exporter": "python",
   "pygments_lexer": "ipython3",
   "version": "3.7.6"
  }
 },
 "nbformat": 4,
 "nbformat_minor": 4
}
